{
 "cells": [
  {
   "cell_type": "markdown",
   "metadata": {},
   "source": [
    "**Materiály vznikají průběžně a jsou bez záruky - prosím o report chyb :-)**"
   ]
  },
  {
   "cell_type": "code",
   "execution_count": 1,
   "metadata": {},
   "outputs": [],
   "source": [
    "import numpy as np\n",
    "import matplotlib.pyplot as plt\n",
    "from scipy.special import binom, factorial\n",
    "import sys; sys.path.append('zdrojaky')\n",
    "from ping import *"
   ]
  },
  {
   "cell_type": "markdown",
   "metadata": {},
   "source": [
    "# Téma 3: Náhodná veličina"
   ]
  },
  {
   "cell_type": "markdown",
   "metadata": {},
   "source": [
    "**Jak vlastně koukáme na to, co padne na kostce?**\n",
    "\n",
    "...že bychom vlastně dělali v hlavě nějakou transformaci, aniž si to uvědomujeme?\n",
    "\n",
    "![nvkostka](img/nv-kostka2.jpg)\n",
    "\n",
    "---"
   ]
  },
  {
   "cell_type": "markdown",
   "metadata": {},
   "source": [
    "**Házíme dvěma mincemi, zajímají nás případy 2x orel, mix, 2x panna**\n",
    "\n",
    "\n",
    "|$\\omega$ | PP | PO | OP | OO|\n",
    "|---|---|---|---|---|\n",
    "|$P(\\omega)$ | $\\frac{1}{4}$ |  $\\frac{1}{4}$ | $\\frac{1}{4}$ | $\\frac{1}{4}$ |\n",
    "\n",
    "OK, takže pro 3 zajímavé případy s pstmi $\\frac{1}{4}, \\frac{1}{2}, \\frac{1}{4}$ musíme počítat se čtyřmi jevy. A ještě zapisovat, že nehomogenní výsledek *mix* je vlastně ze dvou případů (když nás to vůbec nezajímá).\n",
    "\n",
    "A co když budeme mít mincí tisíc a budou nás zajímat jevy \"samé panny\", \"samí orli\", \"vše ostatní\"? My nechceme dělat kombinatoriku...\n",
    "\n",
    "---"
   ]
  },
  {
   "cell_type": "markdown",
   "metadata": {},
   "source": [
    "**Ping na server**\n",
    "\n",
    "Pingáme server a rozdělujeme si ping do kategorií:\n",
    "\n",
    "\n",
    "| čas odezvy (ms) | [0, 10) | [10, 20) | [20, 30) | ... | [100, 110) | ... | bez návratu |\n",
    "|---|---|---|---|---|---|---|---|\n",
    "|Počet | 12 | 32 | 433| ... | 322 | ... | 13 |\n",
    "|Pst | 0.05 | 0.08 | 0.21 | ... | .19 | ... | 0.05 |\n",
    "\n",
    "- Když budeme chtít vědět, kolik pingů je menších než 95ms, tak se upíšeme.\n",
    "- A co teprve, když budeme chtít jemnější dělení do více kategorií\n",
    "- ...třeba při nekonečně jemném dělení - což neumíme - ale můžeme jít po jednotlivých milisekundách, a to už je dost."
   ]
  },
  {
   "cell_type": "markdown",
   "metadata": {},
   "source": [
    "## Náhodná veličina - na jevy elegantně\n",
    "\n",
    "> **Definice: Náhodná veličina (reálná)**\n",
    ">\n",
    "> Buď $(\\Omega, \\mathcal{F}, P)$ pravděpodobnostní prostor a $(\\mathbb{R},\\mathcal{B})$ prostor reálných čísel vybavený $\\sigma$-algebrou $\\mathcal{B}$. Náhodná veličina $X$ je měřitelná funkce $X:\\Omega \\to \\mathbb{R}$ taková, že pro každou množinu $B\\in\\mathcal{B}$ je její vzor $X^{-1}(B) \\in \\mathcal{F}$, kde $X^{-1}(B)=\\{w: X(\\omega)\\in B\\}$.\n",
    "\n",
    "**Na přednášce jste mohli dostat definici jinou. Bude ekvivalentní, ale držte se formalismu z přednášek.**\n",
    "\n",
    "**Co to tedy máme v uvedené definici?**\n",
    "\n",
    "- $(\\Omega, \\mathcal{F}, P)$ už známe, to je pravděpobnostní prostor. V $\\Omega$ najdeme všechny elementární jevy, v $\\sigma$-algebře (co to je?) $\\mathcal{F}$ všechny jevy (vč. neelementárních), které nás zajímají a $P$ je pravděpodobnostní míra.\n",
    "- $(\\mathbb{R},\\mathcal{B})$ je něco podobného, akorát tu máme reálná čísla (množina $\\mathbb{R}$), a $\\mathcal{B}$ je $\\sigma$-algebra generovaná všemi otevřenými množinami na $\\mathbb{R}$ (tzv. borelovská). I singleton - tedy jediné číslo - je množina v $\\mathcal{B}$. Kontrolní otázka: patří do $\\mathcal{B}$ uzavřené množiny? (definice $\\sigma$-algebry dává odpověď).\n",
    "- Podle definice náhodná veličina $X$ zobrazuje $\\Omega$ na $\\mathbb{R}$. Třeba symboly kostky na {1,...,6}.\n",
    "- Podle definice, když si z $\\mathcal{B}$ vezmu nějakou množinu, tak jejím vzorem pod $X$ - tedy $X^{-1}(B)$ - je nějaká množina v $\\sigma$-algebře $\\mathcal{F}$. Takže k výroku \"Padla šestka\" si každý domyslí \"šest puntíků\", provede si inverzní zobrazení z 6 žijící v $\\mathcal{B}$ na ty puntíky v $\\mathcal{F}$. Ne vždy je to takhle jednoduché, ale pro představu by to mělo stačit.\n",
    "\n",
    "**Co to tedy je, ta náhodná veličina?**\n",
    "- **jednoduše:** je to způsob, jak si zjednodušit počítání s jevy, neboť přiřazuje číselné označení jevům. Vezmeme-li dny v roce jako elementární jevy, určitě je pohodlnější uvažovat {1,...,365} než {1.1. - 30.12.} A jde to dál, prostřední den v roce vidíme rovnou, že je 183. Ale kdo ví, který to je datumově? ;)\n",
    "- **pěkně:** je to měřitelné zobrazení z $\\Omega$ na množinu reálných čísel vybavených rovněž $\\sigma$-algebrou (borelovskou - i odsud ta nerovnost).\n",
    "\n",
    "### Příklady:\n",
    "\n",
    "1. **Kostka** - to už jsme rozebrali výše, ale představme si třeba, že házíme na \"sudá čísla\" a \"lichá čísla\" a nic jiného. Jak bychom mohli zavést náhodnou veličinu? A co ty $\\sigma$ algebry na obou stranách zobrazení?\n",
    "2. **2 kostky z příkladu výše** - jak bychom zavedli náhodnou veličinu? Kolik bude mít hodnot? A co $\\sigma$-algebry?\n",
    "3. **Příklad s pingem výše** - jak bychom se postarali o nekonečné dělení času odezvy?"
   ]
  },
  {
   "cell_type": "markdown",
   "metadata": {},
   "source": [
    "> **Definice: Diskrétní náhodná veličina**\n",
    ">\n",
    "> Náhodná veličina $X$ se nazývá **diskrétní**, jestliže nabývá hodnot z nějaké nejvýše spočetné množiny $\\{x_1, x_2,\\ldots\\} \\subset \\mathbb{R}$.\n",
    "\n",
    "**Úkol: Vymyslete pár příkladů na diskrétní náhodnou veličinu.**"
   ]
  },
  {
   "cell_type": "markdown",
   "metadata": {},
   "source": [
    "### Příklad - ping\n",
    "\n",
    "Podíváme se ještě jednou na ping (ICMP Echo Request), pro jednoduchost si situaci rozdělíme na dva případy - *úspěch* a *neúspěch*, podle toho, zda se vrátila odpověď (ICMP Echo Reply). Bude celkem rozumné si označit:\n",
    "- 0 - odpověď nepřišla, $\\omega_1$,\n",
    "- 1 - odpověď přišla, $\\omega_2$.\n",
    "\n",
    "Máme tedy **náhodnou veličinu** o dvou hodnotách:\n",
    "$$\n",
    "X(\\omega) = X =\n",
    "\\begin{cases}\n",
    "0 & \\text{neúspěch},\\\\\n",
    "1 & \\text{úspěch}.\n",
    "\\end{cases}\n",
    "$$\n",
    "\n",
    "$\\sigma$-algebry si sestavte za domácí úkol. Jdeme pingat server a vykreslíme si absolutní a relativní četnosti."
   ]
  },
  {
   "cell_type": "code",
   "execution_count": 2,
   "metadata": {},
   "outputs": [
    {
     "name": "stdout",
     "output_type": "stream",
     "text": [
      "Prvních 10 pingů:  [1 1 0 1 0 1 1 1 0 1]\n",
      "Neúspěchů: 289\n",
      "Úspěchů: 711\n"
     ]
    },
    {
     "data": {
      "image/png": "[encoded data removed]",
      "text/plain": [
       "<Figure size 1080x216 with 2 Axes>"
      ]
     },
     "metadata": {
      "needs_background": "light"
     },
     "output_type": "display_data"
    }
   ],
   "source": [
    "npings = 1000\n",
    "X = ping_server(npings)\n",
    "print('Prvních 10 pingů: ', X[:10])\n",
    "X0 = np.sum(X==0)\n",
    "X1 = np.sum(X==1)\n",
    "print('Neúspěchů: {0}\\nÚspěchů: {1}'.format(X0, X1))\n",
    "plt.figure(figsize=(15,3))\n",
    "plt.subplot(121)\n",
    "plt.stem([X0, X1])\n",
    "plt.xticks([0, 1])\n",
    "plt.title('Absolutní četnosti')\n",
    "plt.subplot(122)\n",
    "plt.stem([X0/npings, X1/npings])\n",
    "plt.xticks([0, 1])\n",
    "plt.title('Relativní četnosti')\n",
    "plt.show()"
   ]
  },
  {
   "cell_type": "markdown",
   "metadata": {},
   "source": [
    "Vezmeme-li pravděpodobnost $P(X = x)$ jako funkci $x$, potom mluvíme o **pravděpodobnostní funkci** či **diskrétní hustotě** náhodné veličiny $X$. Platí, že $P(X=x)=0$ pro $x\\ne x_k$ kde $k=1,2,\\ldots$ I proto jsou mezi tykadly v obrázku nuly, stejně jako všude jinde. Onen obrázek vpravo je empirická pravděpodobnostní funkce, k **teoretické** - o které bude **vždy** řeč - bychom se dostali v limitě odhadem z nekonečně mnoha dat.\n",
    "\n",
    "Pravděpodobnostní funkce je anglicky [probability mass function (pmf)](https://...)."
   ]
  },
  {
   "cell_type": "markdown",
   "metadata": {},
   "source": [
    "### 1 ping (jeden pokus)\n",
    "Odhadneme si nyní pravděpodobnost, že nastane úspěch v jednom pingu:"
   ]
  },
  {
   "cell_type": "code",
   "execution_count": 3,
   "metadata": {},
   "outputs": [
    {
     "name": "stdout",
     "output_type": "stream",
     "text": [
      "Odhadnutá pravděpodobnost z 1000 dat je p=0.711.\n"
     ]
    }
   ],
   "source": [
    "p = X1/npings\n",
    "print(\"Odhadnutá pravděpodobnost z {0} dat je p={1:.3f}.\".format(npings, p))"
   ]
  },
  {
   "cell_type": "markdown",
   "metadata": {},
   "source": [
    "Připomeňme, že náhodnou veličinu pro jeden pokus (ping) jsme zavedli takto:\n",
    "$$\n",
    "X(\\omega) = X =\n",
    "\\begin{cases}\n",
    "0 & \\text{neúspěch},\\\\\n",
    "1 & \\text{úspěch}.\n",
    "\\end{cases}\n",
    "$$\n",
    "\n",
    "Čemu je rovná pravděpodobnost, že $X=1$ a $X=0$?\n",
    "\n",
    "$$\n",
    "\\begin{aligned}\n",
    "P(X=1) &= p, \\\\\n",
    "P(X=0) &= 1-p.\n",
    "\\end{aligned}\n",
    "$$\n",
    "\n",
    "Spojme to nyní do jednoho vzorečku - jak?\n",
    "\n",
    "$$\n",
    "P(X=x) = p^x(1-p)^{1-x}\\qquad\\text{(ověřte)}.\n",
    "$$\n",
    "\n",
    "Máme tedy **kompletní předpis pro pravděpodobnostní funkci veličiny $X$** a víme, že bude platit pro všechny experimenty, které mohou vyústit ve dva stavy, jimž můžeme přidělit 0 a 1, a které jsou determinovány jen pravděpodobností $p$. Takovéhle případy, resp. náhodné veličiny, mají **Bernoulliho (též alternativní) rozdělení s parametrem $p$** a píšeme\n",
    "\n",
    "$$\n",
    "X \\sim \\mathrm{Be}(p), \\qquad p\\in[0,1].\n",
    "$$\n",
    "\n",
    "Někdy se píše Ber(p), jindy Bernoulli(p), někdy se do závorky dává i náhodná veličina, tedy Bernoulli(X; p), na tom nesejde."
   ]
  },
  {
   "cell_type": "markdown",
   "metadata": {},
   "source": [
    "### Ping ještě jednou - $n$ pokusů, $k$ úspěchů\n",
    "\n",
    "To už jsme vlastně ozkoušeli před chvílí v simulaci. Odvoďme, jak bude vypadat převděpodobnost, že při $n$ pokusech o ping dostaneme $k$ úspěchů. Nyní máme $X=k$ a $n$ pokusů.\n",
    "\n",
    "1. V $n$ pokusech nastane s pravděpodobností $p$ úspěch $k$-krát, tedy celkem je to $p^k$.\n",
    "2. Současně ale musí nastat $n-k$ neúspěchů, to je celkem $(1-p)^{n-k}$.\n",
    "3. Pro $k$ úspěchů v $n$ pokusech existuje celá řada kombinací, konkrétně $\\binom{n}{k}$.\n",
    "4. Když to dáme všechno dohromady, dostaneme\n",
    "\n",
    "$$\n",
    "P(X=k) = \\binom{n}{k} p^k (1-p)^{n-k}.\n",
    "$$\n",
    "\n",
    "A tím jsme se dostali k druhému rozdělení, jež chceme znát - **binomické rozdělení s parametry $k\\in\\mathbb{N}_{0}, n\\in\\mathbb{N}$, kde $k\\leq n$, a $p\\in[0,1]$**. Udává pravděpodobnost $k$ úspěchů v $n$ pokusech s pstí úspěchu $p$.\n",
    "\n",
    "Toto rozdělení je ohromně užitečné. Podívejme se např. na $n=20$ pingů při různých pravděpodobnostech úspěchu $p$ - tu zkusme měnit:"
   ]
  },
  {
   "cell_type": "code",
   "execution_count": 4,
   "metadata": {},
   "outputs": [
    {
     "data": {
      "image/png": "[encoded data removed]",
      "text/plain": [
       "<Figure size 1080x216 with 1 Axes>"
      ]
     },
     "metadata": {
      "needs_background": "light"
     },
     "output_type": "display_data"
    }
   ],
   "source": [
    "n = 20\n",
    "p = 0.4\n",
    "k = np.arange(0, n+1)\n",
    "\n",
    "def p_X(n, k, p):\n",
    "    return binom(n, k) * p**k * (1-p)**(n-k)\n",
    "\n",
    "P_X_k = p_X(n, k, p)\n",
    "plt.figure(figsize=(15,3))\n",
    "plt.stem(P_X_k)\n",
    "plt.xlabel(r'$k$, počet úspěchů v n={0} pokusech'.format(n))\n",
    "plt.ylabel(r'$P(X=k)$')\n",
    "plt.title('Pravděpodobnostní funkce binomického rozdělení pro n={0} pokusů s pstí úspěchu p={1}'.format(n, p))\n",
    "plt.xticks(np.arange(n+1))\n",
    "plt.xlim(xmin=0)\n",
    "plt.show()"
   ]
  },
  {
   "cell_type": "markdown",
   "metadata": {},
   "source": [
    "Podívejme se ještě na jeden zajímavý graf - kumulativní:"
   ]
  },
  {
   "cell_type": "code",
   "execution_count": 5,
   "metadata": {},
   "outputs": [
    {
     "data": {
      "image/png": "[encoded data removed]",
      "text/plain": [
       "<Figure size 1080x216 with 1 Axes>"
      ]
     },
     "metadata": {
      "needs_background": "light"
     },
     "output_type": "display_data"
    }
   ],
   "source": [
    "F_X = P_X_k.cumsum()\n",
    "\n",
    "plt.figure(figsize=(15,3))\n",
    "plt.hlines(0, xmin=k[0]-.5, xmax=k[0], colors='b')\n",
    "for i in range(n+1):\n",
    "    plt.hlines(F_X[i], xmin=k[i], xmax=k[i]+1, colors='b')\n",
    "plt.stem(F_X, linefmt=':b')\n",
    "plt.xlim(xmin=0)\n",
    "plt.xticks(np.arange(n+1))\n",
    "plt.xlabel(r'$k$, počet úspěchů v n={0} pokusech'.format(n))\n",
    "plt.ylabel(r'$F(X=k)$')\n",
    "plt.title('Distribuční funkce binomického rozdělení pro n={0} pokusů s pstí úspěchu p={1}'.format(n, p))\n",
    "plt.show()"
   ]
  },
  {
   "cell_type": "markdown",
   "metadata": {},
   "source": [
    "Poslední uvedený graf říká, jaká je pravděpodobnost, že náhodná veličina $X$ nabývá hodnot rovných nebo menších než $x$. A to je vlastně distribuční funkce (angl. [cummulative distribution function, cdf](https://en.wikipedia.org/wiki/Cumulative_distribution_function))\n",
    "\n",
    "> **Definice: Distribuční funkce**\n",
    ">\n",
    "> Distribuční funkce náhodné veličiny $X$ je funkce definovaná vztahem\n",
    ">\n",
    "> $$\n",
    "F(x) = P(X\\leq x).\n",
    "$$\n",
    "\n",
    "A jaké má vlastnosti? Pečlivě si je rozmyslete, jsou přímočaré:\n",
    "\n",
    "> **Věta: Vlastnosti distribuční funkce**\n",
    ">\n",
    "> Distribuční funkce $F$ náhodné veličiny $X$ má následující vlastnosti:\n",
    "> 1. $\\lim_{x\\to -\\infty} F(x) = 0$,\n",
    "> 2. $\\lim_{x\\to \\infty} F(x) = 1$,\n",
    "> 3. distribuční funkce je neklesající,\n",
    "> 4. distribuční funkce je zprava spojitá, $\\lim_{y\\to x^+} F(y) = F(x)$.\n",
    "\n",
    "Z příkladu navíc plyne, že pro diskrétní případy platí\n",
    "\n",
    "$$\n",
    "F(x) = P(X\\leq x) = \\sum_{x_k \\leq x}P(X=x_k).\n",
    "$$\n",
    "\n",
    "Současně vidíme, že pro $x_a < x_b$ je $P(X \\in(x_a, x_b]) = F(x_b) - F(x_a)$."
   ]
  },
  {
   "cell_type": "markdown",
   "metadata": {},
   "source": [
    "### Co by nás ještě mohlo zajímat?\n",
    "\n",
    "Rozhodně by nás u pingu zajímalo, jaká je \"průměrná\"  nebo lépe řečeno **očekávaná** úspěšnost. Podívejme se na to následovně:\n",
    "\n",
    "1. Máme $n$ pokusů a $k \\leq n$ úspěchů. A pro každé $X=k$ máme pravděpodobnost danou pravděpodobnostní funkcí $P(X=k)$, viz obrázek.\n",
    "2. Každá z těch pravděpodobností $P(X=k)$ je vlastně relativní vahou jevu $X=k$. A tyto váhy se sumují do jedné.\n",
    "3. Tak uděláme vážený průměr :)"
   ]
  },
  {
   "cell_type": "code",
   "execution_count": 6,
   "metadata": {},
   "outputs": [
    {
     "name": "stdout",
     "output_type": "stream",
     "text": [
      "Odhad EX = 8.00\n"
     ]
    }
   ],
   "source": [
    "EX = np.sum(P_X_k * k)\n",
    "print('Odhad EX = {0:.2f}'.format(EX))"
   ]
  },
  {
   "cell_type": "markdown",
   "metadata": {},
   "source": [
    "Tento vážený průměr není nic jiného, než tzv. **střední hodnota** (někdy též očekávaná hodnota, angl. [expected value, expectation](https://en.wikipedia.org/wiki/Expected_value)).\n",
    "\n",
    "> **Definice: Střední hodnota diskrétní náhodné veličiny**\n",
    ">\n",
    "> Střední hodnota diskrétní náhodné veličiny je definována vztahem\n",
    ">\n",
    ">$$\n",
    "\\operatorname{E}X = \\sum_k x_k P(X=x_k).\n",
    "$$\n",
    "\n",
    "Střední hodnota nemusí existovat a ani nemusí být konečná, ale do takových detailů na cvičení zabíhat nebudeme. Docela fajn je už teď vědět, že aritmetický průměr konverguje ke střední hodnotě. Ta je totiž hodnotou **teoretickou** (dosažitelnou v limitě), zatímco aritmetický průměr **empirickou** (spočítanou z omezeného počtu dat). Trochu předběhněme v semestru a rovnou si řekněme, že **průměr je odhadem střední hodnoty** (což ovšem neplatí bez výjimek)."
   ]
  },
  {
   "cell_type": "markdown",
   "metadata": {},
   "source": [
    "Poslední statistickou mírou, kterou se budeme nyní zabývat, je variance, neboli rozptyl (angl. [variance](https://en.wikipedia.org/wiki/Variance)). Ta říká, jak moc jsou data koncentrována či rozptýlena okolo střední hodnoty.\n",
    "\n",
    "> **Definice: Rozptyl (variance)**\n",
    ">\n",
    "> Rozptyl náhodné veličiny $X$ je definován\n",
    ">\n",
    "> $$\n",
    "\\operatorname{var} X = \\operatorname{E}(X - \\operatorname{E} X)^2 = \\operatorname{E}X^2 - (\\operatorname{E}X)^2.\n",
    "$$\n",
    "\n",
    "Střední hodnota je tzv. **první obecný moment** (první mocnina $x_k$ a nevztahujeme k $\\operatorname{E}X$). Variance je **druhý centrální moment** (druhá mocnina a vztahujeme k $\\operatorname{E}X$, tj. centru). Často mluvíme jen o momentech, většinou je jasné, který myslíme.\n",
    "\n",
    "Pro příklad s pingem:"
   ]
  },
  {
   "cell_type": "code",
   "execution_count": 7,
   "metadata": {},
   "outputs": [
    {
     "name": "stdout",
     "output_type": "stream",
     "text": [
      "var(X) = 4.80\n"
     ]
    }
   ],
   "source": [
    "EX2 = np.sum(P_X_k * k**2)\n",
    "varX = EX2 - EX**2\n",
    "print('var(X) = {0:.2f}'.format(varX))"
   ]
  },
  {
   "cell_type": "markdown",
   "metadata": {},
   "source": [
    "Prozradíme si rovnou, že pro běžná rozdělení už nám někdo odvodil i vzorečky pro střední hodnotu a rozptyl. V případě binomického to je:\n",
    "\n",
    "$$\n",
    "\\operatorname{E}X = np, \\qquad \\operatorname{var}X=np(1-p).\n",
    "$$"
   ]
  },
  {
   "cell_type": "markdown",
   "metadata": {},
   "source": [
    "**Vykresleme si tedy definitivní podobu pravděpodobnostní funkce Bi(n,p) se zvýrazněnou střední hodnotou:**"
   ]
  },
  {
   "cell_type": "code",
   "execution_count": 8,
   "metadata": {},
   "outputs": [
    {
     "data": {
      "image/png": "[encoded data removed]",
      "text/plain": [
       "<Figure size 1080x216 with 1 Axes>"
      ]
     },
     "metadata": {
      "needs_background": "light"
     },
     "output_type": "display_data"
    }
   ],
   "source": [
    "plt.figure(figsize=(15,3))\n",
    "plt.stem(P_X_k)\n",
    "plt.xlabel(r'$k$'.format(n))\n",
    "plt.ylabel(r'$P(X=k)$')\n",
    "plt.title('Pravděpodobnostní funkce Bi({0},{1}) s momenty EX={2}, var(X)={3:.2f}'.format(n, p, EX, varX))\n",
    "plt.xticks(np.arange(n+1))\n",
    "plt.xlim(xmin=0)\n",
    "plt.axvline(EX, 0, 1, color='red')\n",
    "plt.show()"
   ]
  },
  {
   "cell_type": "markdown",
   "metadata": {},
   "source": [
    "## Další rozdělení\n",
    "\n",
    "Už jen stručně o dalších zajímavých rozděleních."
   ]
  },
  {
   "cell_type": "markdown",
   "metadata": {},
   "source": [
    "### Geometrické rozdělení $X\\sim \\mathrm{Geom}(p)$"
   ]
  },
  {
   "cell_type": "markdown",
   "metadata": {},
   "source": [
    "#### Random loadbalancing\n",
    "\n",
    "Uvažujme náhodný loadbalancing - master server rozděluje úlohy na 6 podřízených nodů tak, že pro každou nově příchozí úlohu (např. elektronickou platbu) náhodně vybere jeden z nodů a úlohu jí předá. Jelikož zpracování se děje okamžitě, není nutné sledovat zatížení a v každém jednotlivém okamžiku jsou k dispozici všechny nody. S jakou pravděpodobností bude 6. node zpracovávat až 10. úlohu?\n",
    "\n",
    "*[Nápověda: je to stejné, jako pst že šestka padne na kostce až v desátém hodu ;)]*"
   ]
  },
  {
   "cell_type": "markdown",
   "metadata": {},
   "source": [
    "*Řešení: Pravděpodobnost vybrání 6. nodu je $p=\\frac{1}{6}$. A ten má být z $k=10$ pokusů $9\\times$ nevybrán a pak vybrán, tedy\n",
    "\n",
    "$$\n",
    "P(X=10) = \\left(1-\\frac{1}{6}\\right)^9 \\cdot \\frac{1}{6}.\n",
    "$$"
   ]
  },
  {
   "cell_type": "markdown",
   "metadata": {},
   "source": [
    "#### Teoretizujme...\n",
    "\n",
    "Máme tedy případ, kdy s pravděpodobností $p$ nastává úspěch a chtějme modelovat, že nastane až v $k$. pokusu. To znamená, že předchází $(k-1)$ neúspěšných pokusů s pravděpodobností $(1-p)$ - vzpomínáte např. na příklady s urnou?\n",
    "\n",
    "Pro pravděpodobnostní funkci tedy platí\n",
    "\n",
    "$$\n",
    "P(X=k) = (1-p)^{k-1} p, \\qquad k=1,2,\\ldots\n",
    "$$\n",
    "\n",
    "Střední hodnota a rozptyl jsou dány vzorci\n",
    "\n",
    "$$\n",
    "\\operatorname{E}X = \\frac{1}{p}, \\qquad \\operatorname{var}X=\\frac{1}{p}\\left(\\frac{1}{p}-1\\right).\n",
    "$$\n",
    "\n",
    "Podívejme se na graf této funkce:"
   ]
  },
  {
   "cell_type": "code",
   "execution_count": 9,
   "metadata": {},
   "outputs": [
    {
     "data": {
      "image/png": "[encoded data removed]",
      "text/plain": [
       "<Figure size 1080x216 with 1 Axes>"
      ]
     },
     "metadata": {
      "needs_background": "light"
     },
     "output_type": "display_data"
    }
   ],
   "source": [
    "p = 1/6\n",
    "\n",
    "max_k = 20\n",
    "k = np.arange(1, max_k+1)\n",
    "P_X_k = (1-p)**(k-1) * p\n",
    "EX = 1/p\n",
    "varX = 1/p * (1/p - 1)\n",
    "\n",
    "plt.figure(figsize=(15,3))\n",
    "plt.stem(np.arange(1,max_k+1), P_X_k)\n",
    "plt.xlabel(r'$k$'.format(n))\n",
    "plt.ylabel(r'$P(X=k)$')\n",
    "plt.title('Pravděpodobnostní funkce Geom({0:.2f}) s momenty EX={1:.2f}, var(X)={2:.2f}'.format(p, EX, varX))\n",
    "plt.xticks(np.arange(1,max_k+1))\n",
    "plt.xlim(xmin=.5)\n",
    "plt.axvline(EX, 0, 1, color='red')\n",
    "plt.show()"
   ]
  },
  {
   "cell_type": "markdown",
   "metadata": {},
   "source": [
    "Geometrické rozdělení má jednu pěknou vlastnost - nemá paměť. Dole na to je příklad, nyní se spokojme s odpovědí na otázku: jaká je pravděpodobnost, že mi nyní na kostce padne šestka, když na ní předtím padlo 1,3,3 (nebo samá sudá čísla, nebo samá lichá, nebo tisíc jedniček)."
   ]
  },
  {
   "cell_type": "markdown",
   "metadata": {},
   "source": [
    "### Diskrétní rovnoměrné rozdělení $X\\sim U(a, b)$\n",
    "\n",
    "Diskrétní rovnoměrné rozdělení má jako parametry dvě celá čísla $a, b$, mezi nimiž leží $n=b-a+1$ celých čísel. Každé z nich, tedy $k\\in\\{a, a+1, \\ldots, b-1, b\\}$ má stejnou pravděpodobnost, čili pravděpodobnostní funkce je dána předpisem\n",
    "\n",
    "$$\n",
    "P(X=k) = \\frac{1}{n}, \\qquad n=b-a +1.\n",
    "$$\n",
    "\n",
    "Pro momenty platí\n",
    "\n",
    "$$\n",
    "\\operatorname{E}X = \\frac{a+b}{2}, \\qquad \\operatorname{var}X=\\frac{(b-a+1)^2-1}{12}.\n",
    "$$\n",
    "\n",
    "Toto rozdělení tedy přisuzuje všem možným realizacím stejnou pravděpodobnost. Nenechme se mást jeho jednoduchostí, použití rovnoměrného rozdělení v praxi dokáže být pravým peklem ;)\n",
    "\n",
    "Pravděpodobnostní funkce je vcelku nudná:"
   ]
  },
  {
   "cell_type": "code",
   "execution_count": 10,
   "metadata": {},
   "outputs": [
    {
     "data": {
      "image/png": "[encoded data removed]",
      "text/plain": [
       "<Figure size 1080x216 with 1 Axes>"
      ]
     },
     "metadata": {
      "needs_background": "light"
     },
     "output_type": "display_data"
    }
   ],
   "source": [
    "a = 0\n",
    "b = 20\n",
    "\n",
    "k = np.arange(a, b+1)\n",
    "P_X_k = np.ones_like(k) * 1/(b-a+1)\n",
    "EX = (a + b)/2\n",
    "varX = ((b-a+1)**2 - 1)/12\n",
    "\n",
    "plt.figure(figsize=(15,3))\n",
    "plt.stem(P_X_k)\n",
    "plt.xlabel(r'$k$'.format(n))\n",
    "plt.ylabel(r'$P(X=k)$')\n",
    "plt.title('Pravděpodobnostní funkce U({0},{1}) s momenty EX={2:.2f}, var(X)={3:.2f}'.format(a, b, EX, varX))\n",
    "plt.xticks(np.arange(n+1))\n",
    "plt.ylim(ymax=2*P_X_k[0])\n",
    "plt.axvline(EX, 0, 1, color='red')\n",
    "plt.show()"
   ]
  },
  {
   "cell_type": "markdown",
   "metadata": {},
   "source": [
    "Rovnoměrné rozdělení měla pravděpodobnost výběru každého ze šesti nodů v předchozím příkladě ;) Férová kostka je rovnoměrná, stejně tak mince."
   ]
  },
  {
   "cell_type": "markdown",
   "metadata": {},
   "source": [
    "### Poissonovo rozdělení $X\\sim \\mathrm{Po}(\\lambda)$\n",
    "\n",
    "[Poissonovo rozdělení](https://en.wikipedia.org/wiki/Poisson_distribution), též rozdělení řídkých jevů, má parametr $\\lambda>0$, též nazývaný četnost (rate). Poissonovská veličina popisuje počet $k\\in\\mathbb{N}_0$ realizací určitého jevu (např. úspěchu), přičemž tyto realizace jsou naprosto nezávislé. Rozdělení je velmi blízké binomickému, ale předpokládá výrazně větší počet pokusů než realizací (úspěchů). Obecně platí pravidlo, že binomické rozdělení s $n\\geq 20$ a současně $p\\leq 0.05$ lze dobře aproximovat Poissonovým rozdělením s $\\lambda=np$. Proto ta \"řídkost\".\n",
    "\n",
    "Pravděpodobnostní funkce: \n",
    "\n",
    "$$P(X=k) = \\frac{\\lambda^k e^{-\\lambda}}{k!}$$.\n",
    "\n",
    "Momenty:\n",
    "\n",
    "$$\n",
    "\\operatorname{E}X = \\operatorname{var}X = \\lambda.\n",
    "$$\n",
    "\n",
    "Rozdělení je populární pro popis počtu telefonních hovorů v call centru za jednotku času, počet vozidel jež projedou daným místem za jednotku času, nebo počet rozpadů radioaktivního materiálu za jednotku času.\n",
    "\n",
    "Nakreslíme si pravděpodobnostní funkci:"
   ]
  },
  {
   "cell_type": "code",
   "execution_count": 11,
   "metadata": {},
   "outputs": [
    {
     "data": {
      "image/png": "[encoded data removed]",
      "text/plain": [
       "<Figure size 1080x216 with 1 Axes>"
      ]
     },
     "metadata": {
      "needs_background": "light"
     },
     "output_type": "display_data"
    }
   ],
   "source": [
    "max_k = 20\n",
    "lambd = 10\n",
    "\n",
    "k = np.arange(1, max_k+1)\n",
    "P_X_k = lambd**k * np.exp(-lambd) / factorial(k)\n",
    "EX = lambd\n",
    "varX = lambd\n",
    "\n",
    "plt.figure(figsize=(15,3))\n",
    "plt.stem(P_X_k)\n",
    "plt.xlabel(r'$k$'.format(n))\n",
    "plt.ylabel(r'$P(X=k)$')\n",
    "plt.title('Pravděpodobnostní funkce Po({0}) s momenty EX={1:.2f}, var(X)={2:.2f}'.format(lambd, EX, varX))\n",
    "plt.xticks(np.arange(n+1))\n",
    "plt.xlim(xmin=0)\n",
    "plt.axvline(EX, 0, 1, color='red')\n",
    "plt.show()"
   ]
  },
  {
   "cell_type": "markdown",
   "metadata": {},
   "source": [
    "## Přehled vybraných diskrétních distribucí\n",
    "\n",
    "Následující tabulka obsahuje souhrn uvedených distribucí, jejich vlastností, link na wikipedii a odkazy do [scipy.stats](https://docs.scipy.org/doc/scipy/reference/stats.html), které přímo obsahuje náhodné generátory, počítá momenty atd. atd. ;)\n",
    "\n",
    "| Rozdělení | Parametry | $P(X=k)$ | $\\operatorname{E}X$ | $\\operatorname{var}X$ | `scipy` |\n",
    "|---|---|---|---|---|---|\n",
    "|[Bernoulliho](https://en.wikipedia.org/wiki/Bernoulli_distribution) | $p\\in[0,1]$ | $p^{k} (1-p)^{(1-k)}$ | $p$ | $p(1-p)$ | [`bernoulli`](https://docs.scipy.org/doc/scipy/reference/generated/scipy.stats.bernoulli.html#scipy.stats.bernoulli) |\n",
    "|[Binomické](https://en.wikipedia.org/wiki/Binomial_distribution) | $n\\in\\mathbb{N}, p\\in[0,1]$ | $\\binom{n}{k}p^k (1-p)^{n-k}$ | $np$ | $np(1-p)$ | [`binom`](https://docs.scipy.org/doc/scipy/reference/generated/scipy.stats.binom.html#scipy.stats.binom)|\n",
    "|[Geometrické](https://en.wikipedia.org/wiki/Geometric_distribution)| $p\\in[0,1]$ | $(1-p)^{k-1}p$ | $\\frac{1}{p}$ | $\\frac{1}{p}\\left(\\frac{1}{p}-1\\right)$ | [`geom`](https://docs.scipy.org/doc/scipy/reference/generated/scipy.stats.geom.html#scipy.stats.geom)|\n",
    "|[Poissonovo](https://en.wikipedia.org/wiki/Poisson_distribution#Related_distributions)| $\\lambda>0$ | $\\frac{\\lambda^k e^{-\\lambda}}{k!}$| $\\lambda$ | $\\lambda$ | [`poisson`](https://docs.scipy.org/doc/scipy/reference/generated/scipy.stats.poisson.html#scipy.stats.poisson)|\n",
    "|[Rovnoměrné disk.](https://en.wikipedia.org/wiki/Discrete_uniform_distribution)| $a,b\\in\\mathbb{Z}$ |$\\frac{1}{b-a+1}$| $\\frac{a+b}{2}$ |$\\frac{(b-a+1)^2-1}{12}$ | [`randint`](https://docs.scipy.org/doc/scipy/reference/generated/scipy.stats.randint.html#scipy.stats.randint) |\n",
    "\n",
    "Ještě by stálo za to, kdyby se horlivý student podíval na **multinomické** - to by umělo rozdělit náš ping do více kategorií (např. odezva žádná - pomalá - rychlá - superrychlá). Je blízce příbuzné binomickému a velmi jednoduché.\\|"
   ]
  },
  {
   "cell_type": "markdown",
   "metadata": {},
   "source": [
    "### Poznámka závěrem:\n",
    "\n",
    "Na začátku jsme počítali ze simulovaných dat - byla to pravděpodobnost $p$ Bernoulliho rozdělení, graf empirických četností atd. Trochu si v tom udělejme pořádek. Výběr je jen vzorkem populace, výběrové charakteristiky nám zpravidla konvergují k teoretickým, daným distribucí (to se ještě časem dozvíme).\n",
    "\n",
    "| Výběrová charakteristika | Teoretická charakteristika |\n",
    "|---|---|\n",
    "| Průměr, výběrová střední hodnota | střední hodnota |\n",
    "| Výběrová variance, výběrový rozptyl  | rozptyl |\n",
    "| Výběrová pstní funkce | pravděpodobnostní funkce |\n",
    "| Výběrová distribuční funkce | distribuční funkce |\n",
    "| Výběrové momenty | momenty |\n",
    "\n",
    "A takto bychom mohli pokračovat. Ale asi se už ujasnilo, že teoretické charakteristiky jsou vlastnosti distribuce, popisující celou populaci, zatímco výběrové jsou z výběru z této distribuce. (Ono je to navíc ještě mnohem složitější :))"
   ]
  },
  {
   "cell_type": "markdown",
   "metadata": {},
   "source": [
    "---\n",
    "\n",
    "---"
   ]
  },
  {
   "cell_type": "markdown",
   "metadata": {},
   "source": [
    "# Příklady ze cvičení"
   ]
  },
  {
   "cell_type": "markdown",
   "metadata": {},
   "source": [
    "### 4.1 Buď $F$ distribuční funkce náhodné veličiny $X$. Graficky znázorněte následující vlastnosti:\n",
    "\n",
    "- $P(X>x) = 1 - F(x)$,\n",
    "- $P(x<X\\leq y) = F(y) - F(x)$,\n",
    "- $P(X=x) = F(x) - \\lim_{y\\to x^-} F(y)$\n",
    "\n",
    "*Řešení: lehké, prostě kreslit, navíc viz přednáška.*"
   ]
  },
  {
   "cell_type": "markdown",
   "metadata": {},
   "source": [
    "### 4.2 Házíme stejnou mincí dvakrát po sobě. Uvažujeme náhodnou veličinu $X$ udávající, kolik hlav padlo při daném dvojhodu.\n",
    "\n",
    "**Načrtněte graf distribuční funkce náhodné veličiny $X$, jestliže**\n",
    "\n",
    "**a) je mince férová (viz přednáška)**\n",
    "\n",
    "**b) je mince falešná, tj. $P(H) = p \\in (0,1)$.**\n",
    "\n",
    "*Řešení: stačí napočítat pravděpodobnosti pro $k=0,1,2$ úspěchy. Řešení je v obrázku.*"
   ]
  },
  {
   "cell_type": "code",
   "execution_count": 12,
   "metadata": {},
   "outputs": [
    {
     "data": {
      "image/png": "[encoded data removed]",
      "text/plain": [
       "<Figure size 1080x216 with 1 Axes>"
      ]
     },
     "metadata": {
      "needs_background": "light"
     },
     "output_type": "display_data"
    }
   ],
   "source": [
    "n = 2\n",
    "p = 0.9\n",
    "\n",
    "k = np.arange(n+1)\n",
    "P_X_k = p_X(n, k, p)\n",
    "F_X = P_X_k.cumsum()\n",
    "\n",
    "plt.figure(figsize=(15,3))\n",
    "plt.hlines(0, xmin=k[0]-.5, xmax=k[0], colors='b')\n",
    "for i in range(n+1):\n",
    "    plt.hlines(F_X[i], xmin=k[i], xmax=k[i]+1, colors='b')\n",
    "plt.stem(F_X, linefmt=':b')\n",
    "plt.xlim(-.5, 2.5)\n",
    "plt.xticks(np.arange(n+1))\n",
    "plt.xlabel(r'$k$, počet úspěchů v n={0} pokusech'.format(n))\n",
    "plt.ylabel(r'$F(X=k)$')\n",
    "plt.title('Distribuční funkce binomického rozdělení pro n={0} pokusů s pstí úspěchu p={1}'.format(n, p))\n",
    "plt.show()"
   ]
  },
  {
   "cell_type": "markdown",
   "metadata": {},
   "source": [
    "### 4.3 Uvažujme stejnou situaci, jako v příkladu 4.2. Načrtněte graf pravděpodobnostní funkce $P(X=x)$ náhodné veličiny $X$ pro oba případy.\n",
    "\n",
    "*Řešení - analogicky :)*"
   ]
  },
  {
   "cell_type": "code",
   "execution_count": 13,
   "metadata": {},
   "outputs": [
    {
     "data": {
      "image/png": "[encoded data removed]",
      "text/plain": [
       "<Figure size 1080x216 with 1 Axes>"
      ]
     },
     "metadata": {
      "needs_background": "light"
     },
     "output_type": "display_data"
    }
   ],
   "source": [
    "n = 2\n",
    "p = 0.9\n",
    "\n",
    "k = np.arange(0, n+1)\n",
    "P_X_k = p_X(n, k, p)\n",
    "plt.figure(figsize=(15,3))\n",
    "plt.stem(P_X_k)\n",
    "plt.xlabel(r'$k$, počet úspěchů v n={0} pokusech'.format(n))\n",
    "plt.ylabel(r'$P(X=k)$')\n",
    "plt.title('Pravděpodobnostní funkce binomického rozdělení pro n={0} pokusů s pstí úspěchu p={1}'.format(n, p))\n",
    "plt.xticks(np.arange(n+1))\n",
    "plt.xlim(xmin=-0.5)\n",
    "plt.show()"
   ]
  },
  {
   "cell_type": "markdown",
   "metadata": {},
   "source": [
    "### 4.4 Automobil má na trase do garáže 3 semafory. Na každém z nich nezávisle na ostatních svítí zelená s pravděpodobností 2/3 a červená s pravděpodobností 1/3. Určete rozdělení pravděpodobnosti náhodné veličiny $X$ udávající počet semaforů, které automobil projede před prvním zastavením.\n",
    "\n",
    "*Řešení:*\n",
    "\n",
    "- *ani jeden* - $P(X=0) = \\frac{1}{3}$,\n",
    "- *právě jeden* - $P(X=1) = \\frac{2}{3} \\cdot \\frac{1}{3} = \\frac{2}{9}$,\n",
    "- *právě dva* - $P(X=2) = \\frac{2}{3} \\cdot\\frac{2}{3} \\cdot \\frac{1}{3} = \\frac{4}{27}$,\n",
    "- *všechny tři* - $P(X=3) = \\frac{2}{3} \\cdot \\frac{2}{3} \\cdot\\frac{2}{3} = \\frac{8}{27}$."
   ]
  },
  {
   "cell_type": "markdown",
   "metadata": {},
   "source": [
    "### 4.5 Určete střední hodnotu a rozptyl náhodné veličiny z příkladu 4.2, jestliže $P(H) = \\frac{1}{3}$.\n",
    "\n",
    "*Řešení:*\n",
    "\n",
    "*Buď si můžeme otrocky napočítat jednotlivé pravděpodobnosti a dosadit jako níže:*\n",
    "- $P(X=0) = \\frac{4}{9}$,\n",
    "- $P(X=1) = \\frac{4}{9}$,\n",
    "- $P(X=2) = \\frac{1}{9}$\n",
    "\n",
    "$$\n",
    "\\begin{aligned}\n",
    "\\operatorname{E}X &= \\sum_{k=1}^2 k P(X=k) = \\frac{2}{3} = n\\cdot p = 2 \\cdot \\frac{1}{3}, \\\\\n",
    "\\operatorname{var}X &= np(1-p) = \\frac{4}{9}.\n",
    "\\end{aligned}\n",
    "$$\n",
    "\n",
    "*Nebo si uvědomíme, že jde o binomickou veličinu a jen dosadíme do vzorečků, jako výše :)*"
   ]
  },
  {
   "cell_type": "markdown",
   "metadata": {},
   "source": [
    "### 4.6 Určete střední hodnou a rozptyl náhodné veličiny z příkladu 4.4.\n",
    "\n",
    "*Řešení:*\n",
    "\n",
    "*Vezmeme hodnoty z příkladu, spočítáme podle vzorce o střední hodnotě a rozptylu snadným dosazením:*\n",
    "\n",
    "$$\n",
    "\\begin{aligned}\n",
    "\\operatorname{E}X &= \\frac{38}{27}, \\\\\n",
    "\\operatorname{var}X &= \\frac{1094}{729}.\n",
    "\\end{aligned}\n",
    "$$\n",
    "\n",
    "*Pozor na to, že geometrické rozdělení uvažuje $k\\in\\mathbb{N}$, zatímco my jsme omezeni na $k\\in\\{1,2,3\\}.$*"
   ]
  },
  {
   "cell_type": "markdown",
   "metadata": {},
   "source": [
    "### 4.7\n",
    "\n",
    "**a) Načrtněte graf distribuční a pravděpodobnostní funkce rovnoměrně rozdělené náhodné veličiny nabývající hodnot {-5, 0, 1, 3}**\n",
    "\n",
    "*V každém bodě bude poměrná část pravděpodobnostní míry. Standardně ale uvažujeme rovnoměrno u posloupnosti celých čísel.*\n",
    "\n",
    "**b) Ukažte, že náhodná veličina nabývající spočetné množiny hodnot nemůže mít rovnoměrné rozdělení.**\n",
    "\n",
    "*Řešení: Uvažujme náhodnou veličinu $X$ s hodnotami $\\{x_1,\\ldots,x_\\infty\\}$. Potom:*\n",
    "\n",
    "$$\n",
    "\\sum_{k=1}^\\infty P(X=x_k) =\n",
    "\\begin{cases}\n",
    "0 &\\Leftrightarrow P(X=x_k) = 0,\\\\\n",
    "\\infty &\\Leftrightarrow P(X=x_k) > 0.\n",
    "\\end{cases}\n",
    "$$\n",
    "\n",
    "V obou případech je dosažen spor s normalizační podmínkou $\\sum_{k=1}^\\infty P(X=x_k) = 1$."
   ]
  },
  {
   "cell_type": "markdown",
   "metadata": {},
   "source": [
    "### 4.8 Tento příklad se měl změnit, musím kouknout na novou verzi."
   ]
  },
  {
   "cell_type": "markdown",
   "metadata": {},
   "source": [
    "### 4.9 Při hře \"Člověče, nezlob se\" čekáme na nasazení figurky, tzn. než padne šestka. Jako náhodnou veličinu $T$ uvažujme počet hodů, které musíme provést.\n",
    "\n",
    "**a) Jaké rozdělení má veličina $T$?**\n",
    "\n",
    "*Geometrické s $p=\\frac{1}{6}$.*\n",
    "\n",
    "**b) Jaký je očekávaný počet potřebných hodů?**\n",
    "\n",
    "$\\operatorname{E}T = 1/p = 6$.\n",
    "\n",
    "**c) Jaká je pravděpodobnost nasazení při druhém hodu, tj. $P(T=2)?$**\n",
    "\n",
    "$P(T=2) = (1-p)^{k-1} p = \\frac{5}{36}$.\n",
    "\n",
    "**d) Jaká je pravděpodobnost nenasazení ani při třetím hodu, tj. $P(T>3)?$**\n",
    "\n",
    "$(1-p)^3 = \\left(\\frac{5}{6}\\right)^3$\n",
    "\n",
    "**e) Jaká je pravděpodobnost nasazení při pátém hodu, jestliže ani ve třetím kole nebylo nasazeno, tj. $P(T=5|T>3)$?\n",
    "\n",
    "$$\n",
    "P(T=5|T>3) = \\frac{P({T=5}\\cap{T>3})}{P(T>3)} = \\frac{P(T=5)}{P(T>3)} = \\frac{(1-p)^{5-1} p}{(1-p)^3} = \\frac{5}{6^2}. \n",
    "$$\n",
    "\n",
    "Zde si lze dobře všimnout bezpaměťovosti geometrického rozdělení. Víme, že pravděpodobnost šestky vůbec neovlivňuje, co padalo dosud, takže to, že do třetího hodu nepadla je ekvivalentní k situaci, že vlastně začínáme úplně od znovu, jednou nepadne (5/6) a pak ano (1/6)."
   ]
  },
  {
   "cell_type": "markdown",
   "metadata": {},
   "source": [
    "### 4.10 Dokažte, bezpaměťovost geometrického rozdělení, tj. že pro $T\\sim \\mathrm{Geom}(p)$ platí\n",
    "\n",
    "$$\n",
    "P(T=n+k|T>n) = P(T=k).\n",
    "$$\n",
    "\n",
    "*Pro geometrické rozdělení*\n",
    "$$\n",
    "P(T=k) = (1-p)^{k-1} p, \\qquad k=1,2,\\ldots\n",
    "$$\n",
    "\n",
    "*takže počítáme*\n",
    "$$\n",
    "\\begin{aligned}\n",
    "P(T>k)&=\n",
    "\\sum_{i=k+1}^\\infty P(T=k) = \\sum_{i=k+1}^\\infty (1-p)^{i-1} p \\\\\n",
    "&= p \\sum_{i=0}^\\infty (1-p)^{i+k}\n",
    "= p(1-p)^k \\sum_{i=0}^\\infty (1-p)^i \\\\\n",
    "&= \\frac{p(1-p)^k}{1-(1-p)} = (1-p)^k.\n",
    "\\end{aligned}\n",
    "$$\n",
    "\n",
    "*Z definice podmíněné pravděpodobnosti plyne*\n",
    "$$\n",
    "\\begin{aligned}\n",
    "\\mathrm{P}(T=n+k|T > k) &=\n",
    "\\frac{P(\\{T=n+k\\}\\cap\\{(T > k)\\})}{P(T>k)} \\\\\n",
    "&= \\frac{\\mathrm{P}(T=n+k)}{\\mathrm{P}(T>k)}\n",
    "= \\frac{(1-p)^{n+k-1} p}{(1-p)^k} \\\\\n",
    "&= (1-p)^{n-1} p\n",
    "= \\mathrm{P}(T=n).\n",
    "\\end{aligned}\n",
    "$$\n",
    "\n",
    "**Alternativně:**\n",
    "$$\n",
    "P(T>n+k|T>n) = P(T>k).\n",
    "$$\n",
    "\n",
    "*Sami :)*"
   ]
  },
  {
   "cell_type": "markdown",
   "metadata": {},
   "source": [
    "### 4.11 Nechť $X$ je náhodná veličina s Poissonovým rozdělením s parametrem $\\lambda$. Pro $\\lambda=\\frac{1}{3}$ najděte:\n",
    "\n",
    "* $P(X=0)$ a $P(X=1)$,\n",
    "\n",
    "*Snadno dosazením do vzorce pro pstí fci dostaneme $P(X=0)=e^{-\\frac{1}{3}}$ a $P(X=1)=\\frac{1}{3}e^{-\\frac{1}{3}}$*.\n",
    "\n",
    "* $P(X>1)$\n",
    "\n",
    "$$\n",
    "P(X>1) = 1 - P(X\\leq1) = 1 - [P(X=0) + P(X=1)] = 0.045.\n",
    "$$\n",
    "\n",
    "* $\\operatorname{E}X$\n",
    "\n",
    "$$\n",
    "\\operatorname{E}X = \\lambda = \\frac{1}{3}.\n",
    "$$\n",
    "\n",
    "* $\\operatorname{var}X$\n",
    "\n",
    "$$\n",
    "\\operatorname{var}X = \\lambda = \\frac{1}{3}.\n",
    "$$"
   ]
  },
  {
   "cell_type": "markdown",
   "metadata": {},
   "source": [
    "### 4.12 Modelování příchodu zákazníků\n",
    "\n",
    "**Uvažujme náhodnou veličinu $X$ označující počet zákazníků, kteří tankují u konkrétní benzinové stanice mezi 16. a 17.h. odpoledne. Dále předpokládejme, že platí:**\n",
    "\n",
    "**- počet aut (potenciálních zákazníků) ve městě je $n$,**\n",
    "**- počet pump ve městě je úměrný počtu aut s konstantou úměrnosti $\\rho>0$,**\n",
    "**- pravděpodobnost, že zákazník bude chtít tankovat (u nějaké pumpy) mezi 16. a 17.h. označme $p$,**\n",
    "**- zákazníci se rozhodují nezávisle na sobě.**\n",
    "\n",
    "**Určete rozdělení $X$.**\n",
    "\n",
    "*Řešení: $p$ je pravděpodobnost, jejíž míra se rozdělí mezi $n\\rho$ pump. Potom z $n$ zákazníků přijede $k$ s pravděpodobností každého z nich $\\frac{p}{n\\rho}$, rozdělení je $\\mathrm{Binom}\\left(n, \\frac{p}{n\\rho}\\right)$.*"
   ]
  },
  {
   "cell_type": "markdown",
   "metadata": {},
   "source": [
    "### 4.13 (pokračování)\n",
    "\n",
    "**Označme v předchozím příkladu $\\lambda = \\frac{p}{\\rho}$. Ukažte, že v limitním přechodu $n\\to\\infty$ má náhodná veličina $X$ Poissonovo rozdělení s parametrem $\\lambda$.**\n",
    "\n",
    "*Řešení: viz přednáška či [Poissonova limitní věta](https://en.wikipedia.org/wiki/Poisson_limit_theorem), kde je hned několik ekvivalentních způsobů :)*"
   ]
  }
 ],
 "metadata": {
  "kernelspec": {
   "display_name": "Python 3",
   "language": "python",
   "name": "python3"
  },
  "language_info": {
   "codemirror_mode": {
    "name": "ipython",
    "version": 3
   },
   "file_extension": ".py",
   "mimetype": "text/x-python",
   "name": "python",
   "nbconvert_exporter": "python",
   "pygments_lexer": "ipython3",
   "version": "3.6.7"
  }
 },
 "nbformat": 4,
 "nbformat_minor": 2
}
