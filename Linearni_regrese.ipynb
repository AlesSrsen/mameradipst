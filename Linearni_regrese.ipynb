{
 "cells": [
  {
   "cell_type": "code",
   "execution_count": 2,
   "metadata": {},
   "outputs": [],
   "source": [
    "import numpy as np\n",
    "import matplotlib.pylab as plt"
   ]
  },
  {
   "cell_type": "markdown",
   "metadata": {},
   "source": [
    "# Korelační a regresní analýza"
   ]
  },
  {
   "cell_type": "markdown",
   "metadata": {},
   "source": [
    "## Korelační koeficient\n",
    "\n",
    "Korelační koeficient (libovolný) udává míru [**korelace**](https://en.wikipedia.org/wiki/Correlation_and_dependence) - vzájemné relace - mezi dvěma náhodnými veličinami. [**Lineární, též Pearsonův korelační koeficient**](https://en.wikipedia.org/wiki/Pearson_product-moment_correlation_coefficient) poměřuje míru **lineární závislosti** a je definován vztahem\n",
    "\n",
    "$$\n",
    "\\rho_{X,Y} = \\frac{\\operatorname{cov}(X,Y)}{\\sqrt{\\operatorname{var}X}\\sqrt{\\operatorname{var}Y}}.\n",
    "$$\n",
    "\n",
    "**Výběrový korelační koeficient** je potom nepřekvapivě definován podílem **výběrové kovariance** $s_{X,Y}$ a součinu **výběrových směrodatných odchylek** $s_X$ a $s_Y$.\n",
    "\n",
    "$$\n",
    "r_{X,Y} = \\frac{s_{X,Y}}{s_X s_Y},\n",
    "$$\n",
    "\n",
    "Z minulosti už víme, že \n",
    "\n",
    "- nabývá hodnot z intervalu [-1,1]\n",
    "- nezávislost implikuje hodnotu 0 (pohledem na vzoreček)\n",
    "- veličiny jsou kladně korelované, pokud s růstem jedné roste druhá\n",
    "- veličiny jsou záporně korelované, pokud s růstem jedné druhá klesá.\n",
    "\n",
    "Důležité je toto: **nezávislost $\\Longrightarrow$ nekorelovanost**, ne však nutně opačně! Pohledem do obrázku z wikipedie to bude ihned jasné.\n",
    "\n",
    "![corrwiki](img/corrwiki.png)\n",
    "\n",
    "[Anscombeho kvartet](https://en.wikipedia.org/wiki/Anscombe%27s_quartet) je jiným příkladem toho, kde lineární korelační koeficient selže. Zobrazuje 4 datasety se stejnými průměry a výběrovými variancemi obou proměnných, s kladnou korelací $r=0.816$:\n",
    "\n",
    "![anscombe](img/Anscombe.png)\n",
    "\n",
    "Jak je patrné, pokud je mezi daty jiná než lineární závislost, lineární korelační koeficient není úplně vhodnou mírou. Proto existuje rovnou celá řada jiných korelačních koeficientů, každý se svými klady a zápory. Např. [Spearmanův](https://en.wikipedia.org/wiki/Spearman%27s_rank_correlation_coefficient), [Kendallovo $\\tau$](https://en.wikipedia.org/wiki/Kendall_rank_correlation_coefficient)..."
   ]
  },
  {
   "cell_type": "markdown",
   "metadata": {},
   "source": [
    "### Příklad 12.2\n",
    "\n",
    "**Buďte $X$ náhodná veličina určující výšku jedince v cm a $Y$ náhodná veličina určující jeho váhu v kg. Vybrali jsme vzorek pěti jedinců v populaci a naměřili jejich výšky a váhy, viz tabulka:**\n",
    "\t\n",
    "| výška [cm] | 158 | 161 | 168 | 175 | 182 |\n",
    "|---|---|---|---|---|---|\n",
    "| váha [kg]  |  55 | 63 | 75 | 71 | 83 |\n",
    "\n",
    "**a) Na základě těchto hodnot odhadněte korelaci náhodných veličin $X$ a $Y$.**"
   ]
  },
  {
   "cell_type": "code",
   "execution_count": 4,
   "metadata": {},
   "outputs": [
    {
     "name": "stdout",
     "output_type": "stream",
     "text": [
      "Odhad r = 0.914\n",
      "Přímo z np.corrcoef: 0.914\n",
      "10.807404868885037\n"
     ]
    }
   ],
   "source": [
    "x = np.array([158, 161, 168, 175, 182])\n",
    "Y = np.array([55, 63, 75, 71, 83])\n",
    "\n",
    "sX = x.std(ddof=1)\n",
    "sY = Y.std(ddof=1)\n",
    "sXY = np.cov(x, Y)[0,1]\n",
    "r = sXY / (sX * sY)\n",
    "\n",
    "print('Odhad r = {0:.3f}'.format(r))\n",
    "print('Přímo z np.corrcoef: {0:.3f}'.format(np.corrcoef(x, Y)[0,1]))\n",
    "print(sY)"
   ]
  },
  {
   "cell_type": "markdown",
   "metadata": {},
   "source": [
    "**b) Interpretujte výslednou hodnotu korelačního koeficientu.**\n",
    "\n",
    "Veličiny jsou poměrně silně kladně korelované - s růstem jedné roste i druhá."
   ]
  },
  {
   "cell_type": "markdown",
   "metadata": {},
   "source": [
    "## Regresní analýza\n",
    "\n",
    "Regresní analýza se zabývá **modelováním** náhodné veličiny $Y$ v závislosti na vysvětlující proměnné $x$, jež není v této roli považována za náhodnou. $Y$ se také říká regresand, $x$ často nazýváme regresor či vysvětlující proměnná.\n",
    "\n",
    "### Lineární regrese\n",
    "\n",
    "Pro popis jednoduché lineární závislosti používáme lineární regresní model ve tvaru přímky,\n",
    "\n",
    "$$\n",
    "Y_i = \\alpha + \\beta x_i + \\varepsilon_i, \\qquad i=1,\\ldots,n,\n",
    "$$\n",
    "\n",
    "kde\n",
    "\n",
    "- $x_i$ jsou jednotlivé hodnoty regresoru,\n",
    "- $Y_i$ jsou regresandy,\n",
    "- $\\alpha, \\beta$ jsou **neznámé** parametry, nazývané **regresní koeficienty**\n",
    "- $\\varepsilon_i \\sim \\mathcal{N}(0, \\sigma^2)$ jsou iid chyby, často nazývané **šum**.\n",
    "\n",
    "Je patrné, že přesnou lineární závislost $Y$ a $x$ porušuje právě přítomnost náhodné veličiny $\\varepsilon_i$. \n",
    "\n",
    "Pokud si pod indexem $i$ představíme čas, máme jednoduchý model časového vývoje $Y$ v závislosti na regresoru $x$ čase $i$.\n",
    "\n",
    "Je zřejmé, že\n",
    "\n",
    "$$\n",
    "\\operatorname{E}Y_i = \\alpha + \\beta x_i, \\qquad\\qquad \\operatorname{var}Y_i = \\operatorname{var}\\varepsilon_i = \\sigma^2.\n",
    "$$\n",
    "\n",
    "Cílem regresní analýzy je najít odhady $a,b$ koeficientů $\\alpha, \\beta$ takové, aby aproximace $\\hat{Y}_i$ skutečného $Y_i$ byla co nejlepší. Tedy budeme mít\n",
    "\n",
    "$$\n",
    "\\hat{Y}_i = a + bx_i \\qquad\\text{s chybou} \\qquad e_i = Y_i - \\hat{Y}_i.\n",
    "$$\n",
    "\n",
    "![regrese](img/regrese.jpg)\n",
    "\n",
    "K tomu použijeme **metodu nejmenších čtverců** (MNČ, angl. least squares method), která minimalizuje právě součet druhých mocnin zmíněných chyb.\n",
    "\n",
    "$$\n",
    "S_e = \\sum_{i=1}^n e_i^2.\n",
    "$$\n",
    "\n",
    "A protože $e_i$ nazýváme **reziduem**, je $S_e$ **reziduálním součtem čtverců**.\n",
    "\n",
    "\n",
    "Kdybychom dosadili a hledali minimum $S_e$ derivací, dostali bychom odhady\n",
    "\n",
    "$$\n",
    "b = \\frac{s_{X,Y}}{s_X^2} = r_{X,Y} \\frac{s_Y}{s_X}, \\qquad\\qquad\n",
    "a = \\bar{Y}_n - b \\bar{x}_n.\n",
    "$$\n",
    "\n",
    "Odhad parametrů je v praxi jen jedním z kroků analýzy. Následně se zjišťuje, jak model data dobře \"fituje\" (FITuje ;), například\n",
    "\n",
    "- testováním hypotéz o koeficientech\n",
    "- konstrukcí pásu spolehlivosti kolem regresní přímky\n",
    "- výpočtem koeficientu determinace $R^2$\n",
    "- atd., pro zajímavost např. porovnáváním několika možných modelů různými kritérii (AIC, BIC...) aj."
   ]
  },
  {
   "cell_type": "markdown",
   "metadata": {},
   "source": [
    "## K čemu to všechno je?\n",
    "\n",
    "Regresní analýza je dost možná v praxi nejčastěji využívaná partie statistiky, neboť díky ní umíme (nebo se snažíme) předpovídat hodnoty burzovních veličin, vývoj počasí, vývoj veličin v průmyslu atd. Samozřejmě k tomu využíváme složitější modely než uvádíme výše. A na FITu je celá řada předmětů, kde se s regresí lze potkat :)\n",
    "\n",
    "![Melbourne minimum temperatures](img/melbourne.png)\n",
    "Modelování vývoje minimálních teplot v Melbourne + predikce vč. pásu spolehlivosti."
   ]
  },
  {
   "cell_type": "markdown",
   "metadata": {},
   "source": [
    "### Příklad 12.1\n",
    "\n",
    "**Buďte $X$ náhodná veličina s rovnoměrným rozdělením na intervalu $(-1,1)$ a $a,b,c\\in\\mathbb{R}$ reálné konstanty.**\n",
    "\n",
    "**a) Spočtěte korelaci náhodných veličin $X$ a $Y=a+bX$.**\n",
    "\n",
    "**+b) Spočtěte korelaci náhodných veličin $X$ a $Z=a+bX+cX^2$.**\n",
    "\n",
    "**Postupujte nejprve pro obecnou n.v. $X$, teprve poté využijte vlastnosti rozdělení $X$.**\n",
    "\n",
    "Tento příklad je cvičení rozpis variance lineární transformace veličiny. Zejména bod a) je jednoduchý :-)\n",
    "\n",
    "Výsledky:\n",
    "\n",
    "a) $\\rho_{X,Y} = 1$ pro $b>0$, $\\rho_{X,Y} = -1$ pro $b<0$\n",
    "\n",
    "b) $\\rho_{X,Y} = \\frac{\\operatorname{sgn}(b)}{\\sqrt{1+\\frac{12}{45}\\frac{c^2}{b^2}}}$."
   ]
  },
  {
   "cell_type": "markdown",
   "metadata": {},
   "source": [
    "### Příklad 12.3\n",
    "\n",
    "**Uvažujme naměřená data výšky a váhy z příkladu 12.2**\n",
    "\n",
    "**a) Nalezněte a načrtněte regresní přímku závislosti váhy na výšce.**\n",
    "\n",
    "Můžeme využít vzorec $b = r_{X,Y} \\frac{s_Y}{s_X}$, koeficient $a$ počítáme stále stejně."
   ]
  },
  {
   "cell_type": "code",
   "execution_count": 61,
   "metadata": {},
   "outputs": [
    {
     "name": "stdout",
     "output_type": "stream",
     "text": [
      "Regresní přímka je: Y = -99.22723 + 0.99898x\n"
     ]
    }
   ],
   "source": [
    "b = r * sY / sX\n",
    "a = Y.mean() - b * x.mean()\n",
    "print('Regresní přímka je: Y = {0:.5f} + {1:.5f}x'.format(a, b))"
   ]
  },
  {
   "cell_type": "code",
   "execution_count": 73,
   "metadata": {},
   "outputs": [
    {
     "data": {
      "text/plain": [
       "<matplotlib.legend.Legend at 0x7fe3456735c0>"
      ]
     },
     "execution_count": 73,
     "metadata": {},
     "output_type": "execute_result"
    },
    {
     "data": {
      "image/png": "[encoded data removed]",
      "text/plain": [
       "<Figure size 720x288 with 1 Axes>"
      ]
     },
     "metadata": {
      "needs_background": "light"
     },
     "output_type": "display_data"
    }
   ],
   "source": [
    "plt.figure(figsize=(10,4))\n",
    "xi = np.array([x.min()-10, x.max()+10])\n",
    "yi = a + b*xi\n",
    "plt.plot(x, Y, 'o', label=\"Pozorování\")\n",
    "plt.plot(xi, yi, '-', label=\"Predikce\")\n",
    "plt.xlabel('Výška')\n",
    "plt.ylabel('Hmotnost')\n",
    "plt.legend()"
   ]
  },
  {
   "cell_type": "markdown",
   "metadata": {},
   "source": [
    "**b) Kolik asi váží člověk vysoký 165cm?**\n",
    "\n",
    "Jednoduše dosadíme do rovnice regresní přímky."
   ]
  },
  {
   "cell_type": "code",
   "execution_count": 75,
   "metadata": {},
   "outputs": [
    {
     "name": "stdout",
     "output_type": "stream",
     "text": [
      "Odhad (predikce): 65.60\n"
     ]
    }
   ],
   "source": [
    "Ypred = a + b * 165\n",
    "print('Odhad (predikce): {0:.2f}'.format(Ypred))"
   ]
  },
  {
   "cell_type": "markdown",
   "metadata": {},
   "source": [
    "**c) Jak se výsledek změní, budu-li zkoumat závislost výšky na váze?**\n",
    "\n",
    "Jelikož je korelační koeficient stejný, jen přeházíme $x$ a $Y$."
   ]
  },
  {
   "cell_type": "code",
   "execution_count": 79,
   "metadata": {},
   "outputs": [
    {
     "name": "stdout",
     "output_type": "stream",
     "text": [
      "Regresní přímka je dána parametry a` = 110.80822, b` = 0.83562\n",
      "Nový odhad hmotnosti: 64.85kg\n"
     ]
    }
   ],
   "source": [
    "b = r * sX / sY\n",
    "a = x.mean() - b * Y.mean()\n",
    "print('Regresní přímka je dána parametry a` = {0:.5f}, b` = {1:.5f}'.format(a, b))\n",
    "print('Nový odhad hmotnosti: {0:.2f}kg'.format((165 - a)/b))"
   ]
  },
  {
   "cell_type": "markdown",
   "metadata": {},
   "source": [
    "### Příklad 12.4\n",
    "\n",
    "**Zkoumáme závislost průhybu desky v mm na užitém tlaku v MPa. Naměřili jsme:**\n",
    "\n",
    "|tlak [MPa] ($x_i$)|2|4|6|8|10|\n",
    "|---|---|---|---|---|---|\n",
    "|průhyb [mm] ($Y_i$)|14|35|48|61|80|\n",
    "\n",
    "**a) Najděte odhady koeficientů regresní přímky lineární závislosti.**"
   ]
  },
  {
   "cell_type": "code",
   "execution_count": 29,
   "metadata": {},
   "outputs": [
    {
     "name": "stdout",
     "output_type": "stream",
     "text": [
      "a = 0.20, b = 7.90\n"
     ]
    }
   ],
   "source": [
    "x = np.arange(2, 12, 2)\n",
    "Y = np.array([14, 35, 48, 61, 80])\n",
    "\n",
    "sXY = np.cov(x, Y)[0,1]\n",
    "s2X = xi.var(ddof=1)\n",
    "\n",
    "b = sXY / s2X\n",
    "a = Y.mean() - b * x.mean()\n",
    "print('a = {0:.2f}, b = {1:.2f}'.format(a, b))"
   ]
  },
  {
   "cell_type": "markdown",
   "metadata": {},
   "source": [
    "**b) Jak velký musíme použít tlak, abychom dostali průhyb 70 mm?**"
   ]
  },
  {
   "cell_type": "code",
   "execution_count": 31,
   "metadata": {},
   "outputs": [
    {
     "name": "stdout",
     "output_type": "stream",
     "text": [
      "Odhad tlaku: 8.84\n"
     ]
    }
   ],
   "source": [
    "x70 = (70 - a) / b\n",
    "print(\"Odhad tlaku: {0:.2f}\".format(x70))"
   ]
  },
  {
   "cell_type": "markdown",
   "metadata": {},
   "source": [
    "### Příklad 12.5\n",
    "\n",
    "**V učebně je 25 počítačů. Zkoumáme závislost celkového odběru elektřiny $Y_i$ na počtu zapnutých strojů $x_i$. Provedli jsme měření ve 25 dnech a získali jsme:**\n",
    "\n",
    "$$\n",
    "\\begin{align*}\n",
    "&\\bar{X}_n=12 \\quad \\bar{Y}_n=3800\\quad s_{X,Y}=\\frac{1}{24}\\sum_{i=1}^{25}(X_i-\\bar X_n)(Y_i-\\bar Y_n)= 5000\\\\\n",
    "&s_X=\\sqrt{\\frac{1}{24}\\sum_{i=1}^{25}(X_i-\\bar X_n)^2}=4\\quad s_Y=\\sqrt{\\frac{1}{24}\\sum_{i=1}^{25}(Y_i-\\bar Y_n)^2}=1500\n",
    "\\end{align*}\n",
    "$$\n",
    "\n",
    "\n",
    "**a) Odhadněmě parametry $\\alpha$ a $\\beta$ předpokládané lineární regresní závislosti spotřeby na počtu běžících počítačů.**"
   ]
  },
  {
   "cell_type": "code",
   "execution_count": 32,
   "metadata": {},
   "outputs": [
    {
     "name": "stdout",
     "output_type": "stream",
     "text": [
      "a = 50.00, b = 312.50\n"
     ]
    }
   ],
   "source": [
    "sXY = 5000\n",
    "sX = 4\n",
    "sY = 1500\n",
    "Xbar = 12\n",
    "Ybar = 3800\n",
    "\n",
    "b = sXY / sX**2\n",
    "a = Ybar - b * Xbar\n",
    "print('a = {0:.2f}, b = {1:.2f}'.format(a, b))"
   ]
  },
  {
   "cell_type": "markdown",
   "metadata": {},
   "source": [
    "**b) Najděte odhad korelačního koeficientu $\\rho(X,Y)$.**"
   ]
  },
  {
   "cell_type": "code",
   "execution_count": 33,
   "metadata": {},
   "outputs": [
    {
     "name": "stdout",
     "output_type": "stream",
     "text": [
      "Výběrový korelační koeficient r = 0.83\n"
     ]
    }
   ],
   "source": [
    "r = sXY/(sX * sY)\n",
    "print('Výběrový korelační koeficient r = {0:.2f}'.format(r))"
   ]
  },
  {
   "cell_type": "markdown",
   "metadata": {},
   "source": [
    "**c) Odhadněte spotřebu pro 40 běžících strojů.**"
   ]
  },
  {
   "cell_type": "code",
   "execution_count": 38,
   "metadata": {},
   "outputs": [
    {
     "name": "stdout",
     "output_type": "stream",
     "text": [
      "Odhad: 12550.0W\n"
     ]
    }
   ],
   "source": [
    "xi = 40\n",
    "Yi = a + b * 40\n",
    "print('Odhad: {0}W'.format(Yi))"
   ]
  }
 ],
 "metadata": {
  "kernelspec": {
   "display_name": "Python 3",
   "language": "python",
   "name": "python3"
  },
  "language_info": {
   "codemirror_mode": {
    "name": "ipython",
    "version": 3
   },
   "file_extension": ".py",
   "mimetype": "text/x-python",
   "name": "python",
   "nbconvert_exporter": "python",
   "pygments_lexer": "ipython3",
   "version": "3.7.6rc1"
  }
 },
 "nbformat": 4,
 "nbformat_minor": 2
}
