{
 "cells": [
  {
   "cell_type": "markdown",
   "metadata": {},
   "source": [
    "**Materiály vznikají průběžně a jsou bez záruky - prosím o report chyb :-)**"
   ]
  },
  {
   "cell_type": "code",
   "execution_count": 1,
   "metadata": {},
   "outputs": [],
   "source": [
    "import numpy as np\n",
    "from scipy.stats import norm, boxcox\n",
    "import matplotlib.pylab as plt"
   ]
  },
  {
   "cell_type": "markdown",
   "metadata": {},
   "source": [
    "## Momentová vytvořující funkce\n",
    "\n",
    "[Momentová vytvořující funkce](https://en.wikipedia.org/wiki/Moment-generating_function)  (moment-generating function, mgf) náhodné veličiny $X$ je definována vztahem\n",
    "\n",
    "$$\n",
    "M_X(t) = \\operatorname E \\left[e^{tX}\\right], \\quad t \\in \\mathbb{R},\n",
    "$$\n",
    "\n",
    "kde $E$ je operátor střední hodnoty. To nevypadá moc užitečně, dokud si nevzpomeneme na analýzu a na vyjádření $e^x$ pomocí řady:\n",
    "\n",
    "$$\n",
    "e^{x} = 1 + x + \\frac{x^2}{2!} + \\frac{x^3}{3!} + \\cdots +\\frac{x^n}{n!} + \\cdots.\n",
    "$$\n",
    "\n",
    "Když tedy do exponentu dáme $tX$, a budeme středovat, pak ihned vidíme, že\n",
    "\n",
    "$$\n",
    "\\begin{align}\n",
    "M_X(t) = \\operatorname E (e^{t\\,X}) &= 1 + t \\operatorname E (X) + \\frac{t^2 \\operatorname E (X^2)}{2!} + \\frac{t^3\\operatorname E (X^3)}{3!}+\\cdots + \\frac{t^n\\operatorname E (X^n)}{n!}+\\cdots\n",
    "\\end{align}\n",
    "$$\n",
    "\n",
    "To možná stále nevypadá užitečně, dokud nezačneme derivovat a dosazovat $t=0$:\n",
    "\n",
    "$$\n",
    "\\begin{align}\n",
    "EX &= M_X^{(1)}(0) \\\\\n",
    "EX^2 &= M_X^{(2)}(0) \\\\\n",
    "EX^n &= M_X^{(n)}(0)\n",
    "\\end{align}\n",
    "$$\n",
    "\n",
    "Důležité je stále myslet na to, že\n",
    "\n",
    "$$\n",
    "M_X(t) = \n",
    "\\begin{cases}\n",
    "\\sum_{k=1}^\\infty e^{tx_k} P(X=x_k) &\\text{pro diskrétní $X$},\\\\\n",
    "&\\\\\n",
    "\\int_\\mathbb{R} e^{tx} f(x)dx &\\text{pro spojité $X$}.\n",
    "\\end{cases}\n",
    "$$\n",
    "\n",
    "**Tedy ony momenty v předpisu výše v sobě obsahují ony sumy či integrály!**\n",
    "\n",
    "Mgf má mnoho různě rozdělených náhodných veličin, nicméně nemusí vždy existovat. Její využití je zejména v různých aplikacích, kde máme kombinace náhodných veličin."
   ]
  },
  {
   "cell_type": "markdown",
   "metadata": {},
   "source": [
    "## Kvantily\n",
    "\n",
    "[Kvantily](https://en.wikipedia.org/wiki/Quantile) patří mezi statistické **míry polohy**. Jsou to body, v nichž distribuční funkce dosahuje určité hodnoty. To můžeme zapsat následovně - kvantil $q_a$ je hodnota, kde:\n",
    "\n",
    "$$\n",
    "P(X\\leq q_a) \\leq a, \\qquad\\text{tj.}\\quad F(q_a) \\leq a, \\qquad a\\in[0,1].\n",
    "$$\n",
    "\n",
    "Například tedy máme:\n",
    "\n",
    "- **medián** - $q_{0.50}$ - ten leží uprostřed. Proto se mu také říká **prostřední hodnota**. Pravděpodobnost, že dostaneme tuto hodnotu nebo nižší je právě 0.5.\n",
    "- **horní a dolní kvartil** - $q_{0.25}, q_{0.75}$ - ty leží v první čtvrtině a ve třech čtvrtinách rozsahu $X$. Mezi nimi je tzv. **mezikvartilové rozpětí** (inter-quartile range), které zahrnuje 50% hodnot.\n",
    "- **decily** - $q_{0.10},\\ldots,q_{0.90}$. Ty už celkem pěkně popisují rozdělení náhodné veličiny.\n",
    "- **percentily** - $q_{0.01},\\ldots,q_{0.99}$. Zde máme popis pro normální rozdělení velmi výstižný."
   ]
  },
  {
   "cell_type": "markdown",
   "metadata": {},
   "source": [
    "Následující dva obrázky demonstrují interkvartilové rozpětí - polohu horního a dolního kvartilu, mezi nimi ležících 50% hodnot náhodné veličiny. V boxplotu (též krabicový graf) je vidět navíc odlehlé hodnoty (kolečka) a medián (prostřední kvantil)."
   ]
  },
  {
   "cell_type": "code",
   "execution_count": 24,
   "metadata": {},
   "outputs": [
    {
     "data": {
      "image/png": "[encoded data removed]",
      "text/plain": [
       "<Figure size 1080x360 with 2 Axes>"
      ]
     },
     "metadata": {
      "needs_background": "light"
     },
     "output_type": "display_data"
    }
   ],
   "source": [
    "plt.figure(figsize=(15,5))\n",
    "plt.subplot(2, 1, 1)\n",
    "plt.plot(np.linspace(-3, 3), norm.pdf(np.linspace(-3, 3)))\n",
    "q0_25 = norm.ppf(0.25)\n",
    "q0_75 = norm.ppf(0.75)\n",
    "points = np.linspace(q0_25, q0_75, 100)\n",
    "plt.fill_between(points, norm.pdf(points), y2=0)\n",
    "plt.title(r'IQR = $q_{0.75} - q_{0.25}$')\n",
    "plt.xlim((-3,3))\n",
    "plt.subplot(2, 1, 2)\n",
    "plt.boxplot(norm.rvs(size=10000), vert=False)\n",
    "plt.xlim((-3,3))\n",
    "plt.show()"
   ]
  },
  {
   "cell_type": "markdown",
   "metadata": {},
   "source": [
    "### Příklad\n",
    "\n",
    "Podívejme se na triviální příkládek se mzdou a porovnejme, jak je průměr citlivý na odlehlé hodnoty, zatímco výběrový medián nikoliv. I proto se mu říká robustní míra polohy. My se v předmětu zatím nezabýváme výběrovými statistikami, ale pro ilustraci jsou často užitečnější.\n",
    "\n",
    "![Kvantily](img/kvantily.jpg)"
   ]
  },
  {
   "cell_type": "markdown",
   "metadata": {},
   "source": [
    "# Téma 5: Transformace náhodných veličin"
   ]
  },
  {
   "cell_type": "markdown",
   "metadata": {},
   "source": [
    "Statistické analýzy, dobývání znalostí z dat, předpovědi atd. zpravidla předpokládají, že se data chovají dobře. Například, že mají nějaké rozumné (nejlépe normální) rozdělení, s nímž se dobře pracuje. Typický problém, s nímž se lze setkat např. v analýze časových řad je [heteroskedasticita](https://en.wikipedia.org/wiki/Heteroscedasticity), tj. proměnnost variance dat v čase.\n",
    "\n",
    "![Hetero](img/Hetero.png)\n",
    "\n",
    "To představuje pro analýzy problém. Jedním z prostředků, jak se s tímto problémem vyrovnat, je použít nějakou vhodnou transformaci, tj. funkci, který tento jev odstraní (nebo vhodně zamaskuje). Příkladem může být [Boxova-Coxova transformace](https://en.wikipedia.org/wiki/Power_transform)."
   ]
  },
  {
   "cell_type": "markdown",
   "metadata": {},
   "source": [
    "Zaveďme si teoreticky [transformace náhodných veličin](https://en.wikipedia.org/wiki/Random_variable#Functions_of_random_variables), též funkce náhodných veličin:"
   ]
  },
  {
   "cell_type": "markdown",
   "metadata": {},
   "source": [
    "> **Věta**\n",
    ">\n",
    "> Buď $X$ náhodná veličina a $t:\\mathbb{R}\\to\\mathbb{R}$ měřitelná funkce. Pak $Y=t(X)$ je také náhodná veličina a platí\n",
    ">\n",
    ">$$\n",
    "F_Y(y) = P(Y\\leq y) = P\\left(t(X) \\leq y \\right)\n",
    "$$"
   ]
  },
  {
   "cell_type": "markdown",
   "metadata": {},
   "source": [
    "## Transformace diskrétní náhodné veličiny\n",
    "\n",
    "Je-li $X$ náhodná veličina s pravděpodobnostní funkcí $P(X=x_k)$, potom pro pravděpodobnostní funkci $Y=t(X)$ platí\n",
    "\n",
    "$$\n",
    "P(Y=y_k) = \\sum_{x\\in t^{-1}(y)} P(X=x_k).\n",
    "$$\n",
    "\n",
    "Co to znamená? Pravděpodobnostní funkci pro $Y$ dostaneme tak, že posčítáme pravděpodobnosti všech $x_k$, která se do daného $y_k$ zobrazí."
   ]
  },
  {
   "cell_type": "markdown",
   "metadata": {},
   "source": [
    "### Příklad (6.5)\n",
    "\n",
    "**Nechť náhodná veličina $X$ nabývá hodnot $\\{0,\\ldots, 7\\}$, všech se stejnými pravděpodobnostmi. Definujme náhodnou veličinu $Y$ následovně:**\n",
    "\n",
    "$$\n",
    "Y =\n",
    "\\begin{cases}\n",
    "1 &\\text{pro}\\ X<\\frac{1}{2},\\\\\n",
    "2 &\\text{pro}\\ X\\geq\\frac{1}{2}.\n",
    "\\end{cases}\n",
    "$$\n",
    "\n",
    "**a) Najděte a nakreslete distribuční funkci.**\n",
    "\n",
    "*obrazek obrazek obrazek obrazek obrazek obrazek obrazek obrazek obrazek obrazek obrazek obrazek obrazek obrazek obrazek obrazek obrazek obrazek*\n",
    "\n",
    "$$\n",
    "F(Y) = \n",
    "\\begin{cases}\n",
    "0 &\\text{pro}\\ Y<1,\\\\\n",
    "\\frac{1}{8} &\\text{pro}\\ Y\\in[1,2),\\\\\n",
    "1 &\\text{pro}\\ Y\\geq 2.\n",
    "\\end{cases}\n",
    "$$\n",
    "\n",
    "**b) Najděte střední hodnotu $Y$.**\n",
    "\n",
    "$$\n",
    "EY = \\sum_{k=1}^2 y_k P(Y=y_k) = \\frac{1}{8}\\cdot 1 + \\frac{7}{8}\\cdot 2 = \\frac{15}{8}. \n",
    "$$"
   ]
  },
  {
   "cell_type": "markdown",
   "metadata": {},
   "source": [
    "## Transformace spojité náhodné veličiny\n",
    "\n",
    "Buď $X$ náhodná veličina se spojitou distribuční funkcí $F$ a nechť všude - nanejvýš s výjimkou konečně mnoha bodů - existuje $F'(x) = f(x)$. Buď $t$ spojitá ryze monotónní funkce, jež má všude derivaci. Označme její inverzi $\\tau = t^-1$. Potom\n",
    "\n",
    "$$\n",
    "f_Y(y) = f_X\\big(\\tau(y)\\big)\\cdot \\big|\\tau'(y)\\big|.\n",
    "$$\n",
    "\n",
    "Potom navíc pro $t$ rostoucí\n",
    "$$\n",
    "F_Y(y) = P(Y\\leq y) = P(t(X) \\leq y) = P(X \\leq \\tau(y)) = F_X(\\tau(y))\n",
    "$$\n",
    "\n",
    "a $t$ klesající\n",
    "\n",
    "$$\n",
    "F_Y(y) = P(Y\\leq y) = P(t(X) \\leq y) = P(X \\geq \\tau(y)) = 1 - F_X(\\tau(y)).\n",
    "$$\n",
    "\n",
    "To je i důvod oné absolutní hodnoty výše."
   ]
  },
  {
   "cell_type": "markdown",
   "metadata": {},
   "source": [
    "### Příklad 6.6\n",
    "\n",
    "**Nechť $X\\sim \\mathcal{U}(a,b)$ je rovnoměrně rozdělená náhodná veličina na intervalu $(a,b)$. Uvažujme $a<b$ a současně $a = 0$. Definujme**\n",
    "\n",
    "$$\n",
    "Y = X^2.\n",
    "$$\n",
    "\n",
    "*Níže označíme $t(X) = X^2$. Z toho plyne $t^{-1}(Y) = \\tau(Y) = \\sqrt{X}$. Dále víme, že $Y$ je definováno na intervalu $[a^2, b^2]=[0, b^2]$ a že pro $a=0$ máme*\n",
    "\n",
    "$$\n",
    "F_X(x) = \\frac{x-a}{b-a} = \\frac{x}{b}.\n",
    "$$\n",
    "\n",
    "**a) Je $Y$ náhodná veličina?**\n",
    "\n",
    "Ano, viz definice.\n",
    "\n",
    "**b) Najděte distribuční funkci $Y$.**\n",
    "\n",
    "$$\n",
    "F_Y(y) = P(Y\\leq y) = P(t(X) \\leq y) = F_X(\\tau(y)).\n",
    "$$\n",
    "\n",
    "Tedy\n",
    "$$\n",
    "F_Y(y) =\n",
    "\\begin{cases}\n",
    "0 & \\text{pro}\\ y<0,\\\\\n",
    "\\frac{\\sqrt{y}}{b} & \\text{pro}\\ y\\in[0,b^2],\\\\\n",
    "1 & \\text{pro}\\ y>b^2.\\\\\n",
    "\\end{cases}\n",
    "$$\n",
    "\n",
    "\n",
    "**c) Určete typ rozdělení (diskrétní, spojité, smíšené).**\n",
    "\n",
    "Spojitá funkce spojité náhodné veličiny dává spojitou náhodnou veličinu.\n",
    "\n",
    "**d) Určete hustotu (popř. pravděpodobnostní funkci) $Y$, pokud to lze.**\n",
    "\n",
    "$$\n",
    "f_Y(y) = [F_Y(y)]' =\n",
    "\\begin{cases}\n",
    "\\frac{1}{2b\\sqrt{y}} & \\text{pro}\\ y\\in[0,b^2],\\\\\n",
    "0 & \\text{jinde}.\\\\\n",
    "\\end{cases}\n",
    "$$\n",
    "\n",
    "**e) Spočtěte $EY$ pomocí rozdělení $Y$ a pomocí vztahu $EY = EX^2$.**\n",
    "\n",
    "$$\n",
    "\\begin{aligned}\n",
    "EY \n",
    "&= \\int_{\\mathbb{R}} y \\cdot f_Y(y) dy = \\int_{0}^{b^2} y\\cdot \\frac{1}{2b\\sqrt{y}} dy\n",
    "= \\frac{1}{2b} \\left[ \\frac{2}{3} y^{\\frac{3}{2}} \\right]_0^{b^2} = \\frac{b^2}{3}. \\\\\n",
    "EY \n",
    "&= EX^2 = \\int_\\mathbb{R} x^2 \\cdot f_X(x)dx = \\int_0^b x^2 f(x) dx = \\int_0^b x^2 \\frac{1}{b} dx = \\frac{1}{b}\\left[\\frac{x^3}{3}\\right]_0^b = \\frac{b^2}{3}.\n",
    "\\end{aligned}\n",
    "$$\n",
    "\n",
    "**+f) Jak se situace změní pro obecný interval?**\n",
    "\n",
    "Viz příslušné vzorečky."
   ]
  },
  {
   "cell_type": "markdown",
   "metadata": {},
   "source": [
    "## Lineární transformace\n",
    "\n",
    "**Zamysleme se nejprve intuitivně nad následujícím:**\n",
    "\n",
    "* Pokud násobím všechny hodnoty výběru nějakou konstantou $a$, jak se změní hodnota průměru?\n",
    "* Pokud přičtu ke všem hodnotám výběru jinou konstanbu $b$, jak se změní hodnota výběru?\n",
    "* Jaký je rozptyl konstanty?\n",
    "* Vynásobím-li konstantou $a$ všechny hodnoty výběru, jak se změní rozptyl (zamyslete se nad vzorečkem pro rozptyl).\n",
    "\n",
    "> **Věta**\n",
    ">\n",
    "> Buď $X$ náhodná veličina a $a,b\\in\\mathbb{R}$. Definujme $Y = aX + b$. Pak platí\n",
    ">\n",
    "> $$\n",
    "\\begin{aligned}\n",
    "EY &= E(aX+b) = a\\cdot EX + b, \\\\\n",
    "\\operatorname{var} Y &= \\operatorname{var}(aX + b) = a^2 \\operatorname{var} X.\n",
    "\\end{aligned}\n",
    "$$"
   ]
  },
  {
   "cell_type": "markdown",
   "metadata": {},
   "source": [
    "### Příklad\n",
    "\n",
    "**Předpokládejme, že náhodná veličina $X$ splňuje:**\n",
    "\n",
    "$$\n",
    "EX =0, \\qquad EX^2=1, \\qquad EX^3=0, \\qquad EX^4 = 2.\n",
    "$$\n",
    "\n",
    "**Definujme náhodné veličiny**\n",
    "\n",
    "$$\n",
    "\\begin{align}\n",
    "Y &= 1-3X, \\\\\n",
    "Z &= 2+X^2.\n",
    "\\end{align}\n",
    "$$\n",
    "\n",
    "**a) Nalezněte střední hodnotu a rozptyl $Y$ a $Z$.**\n",
    "\n",
    "Jednoduše využijeme vzorečky:\n",
    "\n",
    "$$\n",
    "\\begin{align}\n",
    "EY &= E[1-3X] = 1-3EX = 1,\\\\\n",
    "EZ &= E[2+X^2] = 2+EX^2 = 3,\\\\\n",
    "\\operatorname{var}Y &= \\operatorname{var}(1-3X) = 9\\operatorname{var}X = 9[EX^2 - (EX)^2] = 9,\\\\\n",
    "\\operatorname{var}Z &= \\operatorname{var}(2+X^2) = \\operatorname{var}X^2 = E[E(X^2)^2 - (EX^2)^2] = 2-1 = 1.\n",
    "\\end{align}\n",
    "$$\n",
    "\n",
    "**+b) Nalezněte příklad náhodné veličiny $X$.**\n",
    "\n",
    "Centrujeme v nule, obklopíme stejnými hodnotami s rozdílnými znaménky a hledáme tyto hodnoty, aby splňovaly podmínky. Např. tedy $X\\in\\left\\{-\\sqrt{2}, 0, \\sqrt{2}\\right\\}$ s pravděpodobnostmi $\\left\\{\\frac{1}{4}, \\frac{1}{2}, \\frac{1}{4}\\right\\}$."
   ]
  },
  {
   "cell_type": "markdown",
   "metadata": {},
   "source": [
    "## Standardizace do $\\mathcal{N}(0, 1)$\n",
    "\n",
    "Normální rozdělení má dva parametry - střední hodnotu $\\mu$ a rozptyl $\\sigma^2$. V mnoha statistických aplikacích - např. při testování hypotéz aj. - potřebujeme pracovat s tímto rozdělením. Dnes již k výpočtům můžeme používat počítač, ale dříve se postupovalo s předpočítanými tabulkami $\\mathcal{N}(0, 1)$, do něhož bylo potřeba veličinu převést. Tuto **transformaci** do [standardního normálního rozdělení](https://en.wikipedia.org/wiki/Normal_distribution#Standard_normal_distribution) vyjadřuje následující věta.\n",
    "\n",
    "> **Věta (standardizace normálního rozdělení)**\n",
    ">\n",
    "> Pokud $X\\sim\\mathcal{N}(\\mu, \\sigma^2)$, potom veličina $Z = \\frac{X-\\mu}{\\sigma}$ má rozdělení $\\mathcal{N}(0, 1)$.\n",
    "\n",
    "Pokud tedy potřebujeme spočítat některé vlastnosti pro nestandardní normální veličinu, provedeme transformaci do $\\mathcal{N}(0,1)$ a někdy potom i inverzní transformaci zpět do $\\mathcal{N}(\\mu, \\sigma^2)$,\n",
    "\n",
    "$$\n",
    "X = \\sigma Z + \\mu \\qquad \\Longrightarrow X\\sim \\mathcal{N}(\\mu, \\sigma^2).\n",
    "$$\n",
    "\n",
    "Uvědomme si, co dělá $\\mu$ v této transformaci: jde o **posun** polohy střední hodnoty! A $\\sigma$, ačkoliv zde je představa těžší, nám veličinu odpovídající měrou \"rozptýlí\". Třídě distribucí, které se takto chovají, se říká [location-scale family](https://en.wikipedia.org/wiki/Location%E2%80%93scale_family) - ale to nemusí student PST vědět :). A znovu - všimnete si, o jakou transformaci jde? Už výše v textu byla ;-)\n",
    "\n",
    "Je zaběhlým zvykem psát standardní normální veličinu jako $Z$ a její kvantily jako $u$ s dolním indexem značícím polohu kvantilu, např. $u_{0.50}$ či $u_{50}$ pro medián. Stejně tak se často označuje $\\phi(x)=f(x)$ a $\\Phi(x)=F(x)$.\n",
    "\n",
    "Je důležité umět si s tímto rozdělením pohrát - k tomu je vždy nejlepší si kreslit, kreslit, kreslit...\n",
    "\n",
    "![gaussF](img/gaussF.jpg)\n",
    "\n",
    "A pokud vybíráme hodnoty symetricky okolo středu, budeme postupovat následovně:\n",
    "\n",
    "![gaussU](img/gaussU.jpg)\n",
    "\n",
    "A ještě jedna rada na závěr: Pokud vybíráme 95% obor, znamená to, že pracujeme s kvantily $u_{0.025}$ a $u_{0.975}$, protože zbylých 5% se nám rozdělí symetricky do chvostů."
   ]
  },
  {
   "cell_type": "markdown",
   "metadata": {},
   "source": [
    "### Příklad (6.3)\n",
    "\n",
    "**Nechť $X\\sim \\mathcal{N}(5,4)$. Pomocí tabulek vyřešte následující úkoly:**\n",
    "\n",
    "**a) Najděte $P(X>7.5)$.**\n",
    "\n",
    "$$\n",
    "P(X>7.5) = P\\left(Z > \\frac{X-\\mu}{\\sigma} \\right) = P\\left(Z>\\frac{2.5}{2}\\right) \n",
    "= 1 - P(Z\\leq 1.25) = 1 - 0.8944 = 0.1056.\n",
    "$$"
   ]
  },
  {
   "cell_type": "code",
   "execution_count": 16,
   "metadata": {},
   "outputs": [
    {
     "data": {
      "text/plain": [
       "0.10564977366685535"
      ]
     },
     "execution_count": 16,
     "metadata": {},
     "output_type": "execute_result"
    }
   ],
   "source": [
    "1-norm.cdf(7.5, loc=5, scale=np.sqrt(4))"
   ]
  },
  {
   "cell_type": "markdown",
   "metadata": {},
   "source": [
    "**b) Najděte $P(2.3 < X \\leq 6.1)$.**\n",
    "\n",
    "Použijeme obrázek výše (první ze dvou, pro nesymetrický interval) a postupujeme:\n",
    "\n",
    "$$\n",
    "P(2.3 < X \\leq 6.1) = P\\left(\\frac{2.3-5}{2}<2\\leq \\frac{6.1-5}{2}\\right) = P(-1.35<Z\\leq0.55) = P(Z\\leq 0.55) - P(Z>-1.35) = P(Z\\leq 0.55) - [1-P(Z\\leq 1.35)] = 0.6203.\n",
    "$$\n",
    "\n",
    "(kreslete si!!!)"
   ]
  },
  {
   "cell_type": "code",
   "execution_count": 19,
   "metadata": {},
   "outputs": [
    {
     "data": {
      "text/plain": [
       "0.6203323217742517"
      ]
     },
     "execution_count": 19,
     "metadata": {},
     "output_type": "execute_result"
    }
   ],
   "source": [
    "norm.cdf(6.1, loc=5, scale=np.sqrt(4)) - norm.cdf(2.3, loc=5, scale=np.sqrt(4))"
   ]
  },
  {
   "cell_type": "markdown",
   "metadata": {},
   "source": [
    "**c) Najděte $a$ takové, aby $P(X\\leq a) = 0.86$ (tj. 0.86-kvantil)**\n",
    "\n",
    "Budeme hledat $\\tilde{a}$, které odpovídá transformovanému kvantilu do $\\mathcal{N}(0,1)$ a provedeme transformaci zpět do $\\mathcal{N}(5, 4)$:\n",
    "\n",
    "$$\n",
    "P(X \\leq a) = P(Z\\leq \\tilde{a}) = 0.86 \\Longrightarrow \\tilde{a} = 1.08.\n",
    "$$\n",
    "\n",
    "Transformace $\\tilde{a} \\to a$:\n",
    "\n",
    "$$\n",
    "\\tilde{a} = \\frac{a-\\mu}{\\sigma} = 1.08 \\Longrightarrow a = 7.16.\n",
    "$$\n",
    "\n",
    "(kreslit, kreslit, kreslit)"
   ]
  },
  {
   "cell_type": "code",
   "execution_count": 20,
   "metadata": {},
   "outputs": [
    {
     "data": {
      "text/plain": [
       "7.160638681629912"
      ]
     },
     "execution_count": 20,
     "metadata": {},
     "output_type": "execute_result"
    }
   ],
   "source": [
    "norm.ppf(0.86, loc=5, scale=np.sqrt(4))"
   ]
  },
  {
   "cell_type": "markdown",
   "metadata": {},
   "source": [
    "**d) Najděte $a$ takové, aby $P(X>a)=0.025$ (tj. 0.0250-kritickou hodnotu).**\n",
    "\n",
    "Řešení je podobné předchozímu, jen pozor na (ne)rovnosti...\n",
    "\n",
    "$$\n",
    "P(X>a) = P(Z>\\tilde{a}) = 0.025 \\Longrightarrow 1-P(Z\\leq \\tilde{a}) = 1-0.025 = 0.975 \\Longrightarrow \\tilde{a} = 1.96.\n",
    "$$\n",
    "\n",
    "A transformace zpět:\n",
    "\n",
    "$$\n",
    "\\tilde{a} = \\frac{a-\\mu}{\\sigma} \\Longrightarrow a = 8.92.\n",
    "$$"
   ]
  },
  {
   "cell_type": "code",
   "execution_count": 22,
   "metadata": {},
   "outputs": [
    {
     "data": {
      "text/plain": [
       "8.919927969080108"
      ]
     },
     "execution_count": 22,
     "metadata": {},
     "output_type": "execute_result"
    }
   ],
   "source": [
    "norm.ppf(1-0.025, loc=5, scale=np.sqrt(4))"
   ]
  },
  {
   "cell_type": "markdown",
   "metadata": {},
   "source": [
    "**e) Najděte $a$ takové, aby $P(5-a<X\\leq 5+a) = 0.99$.**\n",
    "\n",
    "Zde je nutné si uvědomit dvě věci:\n",
    "\n",
    "1. jde o posunutí celé veličiny o 5: $P(-a<X-5\\leq a)$ a jelikož máme střední hodnotu 5, tak se posune střed gaussovky do nuly :)\n",
    "2. ptáme se opět na symetrický obor okolo střední hodnoty.\n",
    "\n",
    "$$\n",
    "X\\sim \\mathcal{N}(5, 4) - 5 = \\mathcal{N}(0, 4), \\\\\n",
    "\\tilde{a} = \\frac{a-\\mu}{\\sigma} = \\frac{a}{\\sigma} = 2.575 \\Longrightarrow a = 2\\tilde{a} = 5.15.\n",
    "$$"
   ]
  },
  {
   "cell_type": "markdown",
   "metadata": {},
   "source": [
    "# Příklady ze slajdů"
   ]
  },
  {
   "cell_type": "markdown",
   "metadata": {},
   "source": [
    "### Příklad (6.2)\n",
    "\n",
    "**Nechť $X\\sim \\mathrm{Geom}\\left(\\frac{1}{2}\\right)$. Definujme veličinu $Y=2X-1$.**\n",
    "\n",
    "**a) Určete rozdělení veličiny $Y$.**\n",
    "\n",
    "Dané geometrické rozdělení má pravděpodobnostní funkci\n",
    "\n",
    "$$\n",
    "P(X=x_k) = (1-p)^{x_k - 1} p = \\left(1-\\frac{1}{2}\\right)^{x_k-1} \\frac{1}{2} = \\left( \\frac{1}{2}\\right)^x_k.\n",
    "$$\n",
    "\n",
    "Vidíme, že mapuje $X\\to Y$ jednoznačně a zatímco $X$ má hodnoty $1,2,\\ldots$, veličina $Y\\sim\\{1,3,5,\\ldots\\}$. Snadno tedy dovodíme, že\n",
    "\n",
    "$$\n",
    "P(Y=y_k) = \\left(\\frac{1}{2}\\right)^{\\frac{y+1}{2}},\n",
    "$$\n",
    "\n",
    "kde exponent je inverzní funkce.\n",
    "\n",
    "**b) Určete $EY$ a $\\operatorname{var}Y$.**\n",
    "\n",
    "Jde o jednoduchou lineární transformaci, viz výše. Tedy použijeme vzorečky pro momenty geometrického rozdělení a dosadíme.\n",
    "\n",
    "$$\n",
    "\\begin{align}\n",
    "EY &= E[2X-1] = 2EX - 1 = 2\\cdot \\frac{1}{\\frac{1}{2}} -1 = 3, \\\\\n",
    "\\operatorname{var}Y &= \\operatorname{var}(2X-1) = 2^2\\operatorname{var}X = 2^2 \\frac{1-\\frac{1}{2}}{\\left(\\frac{1}{2}\\right)^2} = 8.\n",
    "\\end{align}\n",
    "$$"
   ]
  },
  {
   "cell_type": "markdown",
   "metadata": {},
   "source": [
    "### Příklad (6.4)\n",
    "**Rozdělení IQ v populaci se řídí $\\mathcal{N}(100, 15^2)$. Nechť $X$ je hodnota IQ náhodně zvoleného člověka. Najděte:**\n",
    "\n",
    "**a) $P(X>130)$.**\n",
    "\n",
    "$$\n",
    "P(X>130) = P\\left(Z> \\frac{X-\\mu}{\\sigma}\\right) = P\\left(Z>\\frac{30}{15}\\right) = 1 - P(Z\\leq 2) = 1-0.9772 = 0.0228.\n",
    "$$\n",
    "\n",
    "**b) $P(X\\in[85,115])$.**\n",
    "\n",
    "Toto je hezká úloha i na nerovnosti, jež budeme mít později. Všimněte si, že se ptáme na pravděpodobnost do vzdálenosti jedné směrodatné odchylky od středu. To je u standardního normálního rozdělení 1 :)\n",
    "\n",
    "Podle obrázku se symetrickým případem:\n",
    "\n",
    "$$\n",
    "P(X\\in[85,115]) = P(Z\\in[-\\sigma, sigma]) = P(Z\\in[-1, 1]) = 1 - 2P(Z>1) = 1-2[1-P(Z\\leq 1)] = 0.6826. \n",
    "$$\n",
    "\n",
    "**c) Takové $k$, aby $P(100-k < X \\leq 100 + k) = 0.95$.**\n",
    "\n",
    "Zde se hodí dolní obrázek o symetrickém případu. Povšimněme si, že máme opět případ s posunem, opět o hodnotu $\\mu$, tedy do $\\mathcal{N}(0, 15)$. Do každého z chvostů se schová 2.5% pravděpodobnosti, tedy hledáme kvantily 0.975 a 0.025. Když si to trochu rozkreslíme (za domácí úkol), snadno nahlédneme, že $k=29.4 = 1.96\\cdot \\sigma = 1.95\\cdot 15$."
   ]
  },
  {
   "cell_type": "markdown",
   "metadata": {},
   "source": [
    "### Příklad (6.7)\n",
    "\n",
    "**Nechť spojitá náhodná veličina $X$ je určena hustotou**\n",
    "\n",
    "$$\n",
    "f_X(x) = \n",
    "\\begin{cases}\n",
    "1 &\\text{pro}\\ x\\in(0,1), \\\\\n",
    "0 &\\text{jinde}.\n",
    "\\end{cases}\n",
    "$$\n",
    "\n",
    "**Definujme náhodnou veličinu $Y=\\cos(\\pi X)$. Najděte distribuční funkci a hustotu $Y$.**\n",
    "\n",
    "Jde o transformaci spojité veličiny striktně klesající funkcí. Sepišme si tedy co můžeme:\n",
    "\n",
    "$$\n",
    "\\begin{align}\n",
    "X &\\sim \\mathcal{U}(0,1),\\\\\n",
    "F_X(x) &= \\frac{x-a}{b-a} = \\frac{x}{b},\\\\\n",
    "t(X) &= Y = \\cos(\\pi X),\\\\\n",
    "\\tau(Y) &= t^{-1}(Y) = \\arccos(Y),\\\\\n",
    "\\tau'(Y) &= -\\frac{1}{\\sqrt{1-Y^2}},\\\\\n",
    "Y &\\in [-1, 1].\n",
    "\\end{align}\n",
    "$$\n",
    "\n",
    "Podle tvrzení o transformaci klesající funkcí $t$ máme:\n",
    "\n",
    "$$\n",
    "F_Y(y) = P(Y\\leq y) = P(t(X) \\leq y) = P(X \\geq \\tau(y)) = 1 - F_X(\\tau(y)) = \n",
    "\\begin{cases}\n",
    "0 &\\text{pro}\\ y<-1,\\\\\n",
    "1-\\frac{\\arccos(y)}{\\pi} &\\text{pro}\\ y\\in[-1,1],\\\\\n",
    "1 &\\text{pro}\\ y>1.\n",
    "\\end{cases}\n",
    "$$\n",
    "\n",
    "Derivacemi\n",
    "$$\n",
    "f_Y(y) = \n",
    "\\begin{cases}\n",
    "\\frac{1}{\\pi\\sqrt{1-y^2}} &\\text{pro}\\ y\\in[-1,1],\\\\\n",
    "0 &\\text{jinde}.\n",
    "\\end{cases}\n",
    "$$"
   ]
  }
 ],
 "metadata": {
  "kernelspec": {
   "display_name": "Python 3",
   "language": "python",
   "name": "python3"
  },
  "language_info": {
   "codemirror_mode": {
    "name": "ipython",
    "version": 3
   },
   "file_extension": ".py",
   "mimetype": "text/x-python",
   "name": "python",
   "nbconvert_exporter": "python",
   "pygments_lexer": "ipython3",
   "version": "3.6.7"
  }
 },
 "nbformat": 4,
 "nbformat_minor": 2
}
