{
 "cells": [
  {
   "cell_type": "markdown",
   "metadata": {},
   "source": [
    "**Materiály vznikají průběžně a jsou bez záruky - prosím o report chyb :-)**\n",
    "\n",
    "**Update**\n",
    "\n",
    "- kritické hodnoty můžeme najít přímo metodou `isf(alpha, params)`, např. `t.isf(0.05, df=10)`"
   ]
  },
  {
   "cell_type": "code",
   "execution_count": 2,
   "metadata": {},
   "outputs": [],
   "source": [
    "import numpy as np\n",
    "np.set_printoptions(precision=3)\n",
    "from scipy.stats import norm, t, chi2\n",
    "import matplotlib.pylab as plt"
   ]
  },
  {
   "cell_type": "markdown",
   "metadata": {},
   "source": [
    "# [Teorie odhadu](https://en.wikipedia.org/wiki/Estimation_theory) - [intervalové odhady](https://en.wikipedia.org/wiki/Confidence_interval)\n"
   ]
  },
  {
   "cell_type": "markdown",
   "metadata": {},
   "source": [
    "## Příklad\n",
    "\n",
    "Nástupní platy 16 brazilských IT odborníků v nestátní sféře měly v průměru $\\bar{X}_n = 10.3$ tisíce BRL (brazilský real). \n",
    "\n",
    "Předpokládejme, že platy jsou normálně rozdělené se směrodatnou odchylkou 1.2 tisíce, tj.\n",
    "\n",
    "$$\n",
    "X \\sim \\mathcal{N}(\\mu, 1.2^2).\n",
    "$$\n",
    "\n",
    "Střední hodnotu $\\mu$ neznáme a máme ji nějak odhadnout.\n",
    "\n",
    "Nápověda: Můžeme vyjít z podmínky, že bude existovat kvantil $q$ takový, že\n",
    "\n",
    "$$\n",
    "P(\\bar{X}_n > q) = \\alpha,\n",
    "$$\n",
    "\n",
    "kde $\\alpha = 0.1$.\n",
    "\n",
    "---\n",
    "\n",
    "**To už dávno umíme :-)**  - prostě uděláme standardizaci do $\\mathcal{N}(0,1)$ a najdeme odpovídající kvantil $1-\\alpha$. A protože **kvantil $u_{1-\\alpha}$ je totéž, co kritická hodnota $z_\\alpha$**, pro niž máme rovněž tabulky, tak budeme pracovat s ní.\n",
    "\n",
    "![img](img/krit_hod.jpg)\n",
    "\n",
    "$$\n",
    "\\begin{align}\n",
    "\\alpha = P(\\bar{X}_n > q) &=\n",
    "P\\left( \\frac{\\bar{X}_n - \\mu}{\\sigma/\\sqrt{n}} > z_\\alpha \\right) \\\\\n",
    "&= P\\left(\\bar{X}_n - \\mu > \\frac{z_\\alpha \\cdot \\sigma}{\\sqrt{n}} \\right) \\\\\n",
    "&= P \\left( \\bar{X}_n - \\frac{z_\\alpha \\cdot \\sigma}{\\sqrt{n}} > \\mu \\right) = \\alpha = 0.1\n",
    "\\end{align}\n",
    "$$\n",
    "\n",
    "Z prvního a posledního řádku máme tedy tuto interpretaci:\n",
    "\n",
    "**Pravděpodobnost, že průměr $\\bar{X}_n$ překročí $\\alpha$-kritickou hodnotu - tj. $(1-\\alpha)$-kvantil $q$ je stejná, jako pravděpodobnost, že střední hodnota $\\mu$ bude menší než $\\bar{X}_n - \\frac{z_\\alpha \\cdot \\sigma}{\\sqrt{n}}$. A v obou případech bude $\\alpha$.**\n",
    "\n",
    "To znamená, že interval\n",
    "\n",
    "$$\n",
    "\\left(\\bar{X}_n - \\frac{z_\\alpha \\cdot \\sigma}{\\sqrt{n}}, \\infty\\right)\n",
    "$$\n",
    "\n",
    "pokrývá skutečnou (leč neznámou) hodnotu $\\mu$ s pravděpodobností $1-\\alpha$. Takový interval nazýváme **pravostranným $(1-\\alpha)$% intervalem spolehlivosti**.\n",
    "\n",
    "Zcela analogickým postupem bychom došli k **levostrannému intervalu spolehlivosti** ve tvaru\n",
    "\n",
    "$$\n",
    "\\left(-\\infty, \\bar{X}_n + \\frac{z_\\alpha \\cdot \\sigma}{\\sqrt{n}}\\right).\n",
    "$$\n",
    "\n",
    "**Oboustranný interval spolehlivosti** rozdělí hodnotu $\\alpha$ na levou a pravou stranu stejnoměrně. A protože standardní \"gaussovka\" je symetrická kolem nuly, jsou i obě kritické hodnoty rozdílné jen znaménkem, $\\pm z_{\\alpha/2}$.\n",
    "\n",
    "![img](img/z_alpha.jpg)\n",
    "\n",
    "Oboustranný interval spolehlivosti tedy bude (dokaže si to!)\n",
    "\n",
    "$$\n",
    "\\left(\\bar{X}_n - \\frac{z_{\\alpha/2} \\cdot \\sigma}{\\sqrt{n}}, \\bar{X}_n + \\frac{z_{\\alpha/2} \\cdot \\sigma}{\\sqrt{n}}\\right).\n",
    "$$\n",
    "\n",
    "Spočtěme si tedy 90% intervaly spolehlivosti pro střední hodnotu platu brazilských ajťáků :-)"
   ]
  },
  {
   "cell_type": "code",
   "execution_count": 3,
   "metadata": {},
   "outputs": [
    {
     "name": "stdout",
     "output_type": "stream",
     "text": [
      "10.0% kritická hodnota rozdělení N(0,1):\n",
      "z(0.1)=1.2816\n",
      "\n",
      "5.0% kritická hodnota rozdělení N(0,1):\n",
      "z(0.05)=1.6449\n",
      "\n",
      "Pravostranný IS:  [9.916   inf]\n",
      "Levostranný IS:  [  -inf 10.684]\n",
      "Oboustranný IS:  [ 9.807 10.793]\n"
     ]
    }
   ],
   "source": [
    "Xn = 10.3\n",
    "n = 16\n",
    "sigma = 1.2\n",
    "alpha = 0.1\n",
    "\n",
    "kriticka_hodnota_jedno = norm.isf(alpha)\n",
    "kriticka_hodnota_obou = norm.isf(alpha/2)\n",
    "print('{0}% kritická hodnota rozdělení N(0,1):\\nz({1})={2:.4f}'\n",
    "      .format(100*alpha, alpha, kriticka_hodnota_jedno))\n",
    "print('\\n{0}% kritická hodnota rozdělení N(0,1):\\nz({1})={2:.4f}'\n",
    "      .format(100*alpha/2, alpha/2, kriticka_hodnota_obou))\n",
    "delta = kriticka_hodnota_jedno * sigma / np.sqrt(n)\n",
    "delta_obou = kriticka_hodnota_obou * sigma / np.sqrt(n)\n",
    "ISpravy = np.array([Xn - delta, np.inf])\n",
    "ISlevy = np.array([-np.inf, Xn + delta])\n",
    "IS = np.array([Xn - delta_obou, Xn + delta_obou])\n",
    "print('\\nPravostranný IS: ', ISpravy)\n",
    "print('Levostranný IS: ', ISlevy)\n",
    "print('Oboustranný IS: ', IS)"
   ]
  },
  {
   "cell_type": "markdown",
   "metadata": {},
   "source": [
    "### Pojďme testovat hypotézu o střední hodnotě...\n",
    "\n",
    "**Máme na hladině 0.1 otestovat hypotézu, že střední hodnota $\\mu$ nástupního platu brazilských ajťáků je rovna 11 tisícům proti alternativě, že není.**\n",
    "\n",
    "$$\n",
    "\\begin{align}\n",
    "&H_0: \\mu = \\mu_0 = 11 \\\\\n",
    "&H_A: \\mu \\ne \\mu_0 = 11.\n",
    "\\end{align}\n",
    "$$\n",
    "\n",
    "Naším cílem je, aby:\n",
    "$$\n",
    "\\begin{alignat}{2}\n",
    "&P(\\text{Zamítnu}\\ H_0 | \\text{platí}\\ H_0) \\leq \\alpha,\n",
    "\\qquad\\qquad\\quad &&\\text{(chyba 1. druhu)} \\\\\n",
    "&P(\\text{Nezamítnu}\\ H_0 | \\text{neplatí}\\ H_0)\\ \\text{byla minimální.}\\qquad&&\\text{(chyba 2. druhu)}\\\\\n",
    "\\end{alignat}\n",
    "$$\n",
    "\n",
    "Zde $\\alpha$ nazveme **hladinou testu**, splývá nám zde s **hladinou významnosti**. Podle toho, zda $\\mu_0$ leží či neleží v příslušném intervalu spolehlivosti buď $H_0$ **nezamítneme** nebo **zamítneme**. Hypotézy se **nikdy nepřijímají**!\n",
    "\n",
    "**V příkladu $\\mu_0 \\notin [9.807, 10.793] \\Longrightarrow$ zamítáme $H_0$.** Brazilští ajťáci prostě nenastupují za platy, jež by měly střední hodnotu 11 tisíc realů."
   ]
  },
  {
   "cell_type": "markdown",
   "metadata": {},
   "source": [
    "## Intervalový odhad potřebuje rozptyl. Co když jej nemáme?\n",
    "\n",
    "**Nahradíme-li rozptyl $\\sigma^2$ jeho bodovým odhadem - výběrovým rozptylem**\n",
    "\n",
    "$$\n",
    "s^2 = \\frac{1}{n-1} \\sum_{i=1}^n (X_i - \\bar{X}_n)^2,\n",
    "$$\n",
    "\n",
    "**dostaneme veličinu se [Studentovým $t$ rozdělením](https://en.wikipedia.org/wiki/Student%27s_t-distribution) s $n-1$ stupni volnosti**,\n",
    "\n",
    "$$\n",
    "\\frac{\\bar{X}_n - \\mu}{s/\\sqrt{n}} \\sim t_{n-1}.\n",
    "$$\n",
    "\n",
    "Toto rozdělení pochází do [W.S. Gosseta aka Studenta](https://en.wikipedia.org/wiki/William_Sealy_Gosset), v té době zaměstnance firmy Guiness. Používá se pro popis veličin s (přibližně) normálním rozdělením a to zejména v případech, kdy je k dispozici pouze malý rozsah výběru a tedy odhad rozptylu má \"větší nejistotu\". Proto má Studentovo rozdělení při malém počtu stupňů volnosti (\"málo datech\") plošší hustotu. V limitě potom přejde do normálního rozdělení. Proto v důsledku limitních vět lze použít i pro jiná rozdělení, zvl. pokud je rozumný rozsah výběru.\n",
    "\n",
    "Speciální případ [Studentova rozdělení](https://en.wikipedia.org/wiki/Student%27s_t-distribution) je $n=1$, tzv. [Cauchyho rozdělení](https://en.wikipedia.org/wiki/Cauchy_distribution). To je příkladem degenerovaného rozdělení, neboť jeho střední hodnota ani rozptyl pro příliš [těžké chvosty](https://en.wikipedia.org/wiki/Heavy-tailed_distribution) neexistují.\n",
    "\n",
    "Hustoty rozdělení pro pár stupňů volnosti a porovnání s hustotou $\\mathcal{N}(0,1)$ znázorňuje následující obrázek. Současně dává tušit, že intervaly spolehlivosti při stejné hladině budou širší, než při známém rozptylu. Proč? ;-)"
   ]
  },
  {
   "cell_type": "code",
   "execution_count": 4,
   "metadata": {},
   "outputs": [
    {
     "data": {
      "image/png": "[encoded data removed]",
      "text/plain": [
       "<Figure size 720x360 with 1 Axes>"
      ]
     },
     "metadata": {
      "needs_background": "light"
     },
     "output_type": "display_data"
    }
   ],
   "source": [
    "x = np.linspace(-4, 4, 1000)\n",
    "plt.figure(figsize=(10,5))\n",
    "plt.plot(x, norm.pdf(x), label='N(0,1)')\n",
    "for df in [1, 2, 5, 15]:\n",
    "    plt.plot(x, t.pdf(x, df=df), label=r'$t_{' + str(df) + '}$')\n",
    "plt.legend()\n",
    "plt.xlabel('x')\n",
    "plt.ylabel('f(x)')\n",
    "plt.title('Hustoty rozdělení t a N(0,1)')\n",
    "plt.show()"
   ]
  },
  {
   "cell_type": "markdown",
   "metadata": {},
   "source": [
    "### Zpátky k příkladu\n",
    "\n",
    "Předpokládejme nyní, že v příkladu výše neznáme rozptyl, ale výběrový rozptyl nám vyšel $1.2^2$ (tedy stejně jako rozptyl výše, pro porovnání). Budeme počítat intervaly spolehlivosti pomocí Studentova t rozdělení. Jaké jsou v porovnání s předchozími?"
   ]
  },
  {
   "cell_type": "code",
   "execution_count": 5,
   "metadata": {},
   "outputs": [
    {
     "name": "stdout",
     "output_type": "stream",
     "text": [
      "10.0% kritická hodnota rozdělení t:\n",
      "t(0.1)=1.3406\n",
      "\n",
      "5.0% kritická hodnota rozdělení t:\n",
      "t(0.05)=1.7531\n",
      "\n",
      "Levostranný IS:  [  -inf 10.702]\n",
      "Pravostranný IS:  [9.898   inf]\n",
      "Oboustranný IS:  [ 9.774 10.826]\n"
     ]
    }
   ],
   "source": [
    "Xn = 10.3\n",
    "n = 16\n",
    "s= 1.2\n",
    "alpha = 0.1\n",
    "\n",
    "kriticka_hodnota_jedno = t.isf(alpha, df=n-1)\n",
    "kriticka_hodnota_obou = t.isf(alpha/2, df=n-1)\n",
    "\n",
    "print('{0}% kritická hodnota rozdělení t:\\nt({1})={2:.4f}'\n",
    "      .format(100*alpha, alpha, kriticka_hodnota_jedno))\n",
    "print('\\n{0}% kritická hodnota rozdělení t:\\nt({1})={2:.4f}'\n",
    "      .format(100*alpha/2, alpha/2, kriticka_hodnota_obou))\n",
    "\n",
    "delta = kriticka_hodnota_jedno * s / np.sqrt(n)\n",
    "delta_obou = kriticka_hodnota_obou * s / np.sqrt(n)\n",
    "\n",
    "ISpravy = np.array([Xn - delta, np.inf])\n",
    "ISlevy = np.array([-np.inf, Xn + delta])\n",
    "IS = np.array([Xn - delta_obou, Xn + delta_obou])\n",
    "\n",
    "print('\\nLevostranný IS: ', ISlevy)\n",
    "print('Pravostranný IS: ', ISpravy)\n",
    "print('Oboustranný IS: ', IS)"
   ]
  },
  {
   "cell_type": "markdown",
   "metadata": {},
   "source": [
    "### [Test hypotézy](https://en.wikipedia.org/wiki/Statistical_hypothesis_testing#Definition_of_terms)\n",
    "\n",
    "Máme navíc na stejné hladině $\\alpha$ otestovat\n",
    "\n",
    "$$\n",
    "\\begin{align}\n",
    "&H_0: \\mu = 10 \\\\\n",
    "&H_A: \\mu < 10.\n",
    "\\end{align}\n",
    "$$\n",
    "\n",
    "Jelikož $10 \\in [-\\infty, 10.702]$, nulovou hypotézu nezamítáme.\n",
    "\n",
    "Teď už by mělo být zřejmé, že testy jsou rovněž jednostranné nebo oboustranné a používáme k nim související intervaly spolehlivosti :)"
   ]
  },
  {
   "cell_type": "markdown",
   "metadata": {},
   "source": [
    "## Intervaly spolehlivosti pro rozptyl normálního rozdělení\n",
    "\n",
    "Vyjdeme z toho, že pro výběr $X_1, \\ldots, X_n$, $n\\geq 2$ z normálního rozdělení $\\mathcal{N}(\\mu, \\sigma^2)$, kde $\\sigma^2>0$ a výběrový (nevychýlený) rozptyl $s^2$ má náhodná veličina\n",
    "\n",
    "$$\n",
    "\\frac{(n-1)s^2}{\\sigma^2} \\sim \\chi_{n-1}^2,\n",
    "$$\n",
    "\n",
    "tj. má [chí-kvadrát rozdělení](https://en.wikipedia.org/wiki/Chi-squared_distribution) s $n-1$ stupni volnosti. Graf hustoty pro různé stupně volnosti vypadá následovně:"
   ]
  },
  {
   "cell_type": "code",
   "execution_count": 6,
   "metadata": {},
   "outputs": [
    {
     "data": {
      "image/png": "[encoded data removed]",
      "text/plain": [
       "<Figure size 720x360 with 1 Axes>"
      ]
     },
     "metadata": {
      "needs_background": "light"
     },
     "output_type": "display_data"
    }
   ],
   "source": [
    "x = np.linspace(1e-10, 15, 1000)\n",
    "plt.figure(figsize=(10,5))\n",
    "for df in [2, 4, 5, 8]:\n",
    "    plt.plot(x, chi2.pdf(x, df=df), label=r'$\\chi_{' + str(df) + '}^2$')\n",
    "plt.legend()\n",
    "plt.xlabel('x')\n",
    "plt.ylabel('f(x)')\n",
    "plt.title('Hustoty chí-kvadrát rozdělení')\n",
    "plt.show()"
   ]
  },
  {
   "cell_type": "markdown",
   "metadata": {},
   "source": [
    "Řekněme, že máme udělat takový interval pro $\\sigma^2$, aby pro zjištěný výběrový rozptyl $s^2$ a zadanou kritickou hodnotu $\\alpha$ platilo\n",
    "\n",
    "$$\n",
    "\\begin{align}\n",
    "\\alpha = P(s^2 > q) &= P\\left( \\frac{(n-1)s^2}{\\sigma^2} > \\chi_{n-1}^2(\\alpha) \\right) \\\\\n",
    "&= P\\left( \\frac{(n-1)s^2}{\\chi_{n-1}^2(\\alpha)} > \\sigma^2 \\right).\n",
    "\\end{align}\n",
    "$$\n",
    "\n",
    "Stejně jako výše jsme tedy současně našli **$(1-\\alpha)$% pravostranný interval spolehlivosti pro rozptyl** ve tvaru\n",
    "\n",
    "$$\n",
    "\\left(\\frac{(n-1)s^2}{\\chi_{n-1}^2(\\alpha)}, \\infty\\right).\n",
    "$$\n",
    "\n",
    "Interval levostranný nelze hledat symetrií, neboť chí-kvadrát rozdělení není symetrické ani centrované v nule. Budeme tedy hledat pro kritickou hodnotu $1-\\alpha$ a získáme **$(1-\\alpha)$% levostranný interval spolehlivosti pro rozptyl**\n",
    "\n",
    "$$\n",
    "\\left( 0, \\frac{(n-1)s^2}{\\chi_{n-1}^2(1-\\alpha)} \\right).\n",
    "$$\n",
    "\n",
    "Oboustranný interval se hledá z \"úmluvy\", že se navzdory asymetrii $\\alpha$ rozdělí symetricky a budeme hledat s kritickými hodnotami $\\chi_{n-1}^2(1-\\alpha/2)$ a $\\chi_{n-1}^2(\\alpha/2)$. Výsledný **oboustranný interval spolehlivosti** pro rozptyl je\n",
    "\n",
    "$$\n",
    "\\left(\n",
    "\\frac{(n-1)s^2}{\\chi_{n-1}^2 \\left(\\frac{\\alpha}{2}\\right)},\n",
    "\\frac{(n-1)s^2}{\\chi_{n-1}^2 \\left(1-\\frac{\\alpha}{2} \\right)} \\right)\n",
    "$$\n",
    "\n",
    "Pozor na meze jednostranných IS (nuly). Tyto IS platí jen pro rozptyl normálního rozdělení!"
   ]
  },
  {
   "cell_type": "markdown",
   "metadata": {},
   "source": [
    "### A naposled k příkladu výše\n",
    "\n",
    "Máme sestavit interval spolehlivosti pro rozptyl $\\sigma^2$, pokud výběrová směrodatná odchylka vyšla $s=1.2$."
   ]
  },
  {
   "cell_type": "code",
   "execution_count": 7,
   "metadata": {},
   "outputs": [
    {
     "name": "stdout",
     "output_type": "stream",
     "text": [
      "Výběrový rozptyl s2 =  1.44\n",
      "Pravostranný IS:  [0.968   inf]\n",
      "Levostranný IS:  [0.    2.527]\n",
      "Oboustranný IS:  [0.864 2.975]\n"
     ]
    }
   ],
   "source": [
    "s2 = 1.2**2\n",
    "alpha = 0.1\n",
    "print('Výběrový rozptyl s2 = ', s2)\n",
    "\n",
    "kriticka_hodnota_levy = chi2.isf(1-alpha, df=n-1)\n",
    "kriticka_hodnota_pravy = chi2.isf(alpha, df=n-1)\n",
    "kriticka_hodnota_oboustr = chi2.isf([alpha/2, 1-alpha/2], df=n-1)\n",
    "\n",
    "IS_pravy = np.array([(n-1) * s2 / kriticka_hodnota_pravy, np.inf])\n",
    "IS_levy = np.array([0, (n-1) * s2 / kriticka_hodnota_levy])\n",
    "IS = (n - 1) * s2 / kriticka_hodnota_oboustr\n",
    "\n",
    "print('Pravostranný IS: ', IS_pravy)\n",
    "print('Levostranný IS: ', IS_levy)\n",
    "print('Oboustranný IS: ', IS)"
   ]
  },
  {
   "cell_type": "markdown",
   "metadata": {},
   "source": [
    "## Shrnutí intervalů spolehlivosti a testů\n",
    "\n",
    "Následující tabulka shrnuje tři uvedené typy intervalů spolehlivosti. Na konci máme ještě podobu alternativní hypotézy. Pokud testujeme střední hodnotu, pak za $\\theta$ dosazujeme $\\mu$, a $\\theta_0$ je testovaná hodnota. Obecně ve statistice je $\\theta$ univerzální písmenko, kterým značíme parametry, většinou neznámé a odhadované.\n",
    "\n",
    "Pokud máme např. na hladině $\\alpha=0.01$ testovat, že střední hodnota je 10 proti alternativě, že je menší a rozptyl neznáme, tj.\n",
    "\n",
    "$$\n",
    "\\begin{align}\n",
    "&H_0: \\mu = 10 \\\\\n",
    "&H_A: \\mu < 10\n",
    "\\end{align}\n",
    "$$\n",
    "\n",
    "použijeme příslušný 99% levostranný interval spolehlivosti a ověříme, zda do něj hodnota $\\mu_0 = 10$ patří či nikoliv. Podle toho $H_0$ nezamítneme či zamítneme. Pozor, pokud zamítneme, tak to děláme ve prospěch alternativní hypotézy. Pokud ovšem nezamítneme, nevíme nic :) **Hypotézy nikdy nepřijímáme!** Pokud test vychází tak, že zamítáme $H_0$, mluvíme o statisticky významném testu.\n",
    "\n",
    "| Odhadovaný parametr| Levostranný interval spolehlivosti | Pravostranný interval spolehlivosti | Oboustranný interval spolehlivosti&nbsp;&nbsp;&nbsp;&nbsp;&nbsp;&nbsp;&nbsp; |\n",
    "|---|:---:|:---:|:---:|\n",
    "| $\\mu=?$, známé $\\sigma^2$| ${\\left(-\\infty, \\bar{X}_n + \\frac{z_\\alpha \\cdot \\sigma}{\\sqrt{n}}\\right)}$| ${\\left(\\bar{X}_n - \\frac{z_\\alpha \\cdot \\sigma}{\\sqrt{n}}, \\infty\\right)}$ | ${\\left(\\bar{X}_n - \\frac{z_{\\alpha/2} \\cdot \\sigma}{\\sqrt{n}}, \\bar{X}_n + \\frac{z_{\\alpha/2} \\cdot \\sigma}{\\sqrt{n}}\\right)}$ |\n",
    "| $\\mu=?$, neznámé $\\sigma^2$| $\\left(-\\infty, \\bar{X}_n + \\frac{t_{n-1}(\\alpha) \\cdot s}{\\sqrt{n}}\\right)$ | $\\left(\\bar{X}_n - \\frac{t_{n-1}(\\alpha) \\cdot s}{\\sqrt{n}}, \\infty\\right)$ |$\\left(\\bar{X}_n - \\frac{t_{n-1}\\left(\\frac{\\alpha}{2}\\right) \\cdot s}{\\sqrt{n}}, \\bar{X}_n + \\frac{t_{n-1}\\left(\\frac{\\alpha}{2}\\right) \\cdot s}{\\sqrt{n}}\\right)$ |\n",
    "| $\\sigma^2=?$ | $\\left( 0, \\frac{(n-1)s^2}{\\chi_{n-1}^2(1-\\alpha)} \\right)$ | $\\left(\\frac{(n-1)s^2}{\\chi_{n-1}^2(\\alpha)}, \\infty\\right)$ | $\\left(\\frac{(n-1)s^2}{\\chi_{n-1}^2 \\left(\\frac{\\alpha}{2}\\right)},\\frac{(n-1)s^2}{\\chi_{n-1}^2 \\left(1-\\frac{\\alpha}{2} \\right)} \\right)$ |\n",
    "|$H_A$| $\\theta < \\theta_0$| $\\theta > \\theta_0$| $\\theta \\ne \\theta_0$ |\n",
    "\n",
    "Uvedené testy nazýváme celkem přímočaře [Z-test hypotézy o střední hodnotě](https://en.wikipedia.org/wiki/Z-test), [t-test hypotézy o střední hodnotě](https://en.wikipedia.org/wiki/Student%27s_t-test#One-sample_t-test) a [chí-kvadrát test hypotézy o rozptylu normální veličiny](https://en.wikipedia.org/wiki/Chi-squared_test#Chi-squared_test_for_variance_in_a_normal_population).\n",
    "\n",
    "Celá problematika intervalových odhadů a testování hypotéz je daleko bohatší, než lze v PST probrat. Ale stojí za to si o tom před zkouškou něco přečíst - viz odkazy v celém notebooku."
   ]
  },
  {
   "cell_type": "markdown",
   "metadata": {},
   "source": [
    "## Co jsou a nejsou intervaly spolehlivosti\n",
    "\n",
    "[**Pozor, v tomto chybují i experti! Ale student PST nesmí!**](https://en.wikipedia.org/wiki/Confidence_interval#Meaning_and_interpretation)\n",
    "\n",
    "Víme, že průměr náhodných veličin je náhodná veličina. Proto i interval spolehlivosti zkonstruovaný z výběru bude v nějakém smyslu náhodný, pro různá pozorování bude různý.\n",
    "\n",
    "$(1-\\alpha)$% interval spolehlivosti je takový interval, který s pravděpodobností $1-\\alpha$ **pokryje** odhadovaný neznámý parametr. Jinými slovy, ze 100 zkonstruovaných intervalů jich v průměru $\\alpha$ parametr nepokryje - viz následující simulace.\n",
    "\n",
    "**Není pravdivé tvrzení**, že $(1-\\alpha)$% interval spolehlivosti obsahuje neznámý parametr s pravděpodobností $1-\\alpha$. To dělají bayesovské intervaly spolehlivosti!"
   ]
  },
  {
   "cell_type": "code",
   "execution_count": 13,
   "metadata": {},
   "outputs": [
    {
     "data": {
      "image/png": "[encoded data removed]",
      "text/plain": [
       "<Figure size 1008x288 with 1 Axes>"
      ]
     },
     "metadata": {
      "needs_background": "light"
     },
     "output_type": "display_data"
    }
   ],
   "source": [
    "EX = 0\n",
    "sigma2 = 1\n",
    "n = 30\n",
    "alpha=0.05\n",
    "repeats = 100\n",
    "\n",
    "Xis = norm.rvs(loc=EX, scale=np.sqrt(sigma2), size=(repeats, n))\n",
    "Xbars = Xis.mean(axis=1)\n",
    "z_krit = norm.isf(alpha/2)\n",
    "deltas = z_krit * np.sqrt(sigma2) / np.sqrt(n)\n",
    "ISs = np.c_[Xbars - deltas, Xbars + deltas]\n",
    "ISs_out_ind = np.r_[np.argwhere(ISs[:,0]>EX).flatten(), \n",
    "                    np.argwhere(ISs[:,1]<EX).flatten()]\n",
    "\n",
    "plt.figure(figsize=(14,4))\n",
    "plt.vlines(range(repeats), ymin=ISs[:,0], ymax=ISs[:,1])\n",
    "plt.vlines(ISs_out_ind, ymin=ISs[ISs_out_ind,0], ymax=ISs[ISs_out_ind, 1], color='red')\n",
    "plt.axhline(EX, color='blue', label='EX')\n",
    "plt.legend()\n",
    "plt.title('{0}% intervaly spolehlivosti pro EX. Parametr nepokrylo: {1} ({2:.1f}%)'\n",
    "          .format((1-alpha)*100, ISs_out_ind.size, 100*ISs_out_ind.size/repeats))\n",
    "plt.show()"
   ]
  },
  {
   "cell_type": "markdown",
   "metadata": {},
   "source": [
    "## Příklad 10.1\n",
    "\n",
    "**Uvažujme náhodný výběr $n = 16$ hodnot z normálního rozdělení. Výběrový průměr a směrodatnou odchylku jsme spočetli jako $\\bar X_n = 10.3$ a $s_n = 1.2$.**\n",
    "\n",
    "**a) Najděte oboustranný a levý (dolní) jednostranný 90% interval spolehlivosti pro střední hodnotu $\\mu$.**"
   ]
  },
  {
   "cell_type": "code",
   "execution_count": 8,
   "metadata": {},
   "outputs": [
    {
     "name": "stdout",
     "output_type": "stream",
     "text": [
      "10.0% kritická hodnota rozdělení t:\n",
      "t(0.1)=1.3406\n",
      "\n",
      "5.0% kritická hodnota rozdělení t:\n",
      "t(0.05)=1.7531\n",
      "\n",
      "Levostranný IS:  [  -inf 10.702]\n",
      "Oboustranný IS:  [ 9.774 10.826]\n"
     ]
    }
   ],
   "source": [
    "Xbar = 10.3\n",
    "sn = 1.2\n",
    "n = 16\n",
    "alpha = 0.1\n",
    "\n",
    "kriticka_hodnota_jedno = t.isf(alpha, df=n-1)\n",
    "kriticka_hodnota_obou = t.isf(alpha/2, df=n-1)\n",
    "print('{0}% kritická hodnota rozdělení t:\\nt({1})={2:.4f}'\n",
    "      .format(100*alpha, alpha, kriticka_hodnota_jedno))\n",
    "print('\\n{0}% kritická hodnota rozdělení t:\\nt({1})={2:.4f}'\n",
    "      .format(100*alpha/2, alpha/2, kriticka_hodnota_obou))\n",
    "delta = kriticka_hodnota_jedno * s / np.sqrt(n)\n",
    "delta_obou = kriticka_hodnota_obou * s / np.sqrt(n)\n",
    "ISlevy = np.array([-np.inf, Xn + delta])\n",
    "IS = np.array([Xn - delta_obou, Xn + delta_obou])\n",
    "print('\\nLevostranný IS: ', ISlevy)\n",
    "print('Oboustranný IS: ', IS)"
   ]
  },
  {
   "cell_type": "markdown",
   "metadata": {},
   "source": [
    "**b) Najděte oboustranný a levý (dolní) interval 90% spolehlivosti pro rozptyl $\\sigma^2$.**"
   ]
  },
  {
   "cell_type": "code",
   "execution_count": 9,
   "metadata": {},
   "outputs": [
    {
     "name": "stdout",
     "output_type": "stream",
     "text": [
      "Levostranný IS:  [0.    2.527]\n",
      "Oboustranný IS:  [0.864 2.975]\n"
     ]
    }
   ],
   "source": [
    "sn = 1.2\n",
    "s2 = sn**2\n",
    "n = 16\n",
    "alpha = 0.1\n",
    "\n",
    "kriticka_hodnota_levy = chi2.isf(1-alpha, df=n-1)\n",
    "kriticka_hodnota_oboustr = chi2.isf([alpha/2, 1-alpha/2], df=n-1)\n",
    "\n",
    "IS_levy = np.array([0, (n-1) * s2 / kriticka_hodnota_levy])\n",
    "IS = (n - 1) * s2 / kriticka_hodnota_oboustr\n",
    "\n",
    "print('Levostranný IS: ', IS_levy)\n",
    "print('Oboustranný IS: ', IS)"
   ]
  },
  {
   "cell_type": "markdown",
   "metadata": {},
   "source": [
    "## Příklad 10.2\n",
    "\n",
    "**Potřebujeme odhadnout průměrnou délku transakce databázového serveru (v jednotkách ms). Předpokládejme, že délky transakcí jsou nezávislé a stejně rozdělené $X_1, X_2, \\dotsc$ s konečnými $\\mu = \\mathrm E X_i$ a $\\sigma^2 = \\operatorname{var} X_i$.**\n",
    "\n",
    "**Z $50$ náhodně vybraných transakcí jsme spočetli:**\n",
    "\n",
    "$$\n",
    "            \\sum_{i=1}^{50} X_i = 684.199\\quad\\text{a}\\quad \\sum_{i=1}^{50} X_i^2 = 18651.3.\n",
    "$$\n",
    "\n",
    "**a) Najděte bodový odhad střední hodnoty $\\mu$ a rozptylu $\\sigma^2$.**"
   ]
  },
  {
   "cell_type": "code",
   "execution_count": 10,
   "metadata": {},
   "outputs": [
    {
     "name": "stdout",
     "output_type": "stream",
     "text": [
      "Průměr - odhad střední hodnoty: 13.68\n",
      "Výběrová variance s2 = 189.5660\n",
      "(Bez Besselovy korekce: s2 = 185.7747)\n"
     ]
    }
   ],
   "source": [
    "sum_x = 684.199\n",
    "sum_x2 = 18651.3\n",
    "n = 50\n",
    "\n",
    "mean_x = sum_x / n\n",
    "mean_x2 = sum_x2 / n\n",
    "varX = mean_x2 - mean_x**2\n",
    "varXc = varX * n/(n-1)\n",
    "\n",
    "print('Průměr - odhad střední hodnoty: {0:.2f}'.format(mean_x))\n",
    "print('Výběrová variance s2 = {0:.4f}'.format(varXc))\n",
    "print('(Bez Besselovy korekce: s2 = {0:.4f})'.format(varX))"
   ]
  },
  {
   "cell_type": "markdown",
   "metadata": {},
   "source": [
    "**b) Najděte jedno a oboustranné $99\\%$ intervalové odhady $\\mu$.**"
   ]
  },
  {
   "cell_type": "code",
   "execution_count": 11,
   "metadata": {},
   "outputs": [
    {
     "name": "stdout",
     "output_type": "stream",
     "text": [
      "\n",
      "Levostranný IS:  [  -inf 18.367]\n",
      "Pravostranný IS:  [9.001   inf]\n",
      "Oboustranný IS:  [ 8.466 18.902]\n"
     ]
    }
   ],
   "source": [
    "s = np.sqrt(varXc)\n",
    "alpha = 0.01\n",
    "\n",
    "kriticka_hodnota_jedno = t.isf(alpha, df=n-1)\n",
    "kriticka_hodnota_obou = t.isf(alpha/2, df=n-1)\n",
    "\n",
    "delta = kriticka_hodnota_jedno * s / np.sqrt(n)\n",
    "delta_obou = kriticka_hodnota_obou * s / np.sqrt(n)\n",
    "\n",
    "ISpravy = np.array([mean_x - delta, np.inf])\n",
    "ISlevy = np.array([-np.inf, mean_x + delta])\n",
    "IS = np.array([mean_x - delta_obou, mean_x + delta_obou])\n",
    "\n",
    "print('\\nLevostranný IS: ', ISlevy)\n",
    "print('Pravostranný IS: ', ISpravy)\n",
    "print('Oboustranný IS: ', IS)"
   ]
  },
  {
   "cell_type": "markdown",
   "metadata": {},
   "source": [
    "**c) Proč je třeba předpokládat konečný rozptyl $\\sigma^2$?**"
   ]
  },
  {
   "cell_type": "markdown",
   "metadata": {},
   "source": [
    "Centrální limitní věta, již používáme při aproximacích, má tuto nutnou podmínku."
   ]
  },
  {
   "cell_type": "markdown",
   "metadata": {},
   "source": [
    "**d) Proč nemůžeme zkonstruovat intervalový odhad $\\sigma^2$?**"
   ]
  },
  {
   "cell_type": "markdown",
   "metadata": {},
   "source": [
    "Uvedený intervalový odhad pro rozptyl předpokládá normálně rozdělenou veličinu. Tou doba odezvy serveru není."
   ]
  },
  {
   "cell_type": "markdown",
   "metadata": {},
   "source": [
    "### Příklad 10.3\n",
    "\n",
    "**Uvažujme náhodnou veličinu $Y$ s normálním rozdělením. Chceme odhadnout její střední hodnotu  pomocí 95% konfidenčního intervalu šířky 0.01.**\n",
    "       \n",
    "**Z předběžného výběru jsme odhadli rozptyl jako $s^2 = 4.23$.**\n",
    "\n",
    "**a) Odhadněte, jak veliký náhodný výběr budeme potřebovat.**\n",
    "\n",
    "Nejjednodušší bude využít odhad pomocí kvantilů/kritických hodnot normálního rozdělení a pak případně zpřesnit v okolí pohledem na Studentovo t rozdělení. V normálním rozdělení hledáme oboustranný interval,\n",
    "\n",
    "$$\n",
    "\\left(\\bar{X}_n - \\frac{z_{0.05/2} \\cdot \\sigma}{\\sqrt{n}}, \\bar{X}_n + \\frac{z_{0.05/2} \\cdot \\sigma}{\\sqrt{n}}\\right)\n",
    "=\n",
    "\\left(\\bar{X}_n - \\frac{0.01}{2}, \\bar{X}_n + \\frac{0.01}{2}\\right),\n",
    "$$\n",
    "\n",
    "kde nahradíme za $\\sigma$ výběrovou směrodatnou odchylku $s$ a řešíme pro $n$,\n",
    "\n",
    "$$\n",
    "n = \\left( \\frac{z_{0.05/2} \\cdot \\sigma}{\\frac{0.01}{2}} \\right)^2\n",
    "$$\n",
    "\n",
    "Pro jednoduchost můžeme položit $\\bar{X}_n = 0$, neboť poloha průměru o potřebném $n$ nerozhoduje.\n",
    "\n",
    "Níže je výpočet z normality:"
   ]
  },
  {
   "cell_type": "code",
   "execution_count": 12,
   "metadata": {},
   "outputs": [
    {
     "name": "stdout",
     "output_type": "stream",
     "text": [
      "Z normálního rozdělení před zaokrouhlením:  649974.8324614464\n"
     ]
    }
   ],
   "source": [
    "s2 = 4.23\n",
    "\n",
    "n_norm = (norm.isf(0.05/2) * np.sqrt(s2) / (0.01/2))**2\n",
    "print('Z normálního rozdělení před zaokrouhlením: ', n_norm)"
   ]
  },
  {
   "cell_type": "markdown",
   "metadata": {},
   "source": [
    "a numerická optimalizace ve Studentovi pro nalezení optimální hodnoty. Funkce `fminbound()` hledá minimum, omezili jsme se na výsledek z předchozího kroku plus mínus 100 a hledáme minimum\n",
    "\n",
    "$$\n",
    "\\left| \\frac{t_{n-1}(0.05/2) \\cdot \\sigma}{\\sqrt{n}} - \\frac{0.01}{2} \\right|,\n",
    "$$\n",
    "\n",
    "neboť víme, že by se měla hodnota před mínusem rovnat hodnotě za mínusem."
   ]
  },
  {
   "cell_type": "code",
   "execution_count": 13,
   "metadata": {},
   "outputs": [
    {
     "name": "stdout",
     "output_type": "stream",
     "text": [
      "Optimalizací v t rozdělení před zaokrouhlením:  649977.2476477955\n"
     ]
    }
   ],
   "source": [
    "from scipy.optimize import fminbound\n",
    "def target_func(n, tol=1e-10):\n",
    "    return np.abs(t.isf(0.05/2, df=n-1) * np.sqrt(s2) / np.sqrt(n) - 0.01/2)\n",
    "\n",
    "res = fminbound(target_func, n_norm-100, n_norm+100)\n",
    "print('Optimalizací v t rozdělení před zaokrouhlením: ', res)"
   ]
  },
  {
   "cell_type": "markdown",
   "metadata": {},
   "source": [
    "**b) Jak se požadovaná velikost výběru změní, pokud by nám stačila šířka intervalu jen $0.1$?**\n",
    "\n",
    "Postup bude stejný."
   ]
  },
  {
   "cell_type": "code",
   "execution_count": 14,
   "metadata": {},
   "outputs": [
    {
     "name": "stdout",
     "output_type": "stream",
     "text": [
      "Z normálního rozdělení před zaokrouhlením:  6499.748324614463\n",
      "Optimalizací v t rozdělení před zaokrouhlením:  6502.169188003062\n"
     ]
    }
   ],
   "source": [
    "s2 = 4.23\n",
    "\n",
    "n_norm = (norm.isf(0.05/2) * np.sqrt(s2) / (0.1/2))**2\n",
    "print('Z normálního rozdělení před zaokrouhlením: ', n_norm)\n",
    "\n",
    "from scipy.optimize import fminbound\n",
    "\n",
    "def target_func(n, tol=1e-10):\n",
    "    return np.abs(t.isf(0.05/2, df=n-1) * np.sqrt(s2) / np.sqrt(n) - 0.1/2)\n",
    "\n",
    "res = fminbound(target_func, n_norm-100, n_norm+100)\n",
    "print('Optimalizací v t rozdělení před zaokrouhlením: ', res)"
   ]
  },
  {
   "cell_type": "markdown",
   "metadata": {},
   "source": [
    "### Příklad 11.1\n",
    "\n",
    "**Výrobce deklaruje, že při daném napětí mají jeho kruhové oscilátory frekvenci 50MHz se standardní směrodatnou odchylkou menší než 1.3MHz. Na substrátovém disku jsme otestovali 8 oscilátorů a naměřili tyto hodnoty frekvence:**\n",
    "\n",
    "\t\t47.4; 51.7; 53.6; 49.5; 51.7; 48.6; 50.2; 50.1\n",
    "\n",
    "**Tj. $\\bar{X}_n=50.35, s_n\\doteq 1.96$.**\n",
    "\t\t\n",
    "**Na hladinách významnosti 5% a 1% otestujte, zda oscilátory splňují parametry výrobce, tj.,**\n",
    "\n",
    "**a) zda střední hodnota frekvencí je rovna 50MHz,**\n",
    "\n",
    "Máme-li testovat \"rovna versus nerovna\", jedná se o oboustranný test s oboustranným intervalem spolehlivosti. V tomto případě s výběrovým rozptylem (resp. směrodatnou odchylkou), tedy **t test**, neboť použijeme Studentovo rozdělení na konstrukci intervalu spolehlivosti. Hypotézy tedy jsou:\n",
    "\n",
    "$$\n",
    "\\begin{align}\n",
    "&H_0: \\mu = 50 \\\\\n",
    "&H_A: \\mu \\ne 50.\n",
    "\\end{align}\n",
    "$$\n",
    "\n",
    "Zkonstruujeme příslušné intervaly pro $\\mu$:"
   ]
  },
  {
   "cell_type": "code",
   "execution_count": 18,
   "metadata": {},
   "outputs": [
    {
     "name": "stdout",
     "output_type": "stream",
     "text": [
      "Kritická hodnota alpha(0.05/2): {kriticka_hodnota_0_05:.3f}\n",
      "Kritická hodnota alpha(0.01/2): {kriticka_hodnota_0_01:.3f}\n",
      "Oboustranný IS, hladina 0.05:  [48.711 51.989]\n",
      "Oboustranný IS, hladina 0.01:  [47.925 52.775]\n"
     ]
    }
   ],
   "source": [
    "Xn = 50.35\n",
    "n = 8\n",
    "s = 1.96\n",
    "\n",
    "alpha_0_05 = 0.05\n",
    "alpha_0_01 = 0.01\n",
    "\n",
    "kriticka_hodnota_0_05 = t.isf(alpha_0_05/2, df=n-1)\n",
    "kriticka_hodnota_0_01 = t.isf(alpha_0_01/2, df=n-1)\n",
    "\n",
    "delta_0_05 = kriticka_hodnota_0_05 * s / np.sqrt(n)\n",
    "delta_0_01 = kriticka_hodnota_0_01 * s / np.sqrt(n)\n",
    "\n",
    "IS_0_05 = np.array([Xn - delta_0_05, Xn + delta_0_05])\n",
    "IS_0_01 = np.array([Xn - delta_0_01, Xn + delta_0_01])\n",
    "\n",
    "print('Kritická hodnota alpha(0.05/2): {kriticka_hodnota_0_05:.3f}')\n",
    "print('Kritická hodnota alpha(0.01/2): {kriticka_hodnota_0_01:.3f}')\n",
    "print('Oboustranný IS, hladina 0.05: ', IS_0_05)\n",
    "print('Oboustranný IS, hladina 0.01: ', IS_0_01)"
   ]
  },
  {
   "cell_type": "markdown",
   "metadata": {},
   "source": [
    "Jelikož testovaná hodnota $\\mu_0 = 50$ leží v obou intervalech spolehlivosti, nezamítáme $H_0$, že střední hodnota frekvencí je 50MHz. **Ale tím neříkáme, že opravdu je - nezamítnutí hypotézy neříká nic o její pravdivosti či pravdivosti alternativy!** Zamyslete se - stačilo by spočítat interval jen pro jednu hladinu významnosti? Pro kterou? Nápověda - vemte v úvahu šířky intervalů. "
   ]
  },
  {
   "cell_type": "markdown",
   "metadata": {},
   "source": [
    "**b) zda směrodatná odchylka je menší než 1.3MHz.**\n",
    "\n",
    "**Předpokládejte normální rozdělení frekvencí.**\n",
    "\n",
    "Testujeme chí-kvadrát testem - pozor, předpoklad normality je zde silný. Máme testovat proti alternativě, že je větší, půjde tedy o pravostranný interval spolehlivosti,\n",
    "\n",
    "$$\n",
    "\\begin{align}\n",
    "&H_0: \\sigma^2 = 1.3^2 \\\\\n",
    "&H_A: \\sigma^2 > 1.3^2 = 1.69.\n",
    "\\end{align}\n",
    "$$"
   ]
  },
  {
   "cell_type": "code",
   "execution_count": 17,
   "metadata": {},
   "outputs": [
    {
     "name": "stdout",
     "output_type": "stream",
     "text": [
      "Kritická hodnota alpha(0.01): 18.475\n",
      "Kritická hodnota alpha(0.05): 14.067\n",
      "Pravostranný IS, hladina 0.01:  [1.456   inf]\n",
      "Pravostranný IS, hladina 0.05:  [1.912   inf]\n"
     ]
    }
   ],
   "source": [
    "s2 = 1.96**2\n",
    "\n",
    "kriticka_hodnota_0_01 = chi2.isf(alpha_0_01, df=n-1)\n",
    "kriticka_hodnota_0_05 = chi2.isf(alpha_0_05, df=n-1)\n",
    "\n",
    "IS_pravy_0_01 = np.array([(n-1) * s2 / kriticka_hodnota_0_01, np.inf])\n",
    "IS_pravy_0_05 = np.array([(n-1) * s2 / kriticka_hodnota_0_05, np.inf])\n",
    "\n",
    "print(f'Kritická hodnota alpha(0.01): {kriticka_hodnota_0_01:.3f}')\n",
    "print(f'Kritická hodnota alpha(0.05): {kriticka_hodnota_0_05:.3f}')\n",
    "print('Pravostranný IS, hladina 0.01: ', IS_pravy_0_01)\n",
    "print('Pravostranný IS, hladina 0.05: ', IS_pravy_0_05)"
   ]
  },
  {
   "cell_type": "markdown",
   "metadata": {},
   "source": [
    "V případě hladiny 0.05 nulovou hypotézu zamítneme, neboť testovaná hodnota neleží v příslušném intervalu spolehlivosti. V případě hladiny 0.01 nulovou hypotézu nezamítáme."
   ]
  },
  {
   "cell_type": "markdown",
   "metadata": {},
   "source": [
    "### Příklad 11.2\n",
    "\n",
    "**Výrobce aut uvádí, že průměrná spotřeba nového modelu je 6 l/100 km. Provedli jsme test na dvaceti vozech a naměřili jsme průměrnou spotřebu a její výběrový rozptyl jako:**\n",
    "        \n",
    "$$\\bar X_n=6.8, s_n^2=2.56.$$\n",
    "        \n",
    "**Otestujte, zda je tvrzení výrobce pravdivé, nebo zda je průměrná spotřeba významně vyšší. Uvažujte**\n",
    "\n",
    "**a) $\\alpha=5\\%$,**\n",
    "\n",
    "**b) $\\alpha=1\\%$.**\n",
    "\n",
    "V obou případech budeme testovat pravostranným intervalem spolehlivosti, neboť\n",
    "\n",
    "$$\n",
    "\\begin{align}\n",
    "&H_0: \\mu = 6 \\\\\n",
    "&H_A: \\mu > 6.\n",
    "\\end{align}\n",
    "$$"
   ]
  },
  {
   "cell_type": "code",
   "execution_count": 19,
   "metadata": {},
   "outputs": [
    {
     "name": "stdout",
     "output_type": "stream",
     "text": [
      "Kritická hodnota alpha(0.01): 2.539\n",
      "Kritická hodnota alpha(0.05): 1.729\n",
      "Pravostranný 95% IS:  [6.181   inf]\n",
      "Pravostranný 99% IS:  [5.891   inf]\n"
     ]
    }
   ],
   "source": [
    "Xn = 6.8\n",
    "n = 20\n",
    "s = np.sqrt(2.56)\n",
    "\n",
    "kriticka_hodnota_0_05 = t.isf(0.05, df=n-1)\n",
    "kriticka_hodnota_0_01 = t.isf(0.01, df=n-1)\n",
    "\n",
    "delta_0_05 = kriticka_hodnota_0_05 * s / np.sqrt(n)\n",
    "delta_0_01 = kriticka_hodnota_0_01 * s / np.sqrt(n)\n",
    "\n",
    "ISpravy_0_05 = np.array([Xn - delta_0_05, np.inf])\n",
    "ISpravy_0_01 = np.array([Xn - delta_0_01, np.inf])\n",
    "\n",
    "print(f'Kritická hodnota alpha(0.01): {kriticka_hodnota_0_01:.3f}')\n",
    "print(f'Kritická hodnota alpha(0.05): {kriticka_hodnota_0_05:.3f}')\n",
    "print('Pravostranný 95% IS: ', ISpravy_0_05)\n",
    "print('Pravostranný 99% IS: ', ISpravy_0_01)"
   ]
  },
  {
   "cell_type": "markdown",
   "metadata": {},
   "source": [
    "$H_0$ tedy na hladině 5% zamítáme, zatímco na hladině 1% nezamítáme."
   ]
  },
  {
   "cell_type": "markdown",
   "metadata": {},
   "source": [
    "### Příklad 11.3\n",
    "\n",
    "**Před bouřkou typicky vzroste rozptyl rychlosti větru. Předpokládejme, že jestliže se blíží bouřka, rozptyl $\\sigma^2$ překročí hodnotu 4.5. Z 200 měření jsme určili konfidenční intervaly pro $\\sigma^2$ jako**\n",
    "\n",
    "- **99% konfidenční interval: $(2.64, 4.43)$,**\n",
    "- **98% konfidenční interval: $(2.7, 4.31)$.**\n",
    " \n",
    "**Přichází bouřka?        \n",
    "Otestujte hypotézu $H_0:\\sigma^2\\leq 4.5$ proti alternativě $H_A:\\sigma^2>4.5$ na hladině významnosti 1%.**\n",
    "\n",
    "Nejprve si spočteme výběrový rozptyl. K tomu nám poslouží libovolný ze vzorců určujících některou z mezí některého z intervalů spolehlivosti, např. pro dolní hranici $L$:\n",
    "\n",
    "$$\n",
    "\\frac{(n-1)s^2}{\\chi_{n-1}^2\\left(\\frac{\\alpha}{2}\\right)} = L \\qquad \\Longrightarrow s^2 = \\frac{L\\cdot \\chi_{n-1}^2\\left(\\frac{\\alpha}{2}\\right) }{n-1}\n",
    "$$"
   ]
  },
  {
   "cell_type": "code",
   "execution_count": 18,
   "metadata": {},
   "outputs": [
    {
     "name": "stdout",
     "output_type": "stream",
     "text": [
      "Výběrový rozptyl s2 = 3.37\n"
     ]
    }
   ],
   "source": [
    "n = 200\n",
    "\n",
    "s2 = 2.7 * chi2.isf(0.02/2, df=n-1) / (n-1)\n",
    "print(\"Výběrový rozptyl s2 = {0:.2f}\".format(s2))"
   ]
  },
  {
   "cell_type": "markdown",
   "metadata": {},
   "source": [
    "Následně můžeme otestovat hypotézu..."
   ]
  },
  {
   "cell_type": "code",
   "execution_count": 19,
   "metadata": {},
   "outputs": [
    {
     "name": "stdout",
     "output_type": "stream",
     "text": [
      "Pravostranný IS, hladina 0.01:  [2.7 inf]\n"
     ]
    }
   ],
   "source": [
    "kriticka_hodnota_0_01 = chi2.isf(alpha_0_01, df=n-1)\n",
    "\n",
    "IS_pravy_0_01 = np.array([(n-1) * s2 / kriticka_hodnota_0_01, np.inf])\n",
    "\n",
    "print('Pravostranný IS, hladina 0.01: ', IS_pravy_0_01)"
   ]
  },
  {
   "cell_type": "markdown",
   "metadata": {},
   "source": [
    "Jelikož interval obsahuje testovanou hodnotu 4.5, nulovou hypotézu nezamítáme."
   ]
  },
  {
   "cell_type": "markdown",
   "metadata": {},
   "source": [
    "### Příklad 11.4\n",
    "\n",
    "**Bezpečnostní senzor pravidelně kontroluje počítačovou učebnu. Jestliže není v učebně detekován žádný pohyb, senzor vrací signál $X=W$, kde $W$ je náhodná veličina se střední hodnotou 0 a malým rozptylem. V případě detekce pohybu vrací senzor signál $X=W+\\theta$, kde $\\theta>0$ je neznámá konstanta. Po 35 pozorováních jsme určili konfidenční intervaly pro $\\mu=\\mathrm{E} X$ jako**\n",
    "\n",
    "- **90% konfidenční interval: $(0.405, 5.394)$,**\n",
    "- **95% konfidenční interval: $(-0.072, 5.872)$.**\n",
    "\n",
    "**Zvolte nulovou hypotézu $H_0$ a alternativní hypotézu $H_A$, chceme-li otestovat přítomnost pohybu v učebně.**\n",
    "\n",
    "**S touto volbou proveďte testování tak, aby pravděpodobnost chyby prvního druhu byla:**\n",
    "\n",
    "**a) 5%,**\n",
    "\n",
    "**b) 2.5%.**\n",
    "\n",
    "Postup bude stejný jako v předchozím případě, jen musíme najít dvě neznámé - průměr $\\bar{X}_n$ a směrodatnou odchylku $\\sigma$. Je více způsobů, jak to udělat. Buď\n",
    "\n",
    "- vyjádříme horní a dolní mez jednoho z intervalů příslušnou rovnicí a dostaneme 2 rovnice pro 2 neznámé.\n",
    "- jednodušší: uvědomíme si, kde leží průměr v intervalu spolehlivosti a jak velká je vzdálenost od něj ke kraji intervalu. Zkuste sami :)"
   ]
  },
  {
   "cell_type": "code",
   "execution_count": 20,
   "metadata": {},
   "outputs": [
    {
     "name": "stdout",
     "output_type": "stream",
     "text": [
      "Průměr: 2.899\n",
      "Směrodatná odchylka: 8.972\n"
     ]
    }
   ],
   "source": [
    "n = 35\n",
    "l = 0.405 #-0.072 \n",
    "u = 5.394 #5.872\n",
    "alpha = 0.1\n",
    "\n",
    "delta = (u - l)/2\n",
    "Xn = l + delta\n",
    "\n",
    "kriticka_hodnota = norm.isf(alpha/2)\n",
    "s = delta * np.sqrt(n) / kriticka_hodnota\n",
    "\n",
    "print('Průměr: {0:.3f}'.format(Xn))\n",
    "print('Směrodatná odchylka: {0:.3f}'.format(s))"
   ]
  },
  {
   "cell_type": "markdown",
   "metadata": {},
   "source": [
    "A můžeme testovat. Má-li být v učebně pohyb, bude alternativní hypotéza $H_A: \\mu > 0$. Test bude pravostranný, stejně jako interval spolehlivosti."
   ]
  },
  {
   "cell_type": "code",
   "execution_count": 21,
   "metadata": {},
   "outputs": [
    {
     "name": "stdout",
     "output_type": "stream",
     "text": [
      "Pravostranný 95% IS:  [0.405   inf]\n",
      "Pravostranný 97.5% IS:  [-0.073    inf]\n"
     ]
    }
   ],
   "source": [
    "kriticka_hodnota_0_05 = norm.isf(0.05)\n",
    "kriticka_hodnota_0_025 = norm.isf(0.025)\n",
    "\n",
    "delta_0_05 = kriticka_hodnota_0_05 * s / np.sqrt(n)\n",
    "delta_0_025 = kriticka_hodnota_0_025 * s / np.sqrt(n)\n",
    "\n",
    "ISpravy_0_05 = np.array([Xn - delta_0_05, np.inf])\n",
    "ISpravy_0_025 = np.array([Xn - delta_0_025, np.inf])\n",
    "\n",
    "print('Pravostranný 95% IS: ', ISpravy_0_05)\n",
    "print('Pravostranný 97.5% IS: ', ISpravy_0_025)"
   ]
  },
  {
   "cell_type": "markdown",
   "metadata": {},
   "source": [
    "Na hladině 5% nulovou hypotézu zamítneme, neboť testovaná hodnota do intervalu nepatří. Na hladině 2.5% ji ale nezamítáme."
   ]
  },
  {
   "cell_type": "markdown",
   "metadata": {},
   "source": [
    "### Příklad 11.5\n",
    "\n",
    "**Servírovaný objem nápoje dle jídelního lístku by měl být 0.5 litru. Provedli jsme měření na deseti vzorcích a získali jsme data:**\n",
    "\n",
    "    0.510; 0.462; 0.491; 0.466; 0.451; 0.503; 0.475; 0.487; 0.512; 0.505.\n",
    "\n",
    "**Otestujte, zda je míra dodržena, nebo zda nás obsluha šidí.**\n",
    "  \n",
    "**a)** $\\alpha=5\\%$,\n",
    "\n",
    "**b)** $\\alpha=1\\%$.\n",
    "\n",
    "\n",
    "V obou případech budeme testovat\n",
    "\n",
    "$$\n",
    "\\begin{align}\n",
    "&H_0: \\mu = 0.5 \\\\\n",
    "&H_A: \\mu < 0.5.\n",
    "\\end{align}\n",
    "$$\n",
    "\n",
    "Spočítáme průměr a rozptyl a použijeme levostranný interval spolehlivosti pro $\\mu$ na příslušných hladinách 0.05 a 0.01:"
   ]
  },
  {
   "cell_type": "code",
   "execution_count": 22,
   "metadata": {},
   "outputs": [
    {
     "name": "stdout",
     "output_type": "stream",
     "text": [
      "Průměr: 0.486\n",
      "Výběrová směrodatná odchylka: 0.021\n",
      "Levostranný IS:  [ -inf 0.498]\n"
     ]
    }
   ],
   "source": [
    "Xi = np.array([0.510, 0.462, 0.491, 0.466, 0.451, 0.503, 0.475, 0.487, 0.512, 0.505])\n",
    "mean_x = Xi.mean()\n",
    "s = Xi.std()\n",
    "n = Xi.size\n",
    "\n",
    "alpha = 0.05\n",
    "\n",
    "kriticka_hodnota = t.isf(alpha, df=n-1)\n",
    "delta = kriticka_hodnota * s / np.sqrt(n)\n",
    "ISlevy = np.array([-np.inf, mean_x + delta])\n",
    "\n",
    "print('Průměr: {0:.3f}'.format(mean_x))\n",
    "print('Výběrová směrodatná odchylka: {0:.3f}'.format(s))\n",
    "print('Levostranný IS: ', ISlevy)"
   ]
  },
  {
   "cell_type": "markdown",
   "metadata": {},
   "source": [
    "Na hladině 5% tedy $H_0$ zamítneme se závěrem, že nás obsluha šidí, neboť testovaná hodnota $\\mu_0 = 0.5$ neleží v přislušném levostranném intervalu spolehlivosti. Zkusíme ještě hladinu 1%:"
   ]
  },
  {
   "cell_type": "code",
   "execution_count": 23,
   "metadata": {},
   "outputs": [
    {
     "name": "stdout",
     "output_type": "stream",
     "text": [
      "Levostranný IS:  [ -inf 0.505]\n"
     ]
    }
   ],
   "source": [
    "alpha = 0.01\n",
    "\n",
    "kriticka_hodnota = t.isf(alpha, df=n-1)\n",
    "delta = kriticka_hodnota * s / np.sqrt(n)\n",
    "ISlevy = np.array([-np.inf, mean_x + delta])\n",
    "\n",
    "print('Levostranný IS: ', ISlevy)"
   ]
  },
  {
   "cell_type": "markdown",
   "metadata": {},
   "source": [
    "Na hladině 1% je interval spolehlivosti širší a pokrývá testovanou hodnotu $\\mu_0 = 0.5$.\n",
    "\n",
    "Abychom to uzavřeli:\n",
    "\n",
    "- jsme-li s pravděpodobností 5% ochotni připustit chybné zamítnutí $H_0$, pak tuto hypotézu opravdu zamítneme.\n",
    "- jsme-li ochotni se chybného zamítnutí $H_0$ dopustit pouze s pravděpodobností 1%, pak hypotézu o správné míře nezamítneme. **Tím ale současně neříkáme vůbec nic o její platnosti či platnosti alternativy!**"
   ]
  },
  {
   "cell_type": "markdown",
   "metadata": {},
   "source": [
    "# Hacky aby se centrovaly buňky tabulky..."
   ]
  },
  {
   "cell_type": "code",
   "execution_count": 14,
   "metadata": {},
   "outputs": [
    {
     "data": {
      "application/javascript": [
       "var marked = require('components/marked/lib/marked');\n",
       "\n",
       "if (marked.Renderer.name !== 'NonExtensibleTableRenderer') {\n",
       "    function tablecell(content, flags) {\n",
       "        var type = flags.header ? 'th' : 'td';\n",
       "        var style = flags.align == null ? '' : ' style=\"text-align: ' + flags.align + '\"';\n",
       "        var start_tag = '<' + type + style + '>';\n",
       "        var end_tag = '</' + type + '>\\n';\n",
       "        return start_tag + content + end_tag;\n",
       "    }\n",
       "\n",
       "    var DefaultRenderer = marked.Renderer;\n",
       "    function NonExtensibleTableRenderer(options) {\n",
       "        DefaultRenderer.call(this, options);\n",
       "        Object.defineProperty(this, 'tablecell', {\n",
       "            get: function () { return tablecell; },\n",
       "            set: function () { } // No-op, sorry for this hack but we must prevent it from being redefined\n",
       "        });\n",
       "    }\n",
       "    NonExtensibleTableRenderer.prototype = Object.create(DefaultRenderer.prototype);\n",
       "    NonExtensibleTableRenderer.prototype.constructor = NonExtensibleTableRenderer;\n",
       "\n",
       "    marked.setOptions({\n",
       "        renderer: new NonExtensibleTableRenderer()\n",
       "    });\n",
       "    // Look away... it has to be done as newer versions of the notebook build a custom\n",
       "    // renderer rather than extending the default.\n",
       "    marked.Renderer = NonExtensibleTableRenderer;\n",
       "}\n",
       "\n",
       "var Jupyter = require('base/js/namespace');\n",
       "Jupyter.notebook.get_cells()\n",
       "   .filter(cell => cell.cell_type === 'markdown' && cell.rendered)\n",
       "   .forEach(mdcell => {\n",
       "       mdcell.unrender();\n",
       "       mdcell.render();\n",
       "   });\n"
      ],
      "text/plain": [
       "<IPython.core.display.Javascript object>"
      ]
     },
     "metadata": {},
     "output_type": "display_data"
    }
   ],
   "source": [
    "%%javascript\n",
    "var marked = require('components/marked/lib/marked');\n",
    "\n",
    "if (marked.Renderer.name !== 'NonExtensibleTableRenderer') {\n",
    "    function tablecell(content, flags) {\n",
    "        var type = flags.header ? 'th' : 'td';\n",
    "        var style = flags.align == null ? '' : ' style=\"text-align: ' + flags.align + '\"';\n",
    "        var start_tag = '<' + type + style + '>';\n",
    "        var end_tag = '</' + type + '>\\n';\n",
    "        return start_tag + content + end_tag;\n",
    "    }\n",
    "\n",
    "    var DefaultRenderer = marked.Renderer;\n",
    "    function NonExtensibleTableRenderer(options) {\n",
    "        DefaultRenderer.call(this, options);\n",
    "        Object.defineProperty(this, 'tablecell', {\n",
    "            get: function () { return tablecell; },\n",
    "            set: function () { } // No-op, sorry for this hack but we must prevent it from being redefined\n",
    "        });\n",
    "    }\n",
    "    NonExtensibleTableRenderer.prototype = Object.create(DefaultRenderer.prototype);\n",
    "    NonExtensibleTableRenderer.prototype.constructor = NonExtensibleTableRenderer;\n",
    "\n",
    "    marked.setOptions({\n",
    "        renderer: new NonExtensibleTableRenderer()\n",
    "    });\n",
    "    // Look away... it has to be done as newer versions of the notebook build a custom\n",
    "    // renderer rather than extending the default.\n",
    "    marked.Renderer = NonExtensibleTableRenderer;\n",
    "}\n",
    "\n",
    "var Jupyter = require('base/js/namespace');\n",
    "Jupyter.notebook.get_cells()\n",
    "   .filter(cell => cell.cell_type === 'markdown' && cell.rendered)\n",
    "   .forEach(mdcell => {\n",
    "       mdcell.unrender();\n",
    "       mdcell.render();\n",
    "   });"
   ]
  }
 ],
 "metadata": {
  "kernelspec": {
   "display_name": "Python 3",
   "language": "python",
   "name": "python3"
  },
  "language_info": {
   "codemirror_mode": {
    "name": "ipython",
    "version": 3
   },
   "file_extension": ".py",
   "mimetype": "text/x-python",
   "name": "python",
   "nbconvert_exporter": "python",
   "pygments_lexer": "ipython3",
   "version": "3.9.1"
  }
 },
 "nbformat": 4,
 "nbformat_minor": 4
}
