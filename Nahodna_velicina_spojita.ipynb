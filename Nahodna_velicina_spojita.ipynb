{
 "cells": [
  {
   "cell_type": "markdown",
   "metadata": {},
   "source": [
    "**Materiály vznikají průběžně a jsou bez záruky - prosím o report chyb :-)**"
   ]
  },
  {
   "cell_type": "code",
   "execution_count": 2,
   "metadata": {},
   "outputs": [],
   "source": [
    "import numpy as np\n",
    "from scipy.stats.distributions import uniform, expon, norm\n",
    "import matplotlib.pylab as plt"
   ]
  },
  {
   "cell_type": "markdown",
   "metadata": {},
   "source": [
    "# Téma 4: Spojité náhodné veličiny"
   ]
  },
  {
   "cell_type": "markdown",
   "metadata": {},
   "source": [
    "Už víme, že náhodné veličiny mohou z hlediska oboru hodnot být\n",
    "\n",
    "- **diskrétní** - nabývají hodnot z nejvýše spočetné množiny $\\{x_1,x_2,\\ldots\\}$. Teoreticky můžeme pro všechna $k=1,2,\\ldots$ kvantifikovat pravděpodobnost jednotlivých hodnot $P(X=x_k)$.\n",
    "- **spojité** - veličina $X$ nabývá nespočetně mnoha možných hodnot, žije na nějakém kontinuu, např. množině reálných čísel $\\mathbb{R}$ či libovolné její podmnožině (intervalu). Nelze pro hodnoty $x$ kvantifikovat jejich pravděpodobnost $P(X=x)$, neboť (i) takových bodů je v kontinuu nekonečno, ale pravděpodobnosti se musejí nakumulovat do jedničky a (ii) bod kontinua má míru nula (vzpomeňte na definici náhodné veličiny). Jde to podchytit i intuitivně - jaká je pravděpodobnost, že vybraná slečna bude mít 1.7 metru s nekonečnou přesností?\n",
    "\n",
    "*Kdybychom uměli trochu více s mírou, řekli bychom si, že u diskrétních veličin používáme aritmetickou a u spojitých Lebesgueovu a operace by nám zůstaly pro oba případy stejné, protože to je právě míra, která říká, jak s tím naložit...*\n",
    "\n",
    "**Úkol: vymyslete pár příkladů diskrétních a spojitých veličin.**"
   ]
  },
  {
   "cell_type": "markdown",
   "metadata": {},
   "source": [
    "> **Definice**\n",
    ">\n",
    "> Náhodná veličina $X$ s hodnotami $x$ se nazývá spojitá, jestliže existuje nezáporná funkce $f_X(x)$ taková, že pro každé $x\\in\\mathbb{R}$ můžeme distribuční funkci $F_X(x)$ vyjádřit jako\n",
    ">\n",
    "> $$\n",
    "F_X(x) = P(X\\leq x) = \\int_{-\\infty}^x f_X(t)dt.\n",
    "$$\n",
    "\n",
    "Funkce $f_X$ se nazývá hustotou pravděpodobnosti náhodné veličiny $X$. Platí, celkem zřejmě, že\n",
    "\n",
    "$$\n",
    "f_X(x) = \\frac{dF_X(x)}{dx}.\n",
    "$$\n",
    "\n",
    "Podíváme-li se na hustotu a distribuční funkci, jakou hodnotu bude mít následující integrál?\n",
    "\n",
    "$$\n",
    "\\int_{-\\infty}^{\\infty} f_X(x) dx\n",
    "$$\n",
    "\n",
    "(samozřejmě 1, je to normalizační podmínka: pravděpodobnosti se sčítají/integrují do jedné)\n",
    "\n",
    "*Vzpomeňte - integrál je vlastně něco, jako \"suma přes kontinuum\", nasčítává maličké sloupečky v grafu. Zde je vidět ta aplikace míry - v diskrétním případě sčítáme, ve spojitém také sčítáme, ale kvůli kontinuu si s obyčejnou sumou nevystačíme. A nebo naopak, ta suma ve spojitém případě je také integrál, jen s jinou mírou :)*\n",
    "\n",
    "![cdf](img/cdf.jpg)"
   ]
  },
  {
   "cell_type": "markdown",
   "metadata": {},
   "source": [
    "Stejně, jako v diskrétním případě, i zde tedy platí, že distribuční funkce jsou \"nakumulované\" pravděpodobnosti. A celkem logicky platí i pravidla pro počítání pravděpodobnosti nějaké množiny, $P(X\\in(a,b])$. Zamyslete se, jak by to bylo s intervaly $[a,b], (a,b), [a,b)$.\n",
    "\n",
    "![cdf2](img/cdf-pst.jpg)"
   ]
  },
  {
   "cell_type": "markdown",
   "metadata": {},
   "source": [
    "## Hustota pravděpodobnosti a distribuční funkce spojité veličiny\n",
    "\n",
    "Hustota pravděpodobnosti říká, jak je pravděpodobnost rozdělena mezi hodnoty náhodné veličiny. Neříká ale, jaká je pravděpodobnost jednotlivých hodnot této veličiny - tento rozdíl je nutné mít na paměti.\n",
    "\n",
    "Pamatujete si, jak jsme z empirických četností a kumulativních empirických četností přecházeli v limitě k pravděpodobnostní a distribuční funkci? Tady je to stejné, jen bychom malovali histogram a kumulativní histogram a zmenšovali šířku obdélníčků. V limitě bychom se dostali k příslušným funkcím :)\n",
    "\n",
    "Podívejme se na to názorně - který obrázek vyjadřuje kterou funkci?"
   ]
  },
  {
   "cell_type": "code",
   "execution_count": 11,
   "metadata": {},
   "outputs": [
    {
     "data": {
      "image/png": "[encoded data removed]",
      "text/plain": [
       "<Figure size 1080x216 with 2 Axes>"
      ]
     },
     "metadata": {
      "needs_background": "light"
     },
     "output_type": "display_data"
    }
   ],
   "source": [
    "nbins = 100     ### Zkuste měnit\n",
    "plt.figure(figsize=(15,3))\n",
    "x = norm.rvs(size=100000)\n",
    "plt.subplot(1,2,1)\n",
    "plt.hist(x, bins=nbins, density=True, color='orange')\n",
    "xx = np.linspace(-5,5)\n",
    "plt.plot(xx, norm.pdf(xx), color='blue', lw=3)\n",
    "plt.subplot(1,2,2)\n",
    "plt.hist(x, bins=nbins, density=True, cumulative=True, color='orange')\n",
    "xx = np.linspace(-5,5)\n",
    "plt.plot(xx, norm.cdf(xx), color='blue', lw=3)\n",
    "plt.show()"
   ]
  },
  {
   "cell_type": "markdown",
   "metadata": {},
   "source": [
    "---\n",
    "**Spočtěte příklad 5.1 dole.**\n",
    "\n",
    "---"
   ]
  },
  {
   "cell_type": "markdown",
   "metadata": {},
   "source": [
    "## Funkce přežití\n",
    "\n",
    "Zatímco distribuční funkce říká, jaká je pravděpodobnost, že veličina $X$ bude mít hodnotu $x$ a menší, tj.\n",
    "\n",
    "$$\n",
    "F_X(x) = P(X\\leq x),\n",
    "$$\n",
    "\n",
    "funkce přežití říká pravý opak,\n",
    "\n",
    "$$\n",
    "S_X(x) = 1 - F_X(x) = P(X > x).\n",
    "$$"
   ]
  },
  {
   "cell_type": "markdown",
   "metadata": {},
   "source": [
    "## Momenty\n",
    "\n",
    "Už víme, že integrál je \"suma přes kontinuum\", tak porovnejme diskrétní a spojité momenty, ať vidíme, že to je snadné a přímočaré. Pro jednoduchost budeme v diskrétním světě psát $P(X=x_k) = p_k$, tedy $p_k$ je pravděpodobnost hodnoty $x_k$.\n",
    "\n",
    "**Střední hodnota:**\n",
    "\n",
    "$$\n",
    "EX = \\sum_k x_k \\cdot p_k \\qquad \\longleftrightarrow \\qquad EX = \\int_{\\mathbb{R}} x \\cdot f(x) dx,\n",
    "$$\n",
    "\n",
    "**Rozptyl:**\n",
    "\n",
    "$$\n",
    "\\operatorname{var} X = \\sum_k (x_k-EX)^2 \\cdot p_k \\qquad \\longleftrightarrow \\qquad \n",
    "\\operatorname{var} X = \\int_{\\mathbb{R}} (x - EX)^2 \\cdot f(x) dx.\n",
    "$$\n",
    "\n",
    "V obou případech platí, že $\\operatorname{var}X = EX^2 - (EX)^2$."
   ]
  },
  {
   "cell_type": "markdown",
   "metadata": {},
   "source": [
    "### Tabulka pro přehled\n",
    "\n",
    "| | Diskrétní náhodná veličina | Spojitá náhodná veličina |\n",
    "|---|---|---|\n",
    "| | pravděpodobnostní funkce $p_k=P(X=x_k)$| hustota pravděpodobnosti $f(x)$ |\n",
    "|$EX$| $\\sum_{k} x_k p_k$ | $\\int_{\\mathbb{R}} x f(x) dx$ |\n",
    "|$\\operatorname{var}X$ | $\\sum_k (x_k - EX)^2 p_k$ | $\\int_{\\mathbb{R}} (x-EX)^2 f(x) dx$ |\n",
    "|normalizační podmínka | $\\sum_k p_k = 1$ | $\\int_{\\mathbb{R}} f(x)dx =1$|\n",
    "\n",
    "*A kdybychom uměli míru, vůbec bychom se nějakými rozdíly nemuseli zabývat :)*"
   ]
  },
  {
   "cell_type": "markdown",
   "metadata": {},
   "source": [
    "## Hustoty a distribuční funkce - pár obrázků\n",
    "\n",
    "Rovněž se koukněme na některé hustoty, distribuční funkce a střední hodnoty graficky:"
   ]
  },
  {
   "cell_type": "code",
   "execution_count": 3,
   "metadata": {},
   "outputs": [
    {
     "data": {
      "image/png": "[encoded data removed]",
      "text/plain": [
       "<Figure size 1080x360 with 3 Axes>"
      ]
     },
     "metadata": {
      "needs_background": "light"
     },
     "output_type": "display_data"
    },
    {
     "data": {
      "image/png": "[encoded data removed]",
      "text/plain": [
       "<Figure size 1080x216 with 3 Axes>"
      ]
     },
     "metadata": {
      "needs_background": "light"
     },
     "output_type": "display_data"
    }
   ],
   "source": [
    "x = np.linspace(-5, 5, 1000)\n",
    "plt.figure(figsize=(15,5))\n",
    "plt.subplot(2,3,1)\n",
    "plt.plot(x, uniform.pdf(x, 0, 4))\n",
    "plt.axvline(uniform.mean(0, 4), color='r')\n",
    "plt.title(r'Hustota $U(0, 4)$')\n",
    "plt.subplot(2,3,2)\n",
    "plt.plot(x[x>0], expon.pdf(x[x>0], scale=1/5))\n",
    "plt.axvline(expon.mean(scale=1/5), color='r')\n",
    "plt.title(r'Hustota $Exp(5)$')\n",
    "plt.subplot(2,3,3)\n",
    "plt.plot(x, norm.pdf(x, loc=0, scale=1))\n",
    "plt.axvline(norm.mean(0, 4), color='r')\n",
    "plt.title(r'Hustota $N(0,1)$')\n",
    "plt.figure(figsize=(15,3))\n",
    "plt.subplot(2,3,4)\n",
    "plt.plot(x, uniform.cdf(x, 0, 4))\n",
    "plt.axvline(uniform.mean(0, 4), color='r')\n",
    "plt.title(r'Distr. fce $U(0, 4)$')\n",
    "plt.subplot(2,3,5)\n",
    "plt.plot(x, expon.cdf(x, scale=1/5))\n",
    "plt.axvline(expon.mean(scale=1/5), color='r')\n",
    "plt.title(r'Distr. fce $Exp(5)$')\n",
    "plt.subplot(2,3,6)\n",
    "plt.plot(x, norm.cdf(x, loc=0, scale=1))\n",
    "plt.axvline(norm.mean(0, 4), color='r')\n",
    "plt.title(r'Distr. fce $N(0,1)$')\n",
    "plt.show()"
   ]
  },
  {
   "cell_type": "markdown",
   "metadata": {},
   "source": [
    "## Rovnoměrné rozdělení (spojité) $U(a,b)$\n",
    "\n",
    "[Rovnoměrné rozdělení](https://en.wikipedia.org/wiki/Uniform_distribution_(continuous)) popisuje jevy, jejichž pravděpodobnost je rovnoměrně rozdělena na intervalu [a,b].\n",
    "\n",
    "### Hustota pravděpodobnosti\n",
    "$$\n",
    "f(x) = \\begin{cases}\\frac{1}{b-a} & \\text{pro}\\ x\\in [a,b], \\\\ 0 & \\text{jinde.}\\end{cases}\n",
    "$$\n",
    "\n",
    "### Momenty\n",
    "$$\n",
    "EX = \\frac{a+b}{2}, \\qquad \\operatorname{var}X = \\frac{(b-a)^2}{12}.\n",
    "$$"
   ]
  },
  {
   "cell_type": "markdown",
   "metadata": {},
   "source": [
    "V následujícím kódu můžete zkusit měnit parametry $a, b$ a sledovat, co to dělá s hustotou a distribuční funkcí."
   ]
  },
  {
   "cell_type": "code",
   "execution_count": 33,
   "metadata": {},
   "outputs": [
    {
     "data": {
      "image/png": "[encoded data removed]",
      "text/plain": [
       "<Figure size 1080x216 with 2 Axes>"
      ]
     },
     "metadata": {
      "needs_background": "light"
     },
     "output_type": "display_data"
    }
   ],
   "source": [
    "a, b = (-3, 3)   ### Zkuste měnit\n",
    "\n",
    "scale = np.abs(b-a)\n",
    "x = np.linspace(-5, 5, 1000)\n",
    "plt.figure(figsize=(15,3))\n",
    "plt.subplot(1,2,1)\n",
    "plt.plot(x, uniform.pdf(x, a, scale=scale))\n",
    "plt.axvline(uniform.mean(a, scale=scale), color='r')\n",
    "plt.title('Hustota U({0},{1}), stř. hod. EX={2:.2f}'.format(a, b, uniform.mean(a,scale=scale)))\n",
    "plt.xlabel('x')\n",
    "plt.ylabel('f(x)')\n",
    "plt.subplot(1,2,2)\n",
    "plt.plot(x, uniform.cdf(x, a, scale=scale))\n",
    "plt.axvline(uniform.mean(a, scale=scale), color='r')\n",
    "plt.title('Distribuční funkce U({0},{1})'.format(a, b))\n",
    "plt.xlabel('x')\n",
    "plt.ylabel('F(x)')\n",
    "plt.show()"
   ]
  },
  {
   "cell_type": "markdown",
   "metadata": {},
   "source": [
    "### Aplikace\n",
    "Uvažujme, že máme odhadnout Ludolfovo číslo $\\pi=3.1415\\ldots$ náhodným vzorkováním (metodou Monte Carlo :). Vezmeme si k tomu pár faktů:\n",
    "\n",
    "1. Plocha kruhu: $S_\\circ = \\pi r^2$. Zvolíme-li $r=1$, zbyde $S_\\circ = \\pi$.\n",
    "2. Čtvrtina kruhu = vyšší efektivita vzorkování. $S_{\\frac{\\circ}{4}} = \\frac{\\pi}{4}$.\n",
    "3. Čtvrtkruh vepíšeme do čtverce o straně $r=1$, tedy o ploše $S_\\square = r^2 = 1$.\n",
    "4. Pravděpodobnost, že náhodný vzorek rovnoměrně padající do čtverce spadne i do kruhu je \n",
    "\n",
    "$$P(x_i \\in S_{\\frac{\\circ}{4}}) = \\frac{S_{\\frac{\\circ}{4}}}{S_\\square} = \\frac{\\pi}{4}.$$\n",
    "\n",
    "Z toho plyne, že $\\pi = 4 \\cdot P(x_i \\in S_{\\frac{\\circ}{4}})$. Navzorkujeme tedy z rovnoměrného rozdělení (resp. ze dvou rovnoměrných rozdělení $U[0,1]$ - pro každou osu) a spočítáme poměr vzorků uvnitř čtvrtkruhu ke všem vzorkům - ten odpovídá pravděpodobnosti $P(x_i \\in S_{\\frac{\\circ}{4}})$. Pak už jenom násobíme čtyřmi.\n",
    "\n",
    "![mc](img/mc-kruh.png)"
   ]
  },
  {
   "cell_type": "code",
   "execution_count": 34,
   "metadata": {},
   "outputs": [
    {
     "name": "stdout",
     "output_type": "stream",
     "text": [
      "Odhad pi: 3.14172\n"
     ]
    }
   ],
   "source": [
    "def odhad_pi(nsamples):\n",
    "    samples = np.random.uniform(low=0, high=1, size=(nsamples, 2))\n",
    "    samples_dist_from_origin = np.sqrt((samples**2).sum(axis=1))\n",
    "    samples_in_circle = np.sum(samples_dist_from_origin <= 1)\n",
    "    probability = samples_in_circle / nsamples\n",
    "    pi = 4 * probability\n",
    "    return pi\n",
    "\n",
    "nsamples = 1e8\n",
    "print('Odhad pi: {0:.5f}'.format(odhad_pi(int(nsamples))))"
   ]
  },
  {
   "cell_type": "markdown",
   "metadata": {},
   "source": [
    "## Exponenciální rozdělení $\\mathcal{E}xp(\\lambda)$\n",
    "\n",
    "[Exponenciální rozdělení](https://en.wikipedia.org/wiki/Exponential_distribution) s parametrem $\\lambda>0$ (angl. rate, počet událostí za jednotku času) popisuje nezápornou náhodnou veličinu $X\\geq 0$. Používá se např. pro modelování času mezi dvěma událostmi s Poissonovým rozdělením (např. uvolnění částice při rozpadu atomu) či dotazy na server. Podobně, jako geometrické v diskrétním světě, je ve spojitém světě toto rozdělení **bezpaměťové**, tj. uvažujeme-li čas $T\\sim\\mathcal{E}xp(\\lambda)$, pak\n",
    "\n",
    "$$\n",
    "P(T>t+s|T>s) = P(T>t).\n",
    "$$\n",
    "\n",
    "(dokažte pomocí podmíněných pravděpodobností - je to jednoduché).\n",
    "\n",
    "### Hustota pravděpodobnosti\n",
    "$$\n",
    "f(x) = \\lambda e^{-\\lambda x}, \\qquad \\lambda>0.\n",
    "$$\n",
    "\n",
    "### Momenty\n",
    "$$\n",
    "EX = \\frac{1}{\\lambda}, \\qquad \\operatorname{var}X = \\frac{1}{\\lambda^2}.\n",
    "$$"
   ]
  },
  {
   "cell_type": "code",
   "execution_count": 40,
   "metadata": {},
   "outputs": [
    {
     "data": {
      "image/png": "[encoded data removed]",
      "text/plain": [
       "<Figure size 1080x216 with 2 Axes>"
      ]
     },
     "metadata": {
      "needs_background": "light"
     },
     "output_type": "display_data"
    }
   ],
   "source": [
    "lambd = .4   ### Zkuste měnit\n",
    "\n",
    "x = np.linspace(-5, 5, 1000)\n",
    "plt.figure(figsize=(15,3))\n",
    "plt.subplot(1,2,1)\n",
    "plt.plot(x, expon.pdf(x, scale=1/lambd))\n",
    "plt.axvline(expon.mean(scale=1/lambd), color='r')\n",
    "plt.title('Hustota Exp({0}), stř. hod. EX={1:.2f}'.format(lambd, expon.mean(scale=1/lambd)))\n",
    "plt.xlabel('x')\n",
    "plt.ylabel('f(x)')\n",
    "plt.subplot(1,2,2)\n",
    "plt.plot(x, expon.cdf(x, scale=1/lambd))\n",
    "plt.axvline(expon.mean(scale=1/lambd), color='r')\n",
    "plt.title('Distr. fce Exp({0}), stř. hod. EX={1:.2f}'.format(lambd, expon.mean(scale=1/lambd)))\n",
    "plt.xlabel('x')\n",
    "plt.ylabel('F(x)')\n",
    "plt.show()"
   ]
  },
  {
   "cell_type": "markdown",
   "metadata": {},
   "source": [
    "### Příklad\n",
    "\n",
    "Máme klastr redundantních serverů zpracovávajících elektronické platby. Víme, že mimo špičku chodí na jednotlivé servery v průměru 10 transakcí za sekundu. Označíme čas $T$ mezi jednotlivými transakcemi. Určete a **interpretujte**:\n",
    "\n",
    "1. $\\lambda$\n",
    "2. Střední hodnotu a rozptyl.\n",
    "3. $P(T<\\frac{1}{10}s)$.\n",
    "4. $P(T>\\frac{1}{10}s)$.\n",
    "5. $P\\left(\\frac{1}{10}<T<\\frac{2}{10}\\right)$\n",
    "6. $P\\left(T>\\frac{5}{10}\\big|T>\\frac{1}{10}\\right)$\n",
    "\n",
    "Odpovědi:\n",
    "\n",
    "Vidíme $P(T<t)$ a $P(T>t)$, budeme tedy potřebovat distribuční funkci a funkci přežití. Tak si je spočteme :)\n",
    "\n",
    "Distribuční funkce:\n",
    "\n",
    "$$\n",
    "F(t) = \\int_{-\\infty}^t f(u)du =\n",
    "\\begin{cases}\n",
    "0 &\\text{pro}\\ t<0,\\\\\n",
    "\\int_{0}^{t} f(u)du = \\int_0^t \\lambda e^{-\\lambda u}du = \\left[- e^{-\\lambda u}\\right]_0^t = 1-e^{-\\lambda t} &\\text{pro}\\ t\\geq 0.\n",
    "\\end{cases}\n",
    "$$\n",
    "\n",
    "Funkce přežití:\n",
    "\n",
    "$$\n",
    "S(t) = P(T>t) =1-F(t) = e^{-\\lambda t}.\n",
    "$$\n",
    "\n",
    "1. $\\lambda = 10$\n",
    "2. $ET = \\frac{1}{10}$ a $\\operatorname{var}T = \\frac{1}{100}$.\n",
    "3. $F\\left(\\frac{1}{10}\\right) = 1-e^{-1}$\n",
    "4. $S\\left(\\frac{1}{10}\\right) = e^{-1}$\n",
    "5. $F\\left(\\frac{2}{10}\\right) - F\\left(\\frac{1}{10}\\right) = e^{-1}-e^{-2}$.\n",
    "6. \n",
    "\n",
    "$$\n",
    "P\\left(T>\\frac{5}{10}\\bigg|T>\\frac{1}{10}\\right)\n",
    "= \\frac{P\\left(\\left\\{T>\\frac{5}{10}\\right\\} \\cap \\left\\{T>\\frac{1}{10}\\right\\}\\right)}\n",
    "{P\\left(T>\\frac{1}{10}\\right)}\n",
    "=\\frac{P\\left(T>\\frac{5}{10}\\right)}\n",
    "{P\\left(T>\\frac{1}{10}\\right)}\n",
    "= \\frac{e^{-5}}{e^{-1}} = e^{-4}.\n",
    "$$\n",
    "\n",
    "Poslední bod je navíc jen prosté využití výše uvedené bezpaměťovosti\n",
    "\n",
    "$$\n",
    "P(T>t+s|T>s) = P(T>t),\n",
    "$$\n",
    "\n",
    "tedy můžeme psát přímočaře\n",
    "\n",
    "$$\n",
    "P\\left(T>\\frac{5}{10}\\bigg|T>\\frac{1}{10}\\right) = P\\left(T>\\frac{4}{10} + \\frac{1}{10}\\bigg|T>\\frac{1}{10}\\right) =\n",
    "P\\left(T>\\frac{4}{10}\\right) = S\\left(\\frac{4}{10}\\right) = e^{-4}.\n",
    "$$"
   ]
  },
  {
   "cell_type": "markdown",
   "metadata": {},
   "source": [
    "## Normální rozdělení $\\mathcal{N}(\\mu, \\sigma^2)$\n",
    "\n",
    "[Normální - též Gaussovo či gaussovské - rozdělení](https://en.wikipedia.org/wiki/Normal_distribution) je jedno z nejpopulárnějších vůbec. Má dva parametry - **střední hodnotu** $\\mu\\in\\mathbb{R}$ a **rozptyl** $\\sigma^2$, které jsou zároveň $EX$  a $\\operatorname{var}X$. Náhodná veličina $X\\in\\mathbb{R}$.\n",
    "\n",
    "Odmocnina rozptylu - $\\sigma$ - se nazývá **směrodatnou odchylkou**. Tu známe ze zápisu kde je $\\pm$, například v $(3\\pm 0.001) \\text{kg}$ je řečeno, že něco váží 3kg a zpravidla 3 směrodatné odchylky jsou 0.001kg. Časem se dozvíme, že 3 směrodatné odchylky na každou stranu od střední hodnoty pokrývají naprostou většinu hodnot (konkrétně pro 1, 2 a $3\\sigma$ je to [68-95-99.7%](https://en.wikipedia.org/wiki/68%E2%80%9395%E2%80%9399.7_rule)).\n",
    "\n",
    "Normální rozdělení $\\mathcal{N}(0, 1)$ se nazývá **standardní normální rozdělení**. Veličiny se často transformují tak, aby měly stejné momenty a porovnávají s tímto rozdělením - normalita je prostě populární :) Jednou z obrovských výhod normálního rozdělení je, že se s ním velmi dobře počítá.\n",
    "\n",
    "\n",
    "### Hustota pravděpodobnosti\n",
    "$$\n",
    "f(x) = \\frac{1}{\\sqrt{2\\pi\\sigma^2}} e^{-\\frac{1}{2\\sigma^2}(x-\\mu)^2}, \\qquad \\mu\\in\\mathbb{R}, \\sigma^2>0.\n",
    "$$\n",
    "\n",
    "### Momenty\n",
    "$$\n",
    "EX = \\mu, \\qquad \\operatorname{var}X = \\sigma^2.\n",
    "$$"
   ]
  },
  {
   "cell_type": "code",
   "execution_count": 13,
   "metadata": {},
   "outputs": [
    {
     "data": {
      "image/png": "[encoded data removed]",
      "text/plain": [
       "<Figure size 1080x216 with 2 Axes>"
      ]
     },
     "metadata": {
      "needs_background": "light"
     },
     "output_type": "display_data"
    }
   ],
   "source": [
    "mi = 0    ### Zkuste měnit\n",
    "sigma = 5 ### Zkuste měnit\n",
    "\n",
    "x = np.linspace(-10, 10, 1000)\n",
    "plt.figure(figsize=(15,3))\n",
    "plt.subplot(1,2,1)\n",
    "plt.plot(x, norm.pdf(x, loc=mi, scale=sigma))\n",
    "plt.axvline(mi, color='r')\n",
    "plt.title('Hustota N({0},{1}), stř. hod. EX={2:.2f}'.format(mi, sigma**2, mi))\n",
    "plt.xlabel('x')\n",
    "plt.ylabel('f(x)')\n",
    "plt.subplot(1,2,2)\n",
    "plt.plot(x, norm.cdf(x, loc=mi, scale=sigma))\n",
    "plt.axvline(mi, color='r')\n",
    "plt.title('Distr. fce N({0},{1}), stř. hod. EX={2:.2f}'.format(mi, sigma**2, mi))\n",
    "plt.xlabel('x')\n",
    "plt.ylabel('F(x)')\n",
    "plt.show()"
   ]
  },
  {
   "cell_type": "markdown",
   "metadata": {},
   "source": [
    "Normální rozdělení vystihuje mnoho reálných dat, samozřejmě s přihlédnutím na jistá zjednodušení. Např. IQ se uvažuje rozdělené $\\mathcal{N}(100, 15^2)$. Jelikož ale normální rozdělení má nosič hustoty (tj. množinu, kde je $f(x)>0$) celou reálnou osu, platí, že pokud by IQ bylo přesně normální, musí být nenulová i pravděpodobnost určitých extrémů. Zkusme:"
   ]
  },
  {
   "cell_type": "code",
   "execution_count": 8,
   "metadata": {},
   "outputs": [
    {
     "name": "stdout",
     "output_type": "stream",
     "text": [
      "P(IQ<0) = 1.31e-11\n",
      "P(IQ<30) = 1.53e-06\n",
      "P(IQ<50) = 4.29e-04\n",
      "P(IQ>180) = 4.82e-08\n"
     ]
    }
   ],
   "source": [
    "mi = 100\n",
    "sigma = 15\n",
    "print('P(IQ<0) = {0:.2e}'.format(norm.cdf(0, loc=100, scale=15)))\n",
    "print('P(IQ<30) = {0:.2e}'.format(norm.cdf(30, loc=100, scale=15)))\n",
    "print('P(IQ<50) = {0:.2e}'.format(norm.cdf(50, loc=100, scale=15)))\n",
    "print('P(IQ>180) = {0:.2e}'.format(1-norm.cdf(180, loc=100, scale=15)))"
   ]
  },
  {
   "cell_type": "markdown",
   "metadata": {},
   "source": [
    "Teoreticky bychom tedy mohli potkat člověka se záporným IQ. Tyto nedokonalosti lze řešit ořezáním konců a renormalizací, ovšem takové rozdělení je z hlediska dalšího počítání peklo. Tak se raději smíříme s nedokonalostmi modelu :)"
   ]
  },
  {
   "cell_type": "markdown",
   "metadata": {},
   "source": [
    "### Přehled uvedených spojitých rozdělení\n",
    "\n",
    "| Rozdělení | Parametry | $f(x)$ | $\\operatorname{E}X$ | $\\operatorname{var}X$ | `scipy` |\n",
    "|---|---|---|---|---|---|\n",
    "|[Rovnoměrné](https://en.wikipedia.org/wiki/Uniform_distribution_&#040;continuous&#041;) | $a,b\\in\\mathbb{R}$ | $\\begin{cases}\\frac{1}{b-a} & \\text{pro}\\ x\\in [a,b], \\\\ 0 & \\text{jinde.}\\end{cases}$ | $\\frac{a+b}{2}$ | $\\frac{(b-a)^2}{12}$ | [`uniform`](https://docs.scipy.org/doc/scipy/reference/generated/scipy.stats.uniform.html) |\n",
    "|[Exponenciální](https://en.wikipedia.org/wiki/Exponential_distribution) | $\\lambda>0$ | $\\lambda e^{-\\lambda x}$ | $\\frac{1}{\\lambda}$ | $\\frac{1}{\\lambda^2}$ | [`expon`](https://docs.scipy.org/doc/scipy/reference/generated/scipy.stats.expon.html)|\n",
    "|[Normální](https://en.wikipedia.org/wiki/Normal_distribution)| $\\mu\\in\\mathbb{R},\\sigma^2>0$ | $\\frac{1}{\\sqrt{2\\pi\\sigma^2}} e^{-\\frac{1}{2\\sigma^2}(x-\\mu)^2}$ | $\\mu$ | $\\sigma^2$ | [`norm`](https://docs.scipy.org/doc/scipy/reference/generated/scipy.stats.norm.html)|\n"
   ]
  },
  {
   "cell_type": "markdown",
   "metadata": {},
   "source": [
    "---\n",
    "\n",
    "---"
   ]
  },
  {
   "cell_type": "markdown",
   "metadata": {},
   "source": [
    "# Příklady ze slajdů BI-PST"
   ]
  },
  {
   "cell_type": "markdown",
   "metadata": {},
   "source": [
    "## 5.1\n",
    "**Uvažujme funkci**\n",
    "\n",
    "$$\n",
    "F_X(x) =\n",
    "\\begin{cases}\n",
    "\\frac{x^2}{2} &\\text{pro}\\ x\\in[0,1), \\\\\n",
    "2x - \\frac{x^2}{2} - 1 &\\text{pro}\\ x\\in[1,2],\\\\\n",
    "0 &\\text{jinde}.\n",
    "\\end{cases}\n",
    "$$\n",
    "\n",
    "**a) Je funkce $F_X(x)$ distribuční funkcí? Pokud ne, je možné ji částečně předefinovat tak, aby byla? V kladném případě uvažujte do dalších bodů tuto předefinovanou variantu.**\n",
    "\n",
    "Připomeňme, že vlastnosti d.f. jsou (i) monotónie - funkce je neklesající a (ii) $\\lim_{x\\to \\infty} F_X(x) = 1$. Je tedy potřeba ji předefinovat:\n",
    "\n",
    "$$\n",
    "F_X(x) =\n",
    "\\begin{cases}\n",
    "0 &\\text{pro}\\ x<0,\\\\\n",
    "\\frac{x^2}{2} &\\text{pro}\\ x\\in[0,1), \\\\\n",
    "2x - \\frac{x^2}{2} - 1 &\\text{pro}\\ x\\in[1,2],\\\\\n",
    "1 &\\text{pro}\\ x>2.\n",
    "\\end{cases}\n",
    "$$\n",
    "\n",
    "![graf](img/51graf.png)\n",
    "\n",
    "**b) Jedná se o spojitou náhodnou veličinu?**\n",
    "\n",
    "Ano, viz přednáška. Distribuční funkce je všude spojitá, $\\lim_{x\\to c^-} F(x) = \\lim_{x\\to c^+} F(x)$ pro všechna $c\\in D(f)$ kde $D$ je definiční obor.\n",
    "\n",
    "**c) Najděte její hustotu.**\n",
    "\n",
    "Jednoduše derivací zjistíme, že\n",
    "\n",
    "$$\n",
    "f_X(x) =\n",
    "\\begin{cases}\n",
    "0 &\\text{pro}\\ x<0,\\\\\n",
    "x &\\text{pro}\\ x\\in[0,1), \\\\\n",
    "2 - x &\\text{pro}\\ x\\in[1,2],\\\\\n",
    "0 &\\text{pro}\\ x>2.\n",
    "\\end{cases}\n",
    "$$\n",
    "\n",
    "**d) Najděte pravděpodobnost $P\\left(X\\in\\left[\\frac{1}{2}, \\frac{3}{2}\\right]\\right)$.**\n",
    "\n",
    "$$\n",
    "P\\left(X\\in\\left[\\frac{1}{2}, \\frac{3}{2}\\right]\\right) = F\\left(\\frac{3}{2}\\right) - F\\left(\\frac{1}{2}\\right) = \\frac{7}{8} - \\frac{1}{8} = \\frac{3}{4}.\n",
    "$$"
   ]
  },
  {
   "cell_type": "markdown",
   "metadata": {},
   "source": [
    "## 5.2\n",
    "\n",
    "**Nechť $X$ je spojitá náhodná veličina s hustotou**\n",
    "![5.2](img/52.jpg)\n",
    "\n",
    "**a) Najděte hodnotu konstanty $h$.**\n",
    "\n",
    "Víme, že hustota pravděpodobnosti se musí integrovat do jedné. Tedy\n",
    "\n",
    "$$\n",
    "\\int_{-\\infty}^{\\infty} f(x) dx =\n",
    "\\underbrace{\\frac{1}{2} \\cdot 1 \\cdot h}_{\\text{trojúhelník}} + \n",
    "\\underbrace{1 \\cdot h}_{\\text{obdélník}} = 1 \\Rightarrow h=\\frac{2}{3}.\n",
    "$$\n",
    "\n",
    "**b) Najděte analytické vyjádření hustoty $f(x)$.**\n",
    "\n",
    "$$\n",
    "f(x) =\n",
    "\\begin{cases}\n",
    "\\frac{2}{3}x &\\text{pro}\\ x\\in[0,1),\\\\\n",
    "\\frac{2}{3}  &\\text{pro}\\ x\\in[1,2],\\\\\n",
    "0 &\\text{jinde}.\n",
    "\\end{cases}\n",
    "$$\n",
    "\n",
    "**c) Spočtěte střední hodnotu $EX$ a rozptyl $\\operatorname{var}X$.**\n",
    "\n",
    "$$\n",
    "EX = \\int x f(x) dx = \\int_0^1 x\\cdot \\frac{2}{3}x dx + \\int_1^2 x\\cdot \\frac{2}{3} dx = \\frac{11}{9}.\n",
    "$$\n",
    "\n",
    "Protože $\\operatorname{var}X = EX^2 - (EX)^2$, spočteme si ještě jednu střední hodnotu,\n",
    "\n",
    "$$\n",
    "EX^2 = \\int x^2 f(x)dx = \\int_0^1 x^2\\cdot \\frac{2}{3}x dx + \\int_1^2 x^2\\cdot \\frac{2}{3} dx = \\frac{31}{18}.\n",
    "$$\n",
    "\n",
    "Tedy\n",
    "\n",
    "$$\n",
    "\\operatorname{var}X = \\frac{31}{18} - \\left(\\frac{11}{9}\\right)^2 = \\frac{37}{162}.\n",
    "$$"
   ]
  },
  {
   "cell_type": "markdown",
   "metadata": {},
   "source": [
    "## 5.3\n",
    "\n",
    "Mějme funkci $g:\\mathbb{R}\\to\\mathbb{R}$ zadanou následovně:\n",
    "\n",
    "$$\n",
    "g(x) =\n",
    "\\begin{cases}\n",
    "2x &\\text{pro}\\ x\\in(0,1],\\\\\n",
    "4-2x &\\text{pro}\\ x\\in(1,2],\\\\\n",
    "0 &\\text{pro}\\ x\\in(-\\infty, 0]\\cup (2, \\infty).\n",
    "\\end{cases}\n",
    "$$\n",
    "\n",
    "**a) Najděte takovou hodnotu $a\\in\\mathbb{R}$, aby funkce $f(x) = a\\cdot g(x)$ byla hustotou pravděpodobnosti nějaké náhodné veličiny.**\n",
    "\n",
    "Opět budeme hledat $a$ takové, aby integrál $f(x)$ byl roven jedné:\n",
    "\n",
    "$$\n",
    "\\int_{-\\infty}^\\infty a\\cdot g(x)dx = \n",
    "a \\left[ \\int_1^2 4-2x dx + \\int_0^1 2x dx\\right] = 1 \\Longrightarrow a=\\frac{1}{2}.\n",
    "$$\n",
    "\n",
    "**b) Najděte střední hodnotu a rozptyl náhodné veličiny s hustotou pravděpodobnosti $f(x)$.**\n",
    "\n",
    "Budeme postupovat stejně jako v předchozím příkladu, spočteme $EX$ a $EX^2$:\n",
    "\n",
    "$$\n",
    "\\begin{aligned}\n",
    "EX &= \\int_{-\\infty}^\\infty x f(x) dx = \\int_0^1 x\\cdot x dx + \\int_1^2 x(2-x)dx = 1,\\\\\n",
    "EX^2 &= \\int_{-\\infty}^\\infty x^2 f(x) dx = \\int_0^1 x^2\\cdot x dx + \\int_1^2 x^2(2-x)dx = \\frac{7}{6},\\\\\n",
    "\\operatorname{var}X &= EX^2 - (EX)^2 = \\frac{7}{6} -1 = \\frac{1}{6}.\n",
    "\\end{aligned}\n",
    "$$"
   ]
  },
  {
   "cell_type": "markdown",
   "metadata": {},
   "source": [
    "# 5.4\n",
    "\n",
    "**Máme vypozorováno, že průměrná délka intervalu mezi příjezdy tramvaje č. 20 na zastávku Vítězné náměstí je ve špičce 5 minut. Označme $T$ náhodnou veličinu, která měří délku intervalu mezi dvěma příjezdy tramvaje.**\n",
    "\n",
    "**a) Modelujte $T$ pomocí rovnoměrného, exponenciálního a normálního rozdělení tak, aby $ET = 5$min.**\n",
    "\n",
    "Musíme nastavit parametry jednotlivých rozdělení tak, aby byla střední hodnota 5:\n",
    "\n",
    "$$\n",
    "\\begin{aligned}\n",
    "T &\\sim \\mathcal{U}(0, 10), \\\\\n",
    "T &\\sim \\mathcal{E}xp\\left(\\frac{1}{5}\\right),\\\\\n",
    "T &\\sim \\mathcal{N}(5, \\sigma^2).\n",
    "\\end{aligned}\n",
    "$$\n",
    "\n",
    "**b) Jaký je rozptyl $T$ pro jednotlivá rozdělení?**\n",
    "\n",
    "Jednoduchým dosazením do vzorečků pro rozptyl postupně dostaneme $\\frac{25}{3}, 25$ a $\\sigma^2$.\n",
    "\n",
    "**c) Jaká je pravděpodobnost, že interval bude delší než 6 minut, tj. $P(T>6)$?**\n",
    "\n",
    "Nejprve obecně, víme, že $F(X) = P(X\\leq x)$ a tedy $P(X>x) = 1-F(x) = S(x)$, což je tzv. funkce přežití (survival function). Určíme je pro rovnoměrné a exponenciální rozdělení, normální nás čeká v 6. cvičení.\n",
    "\n",
    "*Rovnoměrné rozdělení $\\mathcal{U}(a,b)$:*\n",
    "\n",
    "$$\n",
    "F(x) =\n",
    "\\begin{cases}\n",
    "0 &\\text{pro}\\ x<a,\\\\\n",
    "\\int_{a}^x \\frac{1}{b-a}dt = \\frac{x-a}{b-a} &\\text{pro}\\ x\\in[a,b],\\\\\n",
    "1 &\\text{pro}\\ x>b.\n",
    "\\end{cases}\n",
    "$$\n",
    "\n",
    "Tedy $P(T>6) = 1-F(6) = 1-\\frac{6}{10} = 0.4$.\n",
    "\n",
    "*Exponenciální rozdělení $\\mathcal{E}xp(\\lambda)$:*\n",
    "\n",
    "$$\n",
    "F(x) = \\int_{-\\infty}^{x} = \\int_{0}^x \\lambda e^{-\\lambda t} dt = \\left[-e^{-\\lambda t}\\right]_0^x = 1 - e^{-\\lambda x}.\n",
    "$$\n",
    "\n",
    "Tedy $P(T>6) = 1-F(6) = e^{-\\frac{6}{5}}$."
   ]
  },
  {
   "cell_type": "markdown",
   "metadata": {},
   "source": [
    "## 5.5\n",
    "\n",
    "**Uvažujme náhodnou veličinu $T\\sim \\mathcal{E}xp(\\lambda)$ z předchozího příkladu.**\n",
    "\n",
    "**a) Nalezněte předpis pro distribuční funkci a funkci přežití $T$.**\n",
    "\n",
    "Distribuční funkce (budu značit $X$ místo $T$):\n",
    "\n",
    "$$\n",
    "F(x) = \\int_{-\\infty}^x f(x)dx =\n",
    "\\begin{cases}\n",
    "0 &\\text{pro}\\ x<0,\\\\\n",
    "\\int_{0}^{x} f(x)dx = \\int_0^x \\lambda e^{-\\lambda t}dt = \\left[ - e^{-\\lambda t}\\right]_0^x = 1-e^{-\\lambda x} &\\text{pro}\\ x\\geq 0.\n",
    "\\end{cases}\n",
    "$$\n",
    "\n",
    "Funkce přežití:\n",
    "\n",
    "$$\n",
    "S(x) = P(X>x) =1-F(x) = e^{-\\lambda x}.\n",
    "$$\n",
    "\n",
    "**b) Spočtěte pravděpodobnost, že délka intervalu mezi příjezdy bude rovna 5 min., tj. $P(T=5)$.**\n",
    "\n",
    "Pravděpodobnost spojité n.v. v bodě je rovna 0 (jaká je pravděpodobnost, že to bude s nekonečnou přesností právě 5 minut? ;))\n",
    "\n",
    "**c) Spočtěte pravděpodobnost, že délka intervalu mezi příjezdy bude větší než 5 minut, tj. $P(T>5)$.**\n",
    "\n",
    "Použitím funkce přežití dostaneme $P(T>5) = e^{-\\frac{5}{5}} = e^{-1}$.\n",
    "\n",
    "**d) Jaká je pravděpodobnost, že interval bude delší než 6 minut za podmínky, že čekáme už déle než 5 minut, tj. $P(T>6|T>5)$?**\n",
    "\n",
    "Podmíněná pravděpodobnost:\n",
    "\n",
    "$$\n",
    "P(T>6|T>5) = \\frac{P\\left( \\{T>6\\}\\cap \\{T>5\\} \\right)}{P(T>5)}\n",
    "=\\frac{P(T>6)}{P(T>5)} = \\frac{e^{-\\frac{6}{5}}}{e^{-\\frac{5}{5}}} = e^{-\\frac{1}{5}}.\n",
    "$$\n",
    "\n",
    "**e) Jaká je pravděpodobnost, že interval bude nejvýše 6 minut za podmínky, že už čekáme déle než 5 minut, tj. $P(T\\leq 6|T>5)$?**\n",
    "\n",
    "Podobně jako v předchozím případě,\n",
    "\n",
    "$$\n",
    "P(T\\leq 6|T>5) = \\frac{P\\left( \\{T\\leq 6\\}\\cap \\{T>5\\} \\right)}{P(T>5)}=\n",
    "\\frac{P(T\\in(5,6])}{P(T>5)} = \\frac{F(6) - F(5)}{S(5)} = 1-e^{-\\frac{1}{5}}.\n",
    "$$"
   ]
  },
  {
   "cell_type": "markdown",
   "metadata": {},
   "source": [
    "## 5.6\n",
    "\n",
    "**Ukažte bezpaměťovost exponenciálního rozdělení, tj. že pro $T\\sim\\mathcal{E}xp(\\lambda)$ platí**\n",
    "\n",
    "$$\n",
    "P(T>t+s|T>s) = P(T>t).\n",
    "$$\n",
    "\n",
    "To uděláme snadno podobně, jako v předchozím případě v posledních dvou bodech. Prostě rozepíšeme podmíněné pravděpodobnosti, nalezneme průnik a ono to vypadne samo :) Zkuste!"
   ]
  }
 ],
 "metadata": {
  "kernelspec": {
   "display_name": "Python 3",
   "language": "python",
   "name": "python3"
  },
  "language_info": {
   "codemirror_mode": {
    "name": "ipython",
    "version": 3
   },
   "file_extension": ".py",
   "mimetype": "text/x-python",
   "name": "python",
   "nbconvert_exporter": "python",
   "pygments_lexer": "ipython3",
   "version": "3.9.1"
  }
 },
 "nbformat": 4,
 "nbformat_minor": 4
}
