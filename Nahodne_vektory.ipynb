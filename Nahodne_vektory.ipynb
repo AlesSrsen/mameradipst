{
 "cells": [
  {
   "cell_type": "code",
   "execution_count": 1,
   "metadata": {},
   "outputs": [],
   "source": [
    "from sympy import *"
   ]
  },
  {
   "cell_type": "markdown",
   "metadata": {},
   "source": [
    "# Téma: Náhodné vektory\n",
    "\n",
    "**Níže uvedené vztahy mají předpoklady, které zde zůstanou nevyřčeny. Typicky jde o existenci konečných momentů, viz přednáška.**"
   ]
  },
  {
   "cell_type": "markdown",
   "metadata": {},
   "source": [
    "Nechť náhodné veličiny $X_1,\\ldots, X_n$ jsou definovány na stejném pravděpodobnostním prostoru $(\\Omega, \\mathcal{F}, P)$. Pak nazýváme $X=[X_1,\\ldots,X_n]$ **náhodným vektorem**.\n",
    "\n",
    "Zavádíme - analogicky ke skalárním veličinám:\n",
    "\n",
    "**Distribuční funkci náhodného vektoru $X$** (též **sdruženou distribuční fci** veličin):\n",
    "\n",
    "$$\n",
    "F(X) = F(x_1,\\ldots,x_n) = P(X_1\\leq x_1, \\ldots, X_n\\leq x_n).\n",
    "$$\n",
    "\n",
    "**Střední hodnotu vektoru $X$**\n",
    "\n",
    "$$\n",
    "EX = E[X_1,\\ldots,X_n] = [EX_1,\\ldots,EX_n]\n",
    "$$\n",
    "\n",
    "**Kovarianci veličin $X_i$ a $X_j$ [wiki](https://en.wikipedia.org/wiki/Covariance)**\n",
    "\n",
    "$$\n",
    "\\operatorname{cov}(X_i, X_j) = E\\left[(X_i-EX_i)(X_j-EX_j)\\right]\n",
    "= E(X_iX_j) - EX_i \\cdot EX_j.\n",
    "$$\n",
    "\n",
    "**(Ko)varianční matici vektoru $X$**\n",
    "\n",
    "$$\n",
    "V = E\\left[(X-EX)(X-EX)^\\intercal\\right] = E(XX^\\intercal) - (EX)(EX)^\\intercal.\n",
    "$$\n",
    "\n",
    "Je dobré si povšimnout, že (ko)varianční matice vektoru $X=[X_1,\\ldots,X_n]$ má na diagonále $\\operatorname{cov}(X_i,X_i) = E[X_i -EX_i] = \\operatorname{var}X_i$, tedy rozptyly (variance) veličin. A rovněž, pohledem na definici, že $\\operatorname{cov}(X_i,X_j) = \\operatorname{cov}(X_j,X_i)$. Matice je tedy symetrická.\n",
    "\n",
    "**Korelační koeficient (lineární, Pearsonův) [wiki](https://en.wikipedia.org/wiki/Pearson_correlation_coefficient)**\n",
    "\n",
    "\n",
    "Koeficient s hodnotami v intervalu [-1,1] vyjadřuje míru lineárnosti vztahu mezi dvěma veličinami.\n",
    "\n",
    "$$\n",
    "\\rho(X_i, X_j) = \\frac{\\operatorname{cov}(X_i, X_j)}{\\sqrt{\\operatorname{var}X_i\\cdot \\operatorname{var}X_j}}\n",
    "$$\n",
    "\n",
    "Můžeme jej rovněž dát do matice, potom máme na diagonále hodnoty 1 a matice je symetrická. Pár příkladů viz obrázek z wikipedie.\n",
    "\n",
    "![corr](img/corrwiki.png)\n",
    "\n",
    "## Spojitý případ\n",
    "\n",
    "Povíme si více pouze o spojitém případu, protože už víme, že diskrétní je obdobný, jen vyměníme integrály za sumy a hustoty za pravděpodobnosti.\n",
    "\n",
    "**Sdružená distribuční funkce $[x_1,\\ldots,x_n]$ ([wiki](https://en.wikipedia.org/wiki/Joint_probability_distribution))** - integrál sdružené hustoty přes všechny veličiny\n",
    "\n",
    "$$\n",
    "F(x_1,\\ldots,x_n) = \\int_{-\\infty}^{x_1} \\cdots \\int_{-\\infty}^{x_n} f(u_1,\\ldots, u_n) du_1\\ldots du_n.\n",
    "$$\n",
    "\n",
    "**Sdruženou hustotu $[x_1,\\ldots,x_n]$** dostaneme naopak ze sdružené distribuční funkce derivacemi přes všechny proměnné,\n",
    "\n",
    "$$\n",
    "f(x_1,\\ldots,x_n) = \\frac{\\partial^n F(x_1,\\ldots,x_n)}{\\partial x_1\\cdots\\partial x_n}.\n",
    "$$\n",
    "\n",
    "**Marginální hustota veličiny $X_1$** - dostaneme vyintegrováním všech ostatních veličin přes celý obor,\n",
    "\n",
    "$$\n",
    "f(x_1) = \\int_\\mathbb{R}\\cdots\\int_\\mathbb{R} f(x_1,\\ldots,x_n) dx_2\\ldots dx_n.\n",
    "$$\n",
    "\n",
    "Analogicky zavádíme **marginální distribuční funkci** $F(x_1)=F(x_1,\\infty,\\ldots,\\infty)$. Marginální hustoty i distribuční funkce mohou být definovány i pro libovolnou podmnožinu náhodných veličin ze souboru, ne jen pro jednu.\n",
    "\n",
    "**Podmíněná hustota** - vzpomeňte si, jak byla definována podmíněná pravděpodobnost. Zde je to podobné,\n",
    "\n",
    "$$\n",
    "f(x_1|x_2,\\ldots,x_n) = \\frac{f(x_1,\\ldots,x_n)}{f(x_2,\\ldots,x_n)}.\n",
    "$$\n",
    "\n",
    "To plyne z tzv. řetězového pravidla\n",
    "\n",
    "$$\n",
    "f(x_1,x_2,\\ldots,x_n) = f(x_1|x_2,\\ldots,x_n)\\cdot f(x_2,\\ldots,x_n).\n",
    "$$\n",
    "\n",
    "Opět na pravé straně může být libovolná náhodná veličina či část jejich souboru. S podmíněnou hustotou můžeme počítat podmíněnou střední hodnotu aj."
   ]
  },
  {
   "cell_type": "markdown",
   "metadata": {},
   "source": [
    "## Nezávislost [wiki](https://en.wikipedia.org/wiki/Independence_(probability_theory&#41;)\n",
    "\n",
    "Řekneme, že $X_1,\\ldots,X_n$ jsou nezávislé náhodné veličiny, pokud pro všechna reálná $x_1,\\ldots,x_n$ platí\n",
    "\n",
    "$$\n",
    "F(x_1,\\ldots,x_n) = F_1(x_1)\\cdots F_n(x_n).\n",
    "$$\n",
    "\n",
    "Nebo analogicky, pro **hustotu pravděpodobnosti nezávislých veličin** platí\n",
    "\n",
    "$$\n",
    "f(x_1,\\ldots,x_n) = f_1(x_1)\\cdots f_n(x_n).\n",
    "$$\n",
    "\n",
    "*Vzpomeňte, jak to bylo s pravděpodobnostmi a podmíněnými pravděpodobnostmi jevů při nezávislosti! Stejným způsobem zde ověřujeme nezávislost.*\n",
    "\n",
    "Pro **střední hodnotu** součinu **nezávislých** náhodných veličin platí\n",
    "\n",
    "$$\n",
    "E(X_1\\cdots X_n) = EX_1\\cdots EX_n\n",
    "$$\n",
    "\n",
    "a pro **varianci** jejich součtu\n",
    "\n",
    "$$\n",
    "\\operatorname{var}(X_1+\\ldots+X_n) = \\operatorname{var}X_1 + \\ldots + \\operatorname{var} X_n.\n",
    "$$\n",
    "\n",
    "Pokud pro dvě veličiny platí platí\n",
    "\n",
    "$$\n",
    "\\operatorname{cov}(X,Y) = 0,\n",
    "$$\n",
    "\n",
    "říkáme, že jsou **nekorelované**. Nezávislé veličiny jsou nekorelované, opačná implikace ale neplatí. Stejně tak to neplatí u střední hodnoty."
   ]
  },
  {
   "cell_type": "markdown",
   "metadata": {},
   "source": [
    "## Součty veličin\n",
    "\n",
    "Pro náhodné veličiny $X,Y$ s konečnými druhými momenty platí:\n",
    "\n",
    "$$\n",
    "\\begin{align}\n",
    "E(X+Y) &= EX + EY \\\\\n",
    "\\operatorname{var}(X+Y) &= \\operatorname{var}X + \\operatorname{var}Y  + 2\\operatorname{cov}(X,Y).\n",
    "\\end{align}\n",
    "$$\n",
    "\n",
    "Zde je i jasné, proč nezávislé veličiny mají výše uvedený zjednodušený vztah pro varianci jejich součtu. Distribuci součtu potom zjišťujeme [konvolucí](https://en.wikipedia.org/wiki/Convolution)."
   ]
  },
  {
   "cell_type": "markdown",
   "metadata": {},
   "source": [
    "## Příklad (7.1)\n",
    "**Nechť náhodný vektor $(X,Y)$ má sdruženou hustotu (pravděpodobnostní funkci ;))**\n",
    "\n",
    "| **X\\Y** | **0**   | **1/2**   | **1** |\n",
    "| ---     | --- | ------------- | --- |\n",
    "| **1**   | 0.4 | 0.15          | 0.05|\n",
    "| **2**   | 0.3 | 0.06          | 0.04|\n",
    "\n",
    "**Najděte:**\n",
    "\n",
    "**a) Marginální rozdělení náhodných veličin $X$ a $Y$.**\n",
    "\n",
    "Vysčítáme řádky (pro $X$) a sloupce (pro $Y$) - doplním do tabulky:\n",
    "\n",
    "| **X\\Y** | **0**   | **1/2**   | **1** | **P(X)** |\n",
    "| ---     | --- | ------------- | --- | --- |\n",
    "| **1**   | 0.4 | 0.15          | 0.05| **0.6** |\n",
    "| **2**   | 0.3 | 0.06          | 0.04| **0.4** |\n",
    "| **P(Y)**|**0.7**| **0.21** | **0.09** | |\n",
    "\n",
    "**b) Jsou $X$ a $Y$ nezávislé?**\n",
    "\n",
    "Nejsou, $P(X,Y)\\ne P(X)P(Y)$, a totéž **v důsledku** neplatí ani pro střední hodnoty.\n",
    "\n",
    "**c) Spočtěte $EZ = E(X+2Y).$**\n",
    "\n",
    "Snadno podle vzorce,\n",
    "\n",
    "$$\n",
    "EZ = E(X+2Y) = EX + 2EY =\n",
    "\\underbrace{1\\cdot 0.6 + 2\\cdot 0.4}_{EX} \n",
    "+ \\underbrace{2\\left(0\\cdot0.7 + \\frac{1}{2}\\cdot0.21 + 1\\cdot0.09\\right)}_{2EY} = 1.79.\n",
    "$$\n",
    "\n",
    "**d) Najděte podmíněné rozdělení pro $X$ dáno $Y=y$.**\n",
    "\n",
    "Opět snadno podle vzorce,\n",
    "\n",
    "$$\n",
    "P(X|Y=y) = \\frac{P(X,Y)}{P(Y)},\n",
    "$$\n",
    "\n",
    "tedy jen podělíme tabulku hodnotami $P(Y)$,\n",
    "\n",
    "| **X\\Y** | **0**   | **1/2**   | **1** |\n",
    "| ---     | --- | ------------- | --- |\n",
    "| **1**   | 4/7 | 0.15/0.21=5/7 | 5/9 |\n",
    "| **2**   | 3/7 | 0.06/0.21=2/7 | 4/9 |\n",
    "\n",
    "**(Vysvětlete, jaké jsou součty řádků a sloupců a proč!)**\n",
    "\n",
    "**e) Najděte podmíněné rozdělení $X+2Y$ dáno $Y=y$.**\n",
    "\n",
    "Vezmeme si na pomoc předchozí tabulku a nezapomeneme místo hodnot $y$ uvažovat hodnoty $2y$. Pak jen kopírujeme čísla do příslušných buněk.\n",
    "\n",
    "| **X+2Y\\Y** | **0**   | **1/2**   | **1** |\n",
    "| ---   | --- | ------------- | --- |\n",
    "| **1** | 4/7 | 0 | 0 |\n",
    "| **2** | 3/7 | 5/7 | 0 |\n",
    "| **3** |   0 | 2/7 | 5/9 |\n",
    "| **4** |  0 | 0 | 4/9 |\n",
    "\n",
    "**f) Najděte rozdělení náhodné veličiny $Z=X+2Y$.**"
   ]
  },
  {
   "cell_type": "markdown",
   "metadata": {},
   "source": [
    "## Příklad (7.2)\n",
    "\n",
    "**Nechť náhodné veličiny $X,Y$ mají sdruženou hustotu**\n",
    "\n",
    "$$\n",
    "f(x,y) =\n",
    "\\begin{cases}\n",
    "\\frac{1}{5}(4xy + 4x - 8y) &\\text{pro}\\ 1\\leq x \\leq 2, 0\\leq y \\leq 1,\\\\\n",
    "0 &\\text{jinde.}\n",
    "\\end{cases}\n",
    "$$\n",
    "\n",
    "**a) Jsou $X$ a $Y$ nezávislé?**\n",
    "\n",
    "Z definice, ověříme zda $f(x,y) = f(x)\\cdot f(y)$.\n",
    "\n",
    "$$\n",
    "\\begin{align}\n",
    "f(x) &= \\int_{\\mathbb{R}} f(x,y) dy = \\frac{1}{5}\\int_0^1 4xy + 4x -8y dy \n",
    "= \\frac{1}{5}(6x-4), \\\\\n",
    "f(y) &= \\int_{\\mathbb{R}} f(x,y) dx = \\frac{1}{5}\\int_1^2 4xy -4x -8y dx =\n",
    "\\frac{1}{5}(6-2y).\n",
    "\\end{align}\n",
    "$$\n",
    "\n",
    "Nejsou zřejmě nezávislé, neboť nesplňují výše uvedenou podmínku."
   ]
  },
  {
   "cell_type": "code",
   "execution_count": 2,
   "metadata": {},
   "outputs": [
    {
     "name": "stdout",
     "output_type": "stream",
     "text": [
      "f(x)= 1.2*x - 0.8 \n",
      "f(y)= -0.4*y + 1.2\n"
     ]
    }
   ],
   "source": [
    "x, y = symbols('x y')\n",
    "f = 1/5 * (4*x*y + 4*x - 8*y)\n",
    "\n",
    "fx = integrate(f, (y, 0, 1))\n",
    "fy = integrate(f, (x, 1, 2))\n",
    "print('f(x)=', fx, '\\nf(y)=', fy)"
   ]
  },
  {
   "cell_type": "markdown",
   "metadata": {},
   "source": [
    "**b) Najděte $E(X+Y)$.**\n",
    "\n",
    "Máme $f(x)$ a $f(y)$ a víme, že $EX=\\int_{\\mathbb{R}} x\\cdot f(x)dx$, analogicky pro $EY$ a také víme, že střední hodnota je lineární zobrazení, tedy $E(X+Y) = EX + EY$. Spočteme příslušné integrály (na souvisejících intervalech) a dostaneme $\\frac{31}{15}$, neboli"
   ]
  },
  {
   "cell_type": "code",
   "execution_count": 3,
   "metadata": {},
   "outputs": [
    {
     "name": "stdout",
     "output_type": "stream",
     "text": [
      "E(X+Y)= 2.06666666666667\n"
     ]
    }
   ],
   "source": [
    "EX = integrate(x*fx, (x, 1, 2))\n",
    "EY = integrate(y*fy, (y, 0, 1))\n",
    "print('E(X+Y)=', EX+EY)"
   ]
  },
  {
   "cell_type": "markdown",
   "metadata": {},
   "source": [
    "**c) Najděte podmíněnou hustotu $f_{Y|X}(y|x)$.**\n",
    "\n",
    "Opět známe už z pravděpodobnosti,\n",
    "\n",
    "$$\n",
    "f_{Y|X}(Y|X=x) = \\frac{f(x,y)}{f(x)} = \\frac{2xy + 2x - 4y}{3x - 2}.\n",
    "$$"
   ]
  },
  {
   "cell_type": "code",
   "execution_count": 4,
   "metadata": {},
   "outputs": [
    {
     "name": "stdout",
     "output_type": "stream",
     "text": [
      "f(y|X=x)= (0.8*x*y + 0.8*x - 1.6*y)/(1.2*x - 0.8)\n"
     ]
    }
   ],
   "source": [
    "print('f(y|X=x)=', simplify(f/fx))"
   ]
  },
  {
   "cell_type": "markdown",
   "metadata": {},
   "source": [
    "**d) Najděte $E(X|Y=y)$.**\n",
    "\n",
    "Snadno podle\n",
    "\n",
    "$$\n",
    "E(X|Y=y) = \\int_\\mathbb{R} x f(x|y) dx = \\frac{14-4y}{9-3y}.\n",
    "$$"
   ]
  },
  {
   "cell_type": "markdown",
   "metadata": {},
   "source": [
    "## Příklad (7.3)\n",
    "\n",
    "**Nechť náhodné veličiny $X$ a $Y$ mají sdruženou hustotu**\n",
    "\n",
    "$$\n",
    "f(x,y) =\n",
    "\\begin{cases}\n",
    "\\frac{1}{2} y e^{-(x-y^2)/2} &\\text{pro}\\ x,y>0,\\\\\n",
    "0 &\\text{jinde.}\n",
    "\\end{cases}\n",
    "$$\n",
    "\n",
    "**a) Jsou $X$ a $Y$ nezávislé?**\n",
    "\n",
    "Spočteme příslušné marginální hustoty:\n",
    "\n",
    "$$\n",
    "\\begin{align}\n",
    "f_X(x) &= \\int_{\\mathbb{R}} f(x,y) dy = \\int_0^\\infty \\frac{1}{2} y e^{(-x-y^2)/2}dy = \\frac{1}{2} e^{-\\frac{x}{2}}\\int_0^\\infty ye^{-\\frac{y}{2}} dy \\\\ &= |\\text{substitucí}| = \\frac{1}{2}e^{-\\frac{x}{2}} \\cdot \\left[ -e^{-\\frac{y^2}{2}} \\right]_0^\\infty = \\frac{1}{2}e^{-\\frac{x}{2}},\n",
    "\\\\\n",
    "f_Y(y) &= \\int_{\\mathbb{R}} f(x,y) dx = \\frac{1}{2}ye^{-\\frac{y^2}{2}} \\int_0^\\infty e^{-\\frac{x}{2}}dx = \\frac{1}{2}ye^{-\\frac{y^2}{2}}\\cdot \\left[-2e^{-\\frac{x}{2}} \\right]_0^\\infty = ye^{-\\frac{y^2}{2}}.\n",
    "\\end{align}\n",
    "$$\n",
    "\n",
    "Pronásobením vidíme, že $f_X(x)f_Y(y) = f(x,y)$, veličiny jsou tedy nezávislé. V `sympy`:"
   ]
  },
  {
   "cell_type": "code",
   "execution_count": 14,
   "metadata": {},
   "outputs": [
    {
     "name": "stdout",
     "output_type": "stream",
     "text": [
      "f(x) =  0.5*exp(-x/2)\n",
      "f(y) =  1.0*y*exp(-y**2/2)\n",
      "f(x)f(y) =  0.5*y*exp(-x/2)*exp(-y**2/2)\n",
      "f(x)f(y) = f(x,y) True\n"
     ]
    }
   ],
   "source": [
    "fxy = 1/2 * y * exp((-x-y**2)/2)\n",
    "fx = integrate(fxy, (y, 0, oo))\n",
    "fy = integrate(fxy, (x, 0, oo))\n",
    "print('f(x) = ', fx)\n",
    "print('f(y) = ', fy)\n",
    "print('f(x)f(y) = ', fx*fy)\n",
    "print('f(x)f(y) = f(x,y)', simplify(fx*fy)==simplify(fxy))"
   ]
  },
  {
   "cell_type": "markdown",
   "metadata": {},
   "source": [
    "**b) Najděte $E(X+Y)$.**\n",
    "\n",
    "Snadno z definice $E(X+Y) = EX + EY$ a z informace, že \n",
    "\n",
    "$$\n",
    "\\int_0^\\infty y^2 e^{-ay^2}dy = \\frac{\\sqrt{\\pi}}{4a^{\\frac{3}{2}}}.\n",
    "$$\n",
    "\n",
    "Tedy\n",
    "\n",
    "$$\n",
    "\\begin{align}\n",
    "EX &= \\int_\\mathbb{R} x f_X(x) dx = \\int_0^\\infty x \\cdot \\frac{1}{2}e^{-\\frac{x}{2}} dx \\\\ &= \\frac{1}{2} \\int_0^\\infty x\\cdot  e^{-\\frac{x}{2}}dx = |\\text{per partes, $u=x, v'=e^{-x/2}$}| = 2,\\\\\n",
    "EY &= \\int_\\mathbb{R} y\\cdot f_Y(y) dy = \\frac{\\sqrt{2\\pi}}{2}.\n",
    "\\end{align}\n",
    "$$\n",
    "\n",
    "Pro střední hodnotu součtu tedy dostaneme\n",
    "\n",
    "$$\n",
    "E(X+Y) = EX + EY = 2+\\frac{\\sqrt{2\\pi}}{2}.\n",
    "$$"
   ]
  },
  {
   "cell_type": "code",
   "execution_count": 29,
   "metadata": {},
   "outputs": [
    {
     "name": "stdout",
     "output_type": "stream",
     "text": [
      "EX =  2.00000000000000\n",
      "EY =  0.5*sqrt(2)*sqrt(pi)\n",
      "EX + EY =  0.5*sqrt(2)*sqrt(pi) + 2.0\n"
     ]
    }
   ],
   "source": [
    "EX = integrate(x*fx, (x, 0, oo))\n",
    "EY = integrate(y*fy, (y, 0, oo))\n",
    "print('EX = ', EX)\n",
    "print('EY = ', EY)\n",
    "print('EX + EY = ', simplify(EX + EY))"
   ]
  },
  {
   "cell_type": "markdown",
   "metadata": {},
   "source": [
    "**c) Najděte $E(XY)$.**\n",
    "\n",
    "Zde využijeme zjištěnou nezávislost $X\\mathbb{\\perp} Y$, neboť tehdy platí, že $E(XY) = EX \\cdot EY$, z čehož rovnou plyne výsledek $\\sqrt{2\\pi}$."
   ]
  },
  {
   "cell_type": "markdown",
   "metadata": {},
   "source": [
    "## Příklad (7.4)\n",
    "\n",
    "**Nechť náhodné veličiny $X$ a $Y$ mají sdruženou hustotu**\n",
    "\n",
    "$$\n",
    "f(x,y) =\n",
    "\\begin{cases}\n",
    "8xy &\\text{pro}\\ 0\\leq x\\leq 1, 0\\leq y \\leq x, \\\\\n",
    "0   &\\text{jinde}.\n",
    "\\end{cases}\n",
    "$$\n",
    "\n",
    "**a) Jsou $X$ a $Y$ nezávislé?**\n",
    "\n",
    "Závislost celkem patrně plyne z definice $f(x,y)$, ověříme snadno výpočtem příslušných marginálních hustot, stejným způsobem, jako výše.\n",
    "\n",
    "**b) Najděte marginální hustotu $X$.**\n",
    "\n",
    "$$\n",
    "f_X(x) = \\int_\\mathbb{R} f(x,y)dy = \\int_0^x 8xy dx = 4x^3.\n",
    "$$\n",
    "\n",
    "**c) Určete $EX$**\n",
    "\n",
    "$$\n",
    "EX = \\int_\\mathbb{R} x\\cdot f_X(x) dx = \\int_0^1 4x^4dx = \\frac{4}{5}.\n",
    "$$"
   ]
  },
  {
   "cell_type": "markdown",
   "metadata": {},
   "source": [
    "## Příklad (7.5)\n",
    "**Nechť náhodné veličiny $X$ a $Y$ mají sdruženou hustotu**\n",
    "\n",
    "$$\n",
    "f(x,y) =\n",
    "\\begin{cases}\n",
    "\\frac{1}{3}(-4xy - 4x +8y +8) &\\text{pro} x\\in[1,2], y\\in[0,1],\\\\\n",
    "0   &\\text{jinde}.\n",
    "\\end{cases}\n",
    "$$\n",
    "\n",
    "**a) Jsou $X$ a $Y$ nezávislé?**\n",
    "\n",
    "Stačí spočítat marginální hustoty a ověřit $f(x,y) = f_X(x)\\cdot f_Y(y)$. Příklad je jednoduchý a odpověď je *ano, jsou nezávislé*."
   ]
  },
  {
   "cell_type": "code",
   "execution_count": 44,
   "metadata": {},
   "outputs": [
    {
     "name": "stdout",
     "output_type": "stream",
     "text": [
      "f(x) =  -2.0*x + 4.0\n",
      "f(y) =  0.666666666666667*y + 0.666666666666667\n"
     ]
    }
   ],
   "source": [
    "fxy = 1/3 * (-4*x*y - 4*x + 8*y + 8)\n",
    "fx = integrate(fxy, (y, 0, 1))\n",
    "fy = integrate(fxy, (x, 1, 2))\n",
    "print('f(x) = ', fx)\n",
    "print('f(y) = ', fy)"
   ]
  },
  {
   "cell_type": "markdown",
   "metadata": {},
   "source": [
    "**b) Najděte $E(X+Y)$**\n",
    "\n",
    "$$\n",
    "E(X+Y) = EX + EY = \\frac{17}{9}.\n",
    "$$"
   ]
  },
  {
   "cell_type": "code",
   "execution_count": 47,
   "metadata": {},
   "outputs": [
    {
     "name": "stdout",
     "output_type": "stream",
     "text": [
      "EX =  1.33333333333333\n",
      "EY =  0.555555555555555\n",
      "E(X+Y) = EX + EY =  1.88888888888889\n"
     ]
    }
   ],
   "source": [
    "EX = integrate(x*fx, (x, 1, 2))\n",
    "EY = integrate(y*fy, (y, 0, 1))\n",
    "print('EX = ', EX)\n",
    "print('EY = ', EY)\n",
    "print('E(X+Y) = EX + EY = ', EX + EY)"
   ]
  },
  {
   "cell_type": "markdown",
   "metadata": {},
   "source": [
    "**c) Najděte $E(XY)$**\n",
    "\n",
    "Z $X\\perp Y$ plyne $E(XY) = EX\\cdot EY = \\frac{20}{27}$."
   ]
  },
  {
   "cell_type": "code",
   "execution_count": 50,
   "metadata": {},
   "outputs": [
    {
     "name": "stdout",
     "output_type": "stream",
     "text": [
      "EX * EY =  0.740740740740741\n"
     ]
    }
   ],
   "source": [
    "print('EX * EY = ', EX*EY)"
   ]
  },
  {
   "cell_type": "markdown",
   "metadata": {},
   "source": [
    "## Příklad (7.6)\n",
    "**Nechť náhodné veličiny $X$ a $Y$ mají sdruženou hustotu**\n",
    "\n",
    "$$\n",
    "f(x,y) =\n",
    "\\begin{cases}\n",
    "\\frac{3}{8} xy^2 &\\text{pro}\\ x\\in[0,1], y\\in[-2,2],\\\\\n",
    "0   &\\text{jinde}.\n",
    "\\end{cases}\n",
    "$$\n",
    "\n",
    "**a) Najděte marginální hustotu veličiny $X$.**\n",
    "\n",
    "Snadno vyintegrováním $y$,\n",
    "\n",
    "$$\n",
    "f_X(x) = \\int_\\mathbb{R} f(x,y) dy = 2x.\n",
    "$$\n",
    "\n",
    "**b) Najděte podmíněnou hustotu $f_{Y|X}(y|x)$.**\n",
    "\n",
    "Snadno z definice\n",
    "\n",
    "$$\n",
    "f_{Y|X}(y|x) = \\frac{f(x,y)}{f_X(x)} = \\frac{3}{16}y^2.\n",
    "$$"
   ]
  },
  {
   "cell_type": "markdown",
   "metadata": {},
   "source": [
    "## Příklad (7.7)\n",
    "\n",
    "**Nechť $X_1$ a $X2$ jsou dvě nezávislé veličiny se střední hodnotou $\\mu$ a rozptylem $\\sigma^2$.**\n",
    "\n",
    "**a) Najděte střední hodnotu a rozptyl náhodných veličin v tabulce:**\n",
    "\n",
    "| veličina | $EY_i$ | $\\operatorname{var}Y_i$ |\n",
    "|---|---|---|\n",
    "|$Y_1 = X_1+X_2$ | ? | ? |\n",
    "|$Y_2 = 2X_1$| ? | ? |\n",
    "|$Y_3 = X_1-X_2$| ? | ? |\n",
    "\n",
    "Řešení - mysleme na transformace náhodných veličin, viz minulé cvičení!\n",
    "\n",
    "| veličina | $EY_i$ | $\\operatorname{var}Y_i$ |\n",
    "|---|---|---|\n",
    "|$Y_1 = X_1+X_2$ | $2\\mu$ | $2\\sigma^2$|\n",
    "|$Y_2 = 2X_1$| $2\\mu$ | $4\\sigma^2$ |\n",
    "|$Y_3 = X_1-X_2$| 0 | $2\\sigma^2$ |\n",
    "\n",
    "\n",
    "**b) Spočtěte kovarianci všech dvojic veličin $Y_i$**\n",
    "\n",
    "Kovariance najdeme v kovarianční matici náhodného vektoru $Y=[Y_1, Y_2, Y_3]$. Připomeňme, že $\\operatorname{cov}(A,B) = \\operatorname{cov}(B,A)$, matice bude tedy symetrická a na diagonále nalezneme variance veličin, neboť $\\operatorname{cov}(A,A) = \\operatorname{var}A$.\n",
    "\n",
    "$$\n",
    "\\operatorname{cov}(Y) =\n",
    "\\begin{bmatrix}\n",
    "2\\sigma^2 & 2\\sigma^2 & 0\\\\\n",
    "2\\sigma^2 & 4\\sigma^2 & 2\\sigma^2 \\\\\n",
    "0 & 2\\sigma^2 & 2\\sigma^2\n",
    "\\end{bmatrix}\n",
    "$$\n",
    "\n",
    "\n",
    "**c) Co lze říci o nezávislosti veličin $Y_1, Y_2, Y_3$?**\n",
    "\n",
    "Pohledem na definice veličin:\n",
    "\n",
    "- $Y_1, Y_2$ nejsou nezávislé\n",
    "- $Y_2, Y_3$ nejsou nezávislé\n",
    "- $Y_1, Y_3$ nelze rozhodnout"
   ]
  },
  {
   "cell_type": "markdown",
   "metadata": {},
   "source": [
    "## Příklad (7.8)\n",
    "**Nechť $X$ a $Y$ jsou nezávislé náhodné veličiny s geometrickým rozdělením s parametrem $p$. Určete:**\n",
    "\n",
    "**a) Rozdělení $\\min(X, Y)$,**\n",
    "\n",
    "Připomeňme, že distribuční funkce geom. rozdělení s parametrem $p$ je $P(X\\leq k) = 1-(1-p)^k$.\n",
    "\n",
    "$$\n",
    "P(\\min(X,Y)\\leq k) = 1-P(\\min(X,Y) > k) = 1 - P(\\{X>k\\}\\cap \\{Y>k\\})\n",
    "= 1-P(X>k)\\cdot P(Y>k) = 1-(1-p)^k\\cdot (1-p)^k = 1-[(1-p)^2]^k,\n",
    "$$\n",
    "\n",
    "což je distribuční funkce geometrického rozdělení s parametrem $1-(1-p)^2$.\n",
    "\n",
    "\n",
    "**b) $E(\\max\\{X,Y\\})$,**\n",
    "\n",
    "Protože \n",
    "\n",
    "$$\n",
    "\\max(X,Y) = X + Y - \\min(X,Y),\n",
    "$$\n",
    "\n",
    "máme s využitím výsledku z bodu (a)\n",
    "\n",
    "$$\n",
    "E(\\max(X,Y)) = EX + EY - E[\\min(X,Y)] = \\frac{1}{p} + \\frac{1}{p} - \\frac{1}{1-(1-p)^2}\n",
    "$$\n",
    "\n",
    "**c) rozdělení $\\max\\{X,Y\\}$,**\n",
    "\n",
    "tbd\n",
    "\n",
    "**d) $P(X<Y)$.**\n",
    "\n",
    "Jelikož \n",
    "\n",
    "$$1 = P(X<Y) + P(X=Y) + P(Y<X) = 2P(X<Y) + P(X=Y),$$\n",
    "\n",
    "dostaneme\n",
    "\n",
    "$$\n",
    "\\begin{align}\n",
    "P(X<Y) &= \\frac{1-P(X=Y)}{2} = \\frac{1-\\sum_{k=0}^\\infty P(X=k)P(Y=k)}{2}\n",
    "\\\\ &\n",
    "= \\frac{1-\\sum_{k=0}^\\infty [p(1-p)k]^2}{2} = \\frac{1+\\frac{p}{p-2}}{2}.\n",
    "\\end{align}\n",
    "$$\n",
    "---\n",
    "\n",
    "Pozn.: užitečná může být obecně následující formulka - [Tail-sum formula](https://en.wikipedia.org/wiki/Expected_value#Alternative_formula_for_expected_value) pro diskrétní veličinu s hodnotami v $\\{1,2,\\ldots\\}$ říká, že\n",
    "\n",
    "$$\n",
    "EX = \\sum_{k=1}^\\infty P(X> k).\n",
    "$$\n",
    "\n"
   ]
  }
 ],
 "metadata": {
  "kernelspec": {
   "display_name": "Python 3",
   "language": "python",
   "name": "python3"
  },
  "language_info": {
   "codemirror_mode": {
    "name": "ipython",
    "version": 3
   },
   "file_extension": ".py",
   "mimetype": "text/x-python",
   "name": "python",
   "nbconvert_exporter": "python",
   "pygments_lexer": "ipython3",
   "version": "3.6.7"
  }
 },
 "nbformat": 4,
 "nbformat_minor": 2
}
